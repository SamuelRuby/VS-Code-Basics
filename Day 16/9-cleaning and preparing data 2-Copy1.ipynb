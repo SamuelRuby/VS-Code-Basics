{
 "cells": [
  {
   "cell_type": "code",
   "execution_count": 1,
   "id": "5a075978",
   "metadata": {},
   "outputs": [
    {
     "name": "stdout",
     "output_type": "stream",
     "text": [
      "Requirement already satisfied: wordcloud in /Users/ruby/opt/anaconda3/lib/python3.9/site-packages (1.8.1)\n",
      "Requirement already satisfied: numpy>=1.6.1 in /Users/ruby/opt/anaconda3/lib/python3.9/site-packages (from wordcloud) (1.20.3)\n",
      "Requirement already satisfied: pillow in /Users/ruby/opt/anaconda3/lib/python3.9/site-packages (from wordcloud) (8.4.0)\n",
      "Requirement already satisfied: matplotlib in /Users/ruby/opt/anaconda3/lib/python3.9/site-packages (from wordcloud) (3.4.3)\n",
      "Requirement already satisfied: kiwisolver>=1.0.1 in /Users/ruby/opt/anaconda3/lib/python3.9/site-packages (from matplotlib->wordcloud) (1.3.1)\n",
      "Requirement already satisfied: python-dateutil>=2.7 in /Users/ruby/opt/anaconda3/lib/python3.9/site-packages (from matplotlib->wordcloud) (2.8.2)\n",
      "Requirement already satisfied: cycler>=0.10 in /Users/ruby/opt/anaconda3/lib/python3.9/site-packages (from matplotlib->wordcloud) (0.10.0)\n",
      "Requirement already satisfied: pyparsing>=2.2.1 in /Users/ruby/opt/anaconda3/lib/python3.9/site-packages (from matplotlib->wordcloud) (3.0.4)\n",
      "Requirement already satisfied: six in /Users/ruby/opt/anaconda3/lib/python3.9/site-packages (from cycler>=0.10->matplotlib->wordcloud) (1.16.0)\n",
      "\u001b[33mWARNING: You are using pip version 22.0.4; however, version 22.1.2 is available.\n",
      "You should consider upgrading via the '/Users/ruby/opt/anaconda3/bin/python -m pip install --upgrade pip' command.\u001b[0m\u001b[33m\n",
      "\u001b[0mRequirement already satisfied: textblob in /Users/ruby/opt/anaconda3/lib/python3.9/site-packages (0.17.1)\n",
      "Requirement already satisfied: nltk>=3.1 in /Users/ruby/opt/anaconda3/lib/python3.9/site-packages (from textblob) (3.6.5)\n",
      "Requirement already satisfied: click in /Users/ruby/opt/anaconda3/lib/python3.9/site-packages (from nltk>=3.1->textblob) (8.0.3)\n",
      "Requirement already satisfied: joblib in /Users/ruby/opt/anaconda3/lib/python3.9/site-packages (from nltk>=3.1->textblob) (1.1.0)\n",
      "Requirement already satisfied: regex>=2021.8.3 in /Users/ruby/opt/anaconda3/lib/python3.9/site-packages (from nltk>=3.1->textblob) (2021.8.3)\n",
      "Requirement already satisfied: tqdm in /Users/ruby/opt/anaconda3/lib/python3.9/site-packages (from nltk>=3.1->textblob) (4.62.3)\n",
      "\u001b[33mWARNING: You are using pip version 22.0.4; however, version 22.1.2 is available.\n",
      "You should consider upgrading via the '/Users/ruby/opt/anaconda3/bin/python -m pip install --upgrade pip' command.\u001b[0m\u001b[33m\n",
      "\u001b[0m"
     ]
    }
   ],
   "source": [
    "import pandas as pd\n",
    "!python -m pip install wordcloud\n",
    "!python -m pip install textblob\n",
    "from textblob import TextBlob\n",
    "from wordcloud import WordCloud\n",
    "import numpy as np\n",
    "import re\n",
    "import matplotlib.pyplot as plt\n",
    "plt.style.use('fivethirtyeight')"
   ]
  },
  {
   "cell_type": "code",
   "execution_count": 13,
   "id": "fb18ccda",
   "metadata": {},
   "outputs": [],
   "source": [
    "import sys\n",
    "from pathlib import Path\n",
    "from datetime import datetime"
   ]
  },
  {
   "cell_type": "code",
   "execution_count": null,
   "id": "12b3cbfe",
   "metadata": {},
   "outputs": [],
   "source": [
    "# check for existing linkedin data\n",
    "# if existing data exists, then union data, remove duplicates, and save data\n",
    "# if data does not exist, then only save data\n",
    "# import back in saved data \n",
    "my_file = Path('linkedin_data/linkedin_posts_df.csv')\n",
    "if my_file.is_file():\n",
    "    linkedin_posts_existing_df = pd.read_csv('linkedin_data/linkedin_posts_df.csv')\n",
    "    \n",
    "    linkedin_posts_df = pd \\\n",
    "        .concat([linkedin_posts_new_df, linkedin_posts_existing_df]) \\\n",
    "        .drop_duplicates(subset=['TEXT'], keep='first')\n",
    "    \n",
    "    linkedin_posts_df.to_csv('linkedin_data/linkedin_posts_df.csv', index=False)\n",
    "    linkedin_posts_df = pd.read_csv('linkedin_data/linkedin_posts_df.csv')\n",
    "else:\n",
    "    linkedin_posts_new_df.to_csv('linkedin_data/linkedin_posts_df.csv', index=False)\n",
    "    linkedin_posts_df = pd.read_csv('linkedin_data/linkedin_posts_df.csv')\n",
    "    \n",
    "    \n",
    "    \n",
    "    subsets = ['user', 'Tweet', 'Time', 'Date']\n",
    "df_test.drop_duplicates(subset =subsets, keep = False, inplace = True, ignore_index= True)\n",
    "df_test"
   ]
  },
  {
   "cell_type": "code",
   "execution_count": 2,
   "id": "a9a0b46b",
   "metadata": {},
   "outputs": [],
   "source": [
    "df = pd.read_csv('timeline_tweets_ukraine_week_past.csv')\n",
    "df[\"temp\"] = df['Time']\n",
    "df[\"Time\"] = df['Tweet']\n",
    "df[\"Tweet\"] = df[\"temp\"]\n",
    "del df[\"temp\"]\n",
    "df.to_csv('timeline_tweets_ukraine_week_past2.csv', index=False)"
   ]
  },
  {
   "cell_type": "code",
   "execution_count": 16,
   "id": "0b8be9ce",
   "metadata": {},
   "outputs": [
    {
     "ename": "KeyError",
     "evalue": "Index(['Date'], dtype='object')",
     "output_type": "error",
     "traceback": [
      "\u001b[0;31m---------------------------------------------------------------------------\u001b[0m",
      "\u001b[0;31mKeyError\u001b[0m                                  Traceback (most recent call last)",
      "\u001b[0;32m/var/folders/3q/3sbzpm556tn_jsn0vdddr77c0000gp/T/ipykernel_10650/2356090306.py\u001b[0m in \u001b[0;36m<module>\u001b[0;34m\u001b[0m\n\u001b[1;32m      6\u001b[0m     \u001b[0msubsets\u001b[0m \u001b[0;34m=\u001b[0m \u001b[0;34m[\u001b[0m\u001b[0;34m'user'\u001b[0m\u001b[0;34m,\u001b[0m \u001b[0;34m'Tweet'\u001b[0m\u001b[0;34m,\u001b[0m \u001b[0;34m'Time'\u001b[0m\u001b[0;34m,\u001b[0m \u001b[0;34m'Date'\u001b[0m\u001b[0;34m]\u001b[0m\u001b[0;34m\u001b[0m\u001b[0;34m\u001b[0m\u001b[0m\n\u001b[1;32m      7\u001b[0m \u001b[0;34m\u001b[0m\u001b[0m\n\u001b[0;32m----> 8\u001b[0;31m     \u001b[0mdf_merged2\u001b[0m \u001b[0;34m=\u001b[0m \u001b[0mpd\u001b[0m\u001b[0;34m.\u001b[0m\u001b[0mconcat\u001b[0m\u001b[0;34m(\u001b[0m\u001b[0mmap\u001b[0m\u001b[0;34m(\u001b[0m\u001b[0mpd\u001b[0m\u001b[0;34m.\u001b[0m\u001b[0mread_csv\u001b[0m\u001b[0;34m,\u001b[0m \u001b[0mcsv_files\u001b[0m\u001b[0;34m)\u001b[0m\u001b[0;34m,\u001b[0m \u001b[0mignore_index\u001b[0m\u001b[0;34m=\u001b[0m\u001b[0;32mFalse\u001b[0m\u001b[0;34m)\u001b[0m\u001b[0;31m \u001b[0m\u001b[0;31m\\\u001b[0m\u001b[0;34m\u001b[0m\u001b[0;34m\u001b[0m\u001b[0m\n\u001b[0m\u001b[1;32m      9\u001b[0m     \u001b[0;34m.\u001b[0m\u001b[0mdrop_duplicates\u001b[0m\u001b[0;34m(\u001b[0m\u001b[0msubset\u001b[0m\u001b[0;34m=\u001b[0m\u001b[0msubsets\u001b[0m\u001b[0;34m,\u001b[0m \u001b[0mkeep\u001b[0m \u001b[0;34m=\u001b[0m \u001b[0;32mFalse\u001b[0m\u001b[0;34m,\u001b[0m \u001b[0minplace\u001b[0m \u001b[0;34m=\u001b[0m \u001b[0;32mTrue\u001b[0m\u001b[0;34m,\u001b[0m \u001b[0mignore_index\u001b[0m\u001b[0;34m=\u001b[0m \u001b[0;32mTrue\u001b[0m\u001b[0;34m)\u001b[0m\u001b[0;34m\u001b[0m\u001b[0;34m\u001b[0m\u001b[0m\n\u001b[1;32m     10\u001b[0m     \u001b[0mdf_merged2\u001b[0m\u001b[0;34m[\u001b[0m\u001b[0;34m\"DateTimeStr\"\u001b[0m\u001b[0;34m]\u001b[0m \u001b[0;34m=\u001b[0m \u001b[0mdf_merged2\u001b[0m\u001b[0;34m[\u001b[0m\u001b[0;34m'Time'\u001b[0m\u001b[0;34m]\u001b[0m\u001b[0;34m\u001b[0m\u001b[0;34m\u001b[0m\u001b[0m\n",
      "\u001b[0;32m~/opt/anaconda3/lib/python3.9/site-packages/pandas/util/_decorators.py\u001b[0m in \u001b[0;36mwrapper\u001b[0;34m(*args, **kwargs)\u001b[0m\n\u001b[1;32m    309\u001b[0m                     \u001b[0mstacklevel\u001b[0m\u001b[0;34m=\u001b[0m\u001b[0mstacklevel\u001b[0m\u001b[0;34m,\u001b[0m\u001b[0;34m\u001b[0m\u001b[0;34m\u001b[0m\u001b[0m\n\u001b[1;32m    310\u001b[0m                 )\n\u001b[0;32m--> 311\u001b[0;31m             \u001b[0;32mreturn\u001b[0m \u001b[0mfunc\u001b[0m\u001b[0;34m(\u001b[0m\u001b[0;34m*\u001b[0m\u001b[0margs\u001b[0m\u001b[0;34m,\u001b[0m \u001b[0;34m**\u001b[0m\u001b[0mkwargs\u001b[0m\u001b[0;34m)\u001b[0m\u001b[0;34m\u001b[0m\u001b[0;34m\u001b[0m\u001b[0m\n\u001b[0m\u001b[1;32m    312\u001b[0m \u001b[0;34m\u001b[0m\u001b[0m\n\u001b[1;32m    313\u001b[0m         \u001b[0;32mreturn\u001b[0m \u001b[0mwrapper\u001b[0m\u001b[0;34m\u001b[0m\u001b[0;34m\u001b[0m\u001b[0m\n",
      "\u001b[0;32m~/opt/anaconda3/lib/python3.9/site-packages/pandas/core/frame.py\u001b[0m in \u001b[0;36mdrop_duplicates\u001b[0;34m(self, subset, keep, inplace, ignore_index)\u001b[0m\n\u001b[1;32m   6061\u001b[0m         \u001b[0minplace\u001b[0m \u001b[0;34m=\u001b[0m \u001b[0mvalidate_bool_kwarg\u001b[0m\u001b[0;34m(\u001b[0m\u001b[0minplace\u001b[0m\u001b[0;34m,\u001b[0m \u001b[0;34m\"inplace\"\u001b[0m\u001b[0;34m)\u001b[0m\u001b[0;34m\u001b[0m\u001b[0;34m\u001b[0m\u001b[0m\n\u001b[1;32m   6062\u001b[0m         \u001b[0mignore_index\u001b[0m \u001b[0;34m=\u001b[0m \u001b[0mvalidate_bool_kwarg\u001b[0m\u001b[0;34m(\u001b[0m\u001b[0mignore_index\u001b[0m\u001b[0;34m,\u001b[0m \u001b[0;34m\"ignore_index\"\u001b[0m\u001b[0;34m)\u001b[0m\u001b[0;34m\u001b[0m\u001b[0;34m\u001b[0m\u001b[0m\n\u001b[0;32m-> 6063\u001b[0;31m         \u001b[0mduplicated\u001b[0m \u001b[0;34m=\u001b[0m \u001b[0mself\u001b[0m\u001b[0;34m.\u001b[0m\u001b[0mduplicated\u001b[0m\u001b[0;34m(\u001b[0m\u001b[0msubset\u001b[0m\u001b[0;34m,\u001b[0m \u001b[0mkeep\u001b[0m\u001b[0;34m=\u001b[0m\u001b[0mkeep\u001b[0m\u001b[0;34m)\u001b[0m\u001b[0;34m\u001b[0m\u001b[0;34m\u001b[0m\u001b[0m\n\u001b[0m\u001b[1;32m   6064\u001b[0m \u001b[0;34m\u001b[0m\u001b[0m\n\u001b[1;32m   6065\u001b[0m         \u001b[0mresult\u001b[0m \u001b[0;34m=\u001b[0m \u001b[0mself\u001b[0m\u001b[0;34m[\u001b[0m\u001b[0;34m-\u001b[0m\u001b[0mduplicated\u001b[0m\u001b[0;34m]\u001b[0m\u001b[0;34m\u001b[0m\u001b[0;34m\u001b[0m\u001b[0m\n",
      "\u001b[0;32m~/opt/anaconda3/lib/python3.9/site-packages/pandas/core/frame.py\u001b[0m in \u001b[0;36mduplicated\u001b[0;34m(self, subset, keep)\u001b[0m\n\u001b[1;32m   6195\u001b[0m         \u001b[0mdiff\u001b[0m \u001b[0;34m=\u001b[0m \u001b[0mIndex\u001b[0m\u001b[0;34m(\u001b[0m\u001b[0msubset\u001b[0m\u001b[0;34m)\u001b[0m\u001b[0;34m.\u001b[0m\u001b[0mdifference\u001b[0m\u001b[0;34m(\u001b[0m\u001b[0mself\u001b[0m\u001b[0;34m.\u001b[0m\u001b[0mcolumns\u001b[0m\u001b[0;34m)\u001b[0m\u001b[0;34m\u001b[0m\u001b[0;34m\u001b[0m\u001b[0m\n\u001b[1;32m   6196\u001b[0m         \u001b[0;32mif\u001b[0m \u001b[0;32mnot\u001b[0m \u001b[0mdiff\u001b[0m\u001b[0;34m.\u001b[0m\u001b[0mempty\u001b[0m\u001b[0;34m:\u001b[0m\u001b[0;34m\u001b[0m\u001b[0;34m\u001b[0m\u001b[0m\n\u001b[0;32m-> 6197\u001b[0;31m             \u001b[0;32mraise\u001b[0m \u001b[0mKeyError\u001b[0m\u001b[0;34m(\u001b[0m\u001b[0mdiff\u001b[0m\u001b[0;34m)\u001b[0m\u001b[0;34m\u001b[0m\u001b[0;34m\u001b[0m\u001b[0m\n\u001b[0m\u001b[1;32m   6198\u001b[0m \u001b[0;34m\u001b[0m\u001b[0m\n\u001b[1;32m   6199\u001b[0m         \u001b[0mvals\u001b[0m \u001b[0;34m=\u001b[0m \u001b[0;34m(\u001b[0m\u001b[0mcol\u001b[0m\u001b[0;34m.\u001b[0m\u001b[0mvalues\u001b[0m \u001b[0;32mfor\u001b[0m \u001b[0mname\u001b[0m\u001b[0;34m,\u001b[0m \u001b[0mcol\u001b[0m \u001b[0;32min\u001b[0m \u001b[0mself\u001b[0m\u001b[0;34m.\u001b[0m\u001b[0mitems\u001b[0m\u001b[0;34m(\u001b[0m\u001b[0;34m)\u001b[0m \u001b[0;32mif\u001b[0m \u001b[0mname\u001b[0m \u001b[0;32min\u001b[0m \u001b[0msubset\u001b[0m\u001b[0;34m)\u001b[0m\u001b[0;34m\u001b[0m\u001b[0;34m\u001b[0m\u001b[0m\n",
      "\u001b[0;31mKeyError\u001b[0m: Index(['Date'], dtype='object')"
     ]
    }
   ],
   "source": [
    "my_file = Path ('/Users/ruby/Desktop/VS-Code-Basics/Day 16/timeline_tweets_ukraine_week_past2.csv')\n",
    "if my_file.is_file():\n",
    "    #df_merged2_exisiting = pd.read_csv('/Users/ruby/Desktop/VS-Code-Basics/Day 16/timeline_tweets_ukraine_week_past2.csv')\n",
    "    \n",
    "    csv_files = ['timeline_tweets_ukraine_week_past2.csv', 'timeline_tweets_putin_1000_without_retweets.csv']\n",
    "    subsets = ['user', 'Tweet', 'Time', 'Date']\n",
    "    \n",
    "    df_merged2 = pd.concat(map(pd.read_csv, csv_files), ignore_index=False) \\\n",
    "    .drop_duplicates(subset=subsets, keep = False, inplace = True, ignore_index= True)\n",
    "    df_merged2[\"DateTimeStr\"] = df_merged2['Time']\n",
    "    _format = '%Y-%m-%d %H-%M-%S'\n",
    "    dt_func = lambda dt_str: datetime.strptime(str(dt_str), _format) #convert datetime str to datetime obj\n",
    "    time_func = lambda dt_str: datetime.strptime(str(dt_str), _format).time() #convert datetime str to time\n",
    "    date_func = lambda dt_str: datetime.strptime(str(dt_str), _format).date() #convert datetime str to date\n",
    "    df_merged2[\"Date\"]= df_merged2[\"DateTimeStr\"].apply(dt_func)\n",
    "    df_merged2[\"Time\"]= df_merged2[\"DateTimeStr\"].apply(dt_func)\n",
    "\n",
    "           \n",
    "print (df_merged2)\n",
    "    \n",
    "        \n",
    "    "
   ]
  },
  {
   "cell_type": "code",
   "execution_count": null,
   "id": "46441daf",
   "metadata": {},
   "outputs": [],
   "source": [
    "#merging dataframe2\n",
    "#we already imported pandas up above\n",
    "# merging multiple csv files\n",
    "\n",
    "csv_files = [\n",
    "    'timeline_tweets_ukraine_week_past2.csv',\n",
    "    'timeline_tweets_putin_1000_without_retweets.csv'\n",
    "]\n",
    "df_merged2 = pd.concat(map(pd.read_csv, csv_files), ignore_index=True)\n",
    "print(df_merged2)"
   ]
  },
  {
   "cell_type": "code",
   "execution_count": null,
   "id": "bab86a9b",
   "metadata": {},
   "outputs": [],
   "source": []
  },
  {
   "cell_type": "code",
   "execution_count": null,
   "id": "c71353db",
   "metadata": {},
   "outputs": [],
   "source": [
    "df_merged2['Time']"
   ]
  },
  {
   "cell_type": "code",
   "execution_count": null,
   "id": "8ffdeccd",
   "metadata": {},
   "outputs": [],
   "source": [
    "#it does string replace and splicing\n",
    "\n",
    "df_merged2['Time']= df_merged2['Time'].apply(lambda x:x.replace(':', '-')[:-6]) #last part is to remove the extra miliseconds\n",
    "df_merged2['Time']"
   ]
  },
  {
   "cell_type": "code",
   "execution_count": null,
   "id": "24ec0d4c",
   "metadata": {},
   "outputs": [],
   "source": [
    "#column reshuffling #created.a new column and put all the values in the time column here\n",
    "df_merged2[\"DateTimeStr\"] = df_merged2['Time']\n",
    "print(df_merged2)"
   ]
  },
  {
   "cell_type": "code",
   "execution_count": null,
   "id": "8a4e6f86",
   "metadata": {},
   "outputs": [],
   "source": [
    "from datetime import datetime\n",
    "_format = '%Y-%m-%d %H-%M-%S'\n",
    "dt_func = lambda dt_str: datetime.strptime(str(dt_str), _format) #convert datetime str to datetime obj\n",
    "time_func = lambda dt_str: datetime.strptime(str(dt_str), _format).time() #convert datetime str to time\n",
    "date_func = lambda dt_str: datetime.strptime(str(dt_str), _format).date() #convert datetime str to date\n",
    "df_merged2[\"Date\"]= df_merged2[\"DateTimeStr\"].apply(dt_func)\n",
    "df_merged2[\"Time\"]= df_merged2[\"DateTimeStr\"].apply(dt_func)\n"
   ]
  },
  {
   "cell_type": "code",
   "execution_count": null,
   "id": "48f1784e",
   "metadata": {},
   "outputs": [],
   "source": [
    "print(df_merged2[\"Date\"],\"\\n\"*2)\n",
    "print(df_merged2[\"Time\"],\"\\n\"*2)"
   ]
  },
  {
   "cell_type": "code",
   "execution_count": null,
   "id": "6759b88f",
   "metadata": {},
   "outputs": [],
   "source": [
    "df_merged2.info()"
   ]
  },
  {
   "cell_type": "code",
   "execution_count": null,
   "id": "4b520a1d",
   "metadata": {},
   "outputs": [],
   "source": [
    "column = ['DateTimeStr']\n",
    "df_merged2.drop(column, axis=1, inplace=True)\n",
    "df_merged2"
   ]
  },
  {
   "cell_type": "code",
   "execution_count": null,
   "id": "fcfa8073",
   "metadata": {},
   "outputs": [],
   "source": [
    "df_merged2.drop(df_merged2.columns[[0]], axis=1, inplace=True)\n",
    "df_merged2"
   ]
  },
  {
   "cell_type": "code",
   "execution_count": null,
   "id": "6bccc14b",
   "metadata": {},
   "outputs": [],
   "source": [
    "df_merged2.info()\n"
   ]
  },
  {
   "cell_type": "code",
   "execution_count": null,
   "id": "19197553",
   "metadata": {},
   "outputs": [],
   "source": []
  }
 ],
 "metadata": {
  "kernelspec": {
   "display_name": "Python 3 (ipykernel)",
   "language": "python",
   "name": "python3"
  },
  "language_info": {
   "codemirror_mode": {
    "name": "ipython",
    "version": 3
   },
   "file_extension": ".py",
   "mimetype": "text/x-python",
   "name": "python",
   "nbconvert_exporter": "python",
   "pygments_lexer": "ipython3",
   "version": "3.9.7"
  }
 },
 "nbformat": 4,
 "nbformat_minor": 5
}
