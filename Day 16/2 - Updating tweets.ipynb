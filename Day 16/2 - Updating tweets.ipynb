{
 "cells": [
  {
   "cell_type": "code",
   "execution_count": 1,
   "id": "f5f194d3",
   "metadata": {},
   "outputs": [],
   "source": [
    "import tweepy\n",
    "import webbrowser\n",
    "import time"
   ]
  },
  {
   "cell_type": "code",
   "execution_count": 2,
   "id": "f06a0a66",
   "metadata": {},
   "outputs": [
    {
     "data": {
      "text/plain": [
       "['/Users/ruby/Desktop/VS-Code-Basics/credentials.ini']"
      ]
     },
     "execution_count": 2,
     "metadata": {},
     "output_type": "execute_result"
    }
   ],
   "source": [
    "#to read ini file, where my credentials are stored\n",
    "import configparser\n",
    "config = configparser.ConfigParser()\n",
    "config.read('/Users/ruby/Desktop/VS-Code-Basics/credentials.ini')"
   ]
  },
  {
   "cell_type": "code",
   "execution_count": 3,
   "id": "1bd1a317",
   "metadata": {},
   "outputs": [],
   "source": [
    "#print(config['TWITTER_CREDENTIALS']['ACCESS_TOKEN'])\n",
    "\n",
    "#consumer_key = config['TWITTER_CREDENTIALS']['CONSUMER_API_KEY']\n",
    "\n",
    "cred = config[\"TWITTER_CREDENTIALS\"]\n",
    "consumer_key = cred[\"CONSUMER_API_KEY\"]\n",
    "consumer_secret = cred[\"CONSUMER_API_SECRET\"]\n",
    "access_token = cred[\"ACCESS_TOKEN\"]\n",
    "access_secret = cred[\"ACCESS_TOKEN_SECRET\"]"
   ]
  },
  {
   "cell_type": "code",
   "execution_count": 4,
   "id": "c8f29b35",
   "metadata": {},
   "outputs": [
    {
     "name": "stdout",
     "output_type": "stream",
     "text": [
      "https://api.twitter.com/oauth/authorize?oauth_token=nxUuNwAAAAABaXbPAAABgc3iwF8\n"
     ]
    }
   ],
   "source": [
    "callback_url = 'oob' #url/callback\n",
    "auth = tweepy.OAuthHandler(consumer_key, consumer_secret, callback_url) #oauth is a standerdized way of an authentication that allows the user to login in to the service you are trying to log into\n",
    "redirect_url = auth.get_authorization_url()\n",
    "print(redirect_url)"
   ]
  },
  {
   "cell_type": "code",
   "execution_count": 5,
   "id": "6c261d2d",
   "metadata": {},
   "outputs": [
    {
     "data": {
      "text/plain": [
       "True"
      ]
     },
     "execution_count": 5,
     "metadata": {},
     "output_type": "execute_result"
    }
   ],
   "source": [
    "webbrowser.open(redirect_url)"
   ]
  },
  {
   "cell_type": "code",
   "execution_count": 6,
   "id": "63cbd6d1",
   "metadata": {},
   "outputs": [
    {
     "name": "stdout",
     "output_type": "stream",
     "text": [
      "What is the pin value? 0KztUjUn96sBcccush3D752e2Sw1TM4g\n"
     ]
    }
   ],
   "source": [
    "user_pin_input = input('What is the pin value? ')"
   ]
  },
  {
   "cell_type": "code",
   "execution_count": 7,
   "id": "b747ee69",
   "metadata": {},
   "outputs": [
    {
     "data": {
      "text/plain": [
       "'0KztUjUn96sBcccush3D752e2Sw1TM4g'"
      ]
     },
     "execution_count": 7,
     "metadata": {},
     "output_type": "execute_result"
    }
   ],
   "source": [
    "user_pin_input"
   ]
  },
  {
   "cell_type": "code",
   "execution_count": 8,
   "id": "12671c24",
   "metadata": {},
   "outputs": [
    {
     "data": {
      "text/plain": [
       "('3028005622-TWInusX39SJOXscJ9wtsawKDl3Na5YfV1XI3o9n',\n",
       " 'CPeH5d30znW1RBDtx85iDDcWcEDRxKj1fHcz5BB2lOMjw')"
      ]
     },
     "execution_count": 8,
     "metadata": {},
     "output_type": "execute_result"
    }
   ],
   "source": [
    "auth.get_access_token(user_pin_input)"
   ]
  },
  {
   "cell_type": "code",
   "execution_count": 9,
   "id": "faa09f12",
   "metadata": {},
   "outputs": [],
   "source": [
    "api = tweepy.API(auth)"
   ]
  },
  {
   "cell_type": "code",
   "execution_count": 10,
   "id": "1d66b262",
   "metadata": {},
   "outputs": [],
   "source": [
    "me = api.verify_credentials()"
   ]
  },
  {
   "cell_type": "code",
   "execution_count": 11,
   "id": "c0d9f568",
   "metadata": {},
   "outputs": [
    {
     "name": "stdout",
     "output_type": "stream",
     "text": [
      "keghannruby\n"
     ]
    }
   ],
   "source": [
    "print (me.screen_name)"
   ]
  },
  {
   "cell_type": "code",
   "execution_count": 12,
   "id": "83f146fa",
   "metadata": {},
   "outputs": [],
   "source": [
    "new_status= api.update_status('Hola Gentes @keghannruby what up?')"
   ]
  },
  {
   "cell_type": "code",
   "execution_count": 13,
   "id": "a52771de",
   "metadata": {},
   "outputs": [
    {
     "data": {
      "text/plain": [
       "Status(_api=<tweepy.api.API object at 0x7fb08fbbc8b0>, _json={'created_at': 'Tue Jul 05 10:24:15 +0000 2022', 'id': 1544265898504093696, 'id_str': '1544265898504093696', 'text': 'Hola Gentes @keghannruby what up?', 'truncated': False, 'entities': {'hashtags': [], 'symbols': [], 'user_mentions': [{'screen_name': 'keghannruby', 'name': 'Queen', 'id': 3028005622, 'id_str': '3028005622', 'indices': [12, 24]}], 'urls': []}, 'source': '<a href=\"https://twitter.com/keghannruby\" rel=\"nofollow\">Coro-Dect</a>', 'in_reply_to_status_id': None, 'in_reply_to_status_id_str': None, 'in_reply_to_user_id': None, 'in_reply_to_user_id_str': None, 'in_reply_to_screen_name': None, 'user': {'id': 3028005622, 'id_str': '3028005622', 'name': 'Queen', 'screen_name': 'keghannruby', 'location': 'Wherever i should be', 'description': 'Biochemist | Doctor | Genetic Engineer | Data Scientist | Deltan | Violin lover| A Metaverse Coding Ninja', 'url': 'https://t.co/ZjYu19SVTs', 'entities': {'url': {'urls': [{'url': 'https://t.co/ZjYu19SVTs', 'expanded_url': 'https://youreajockey.wixsite.com/samuelruby', 'display_url': 'youreajockey.wixsite.com/samuelruby', 'indices': [0, 23]}]}, 'description': {'urls': []}}, 'protected': False, 'followers_count': 1026, 'friends_count': 1985, 'listed_count': 2, 'created_at': 'Tue Feb 10 11:01:44 +0000 2015', 'favourites_count': 121833, 'utc_offset': None, 'time_zone': None, 'geo_enabled': True, 'verified': False, 'statuses_count': 26933, 'lang': None, 'contributors_enabled': False, 'is_translator': False, 'is_translation_enabled': False, 'profile_background_color': 'C0DEED', 'profile_background_image_url': 'http://abs.twimg.com/images/themes/theme1/bg.png', 'profile_background_image_url_https': 'https://abs.twimg.com/images/themes/theme1/bg.png', 'profile_background_tile': False, 'profile_image_url': 'http://pbs.twimg.com/profile_images/1023651638572142592/XzrMBJdj_normal.jpg', 'profile_image_url_https': 'https://pbs.twimg.com/profile_images/1023651638572142592/XzrMBJdj_normal.jpg', 'profile_banner_url': 'https://pbs.twimg.com/profile_banners/3028005622/1506772411', 'profile_link_color': '1DA1F2', 'profile_sidebar_border_color': 'C0DEED', 'profile_sidebar_fill_color': 'DDEEF6', 'profile_text_color': '333333', 'profile_use_background_image': True, 'has_extended_profile': False, 'default_profile': True, 'default_profile_image': False, 'following': False, 'follow_request_sent': False, 'notifications': False, 'translator_type': 'none', 'withheld_in_countries': []}, 'geo': None, 'coordinates': None, 'place': None, 'contributors': None, 'is_quote_status': False, 'retweet_count': 0, 'favorite_count': 0, 'favorited': False, 'retweeted': False, 'lang': 'en'}, created_at=datetime.datetime(2022, 7, 5, 10, 24, 15, tzinfo=datetime.timezone.utc), id=1544265898504093696, id_str='1544265898504093696', text='Hola Gentes @keghannruby what up?', truncated=False, entities={'hashtags': [], 'symbols': [], 'user_mentions': [{'screen_name': 'keghannruby', 'name': 'Queen', 'id': 3028005622, 'id_str': '3028005622', 'indices': [12, 24]}], 'urls': []}, source='Coro-Dect', source_url='https://twitter.com/keghannruby', in_reply_to_status_id=None, in_reply_to_status_id_str=None, in_reply_to_user_id=None, in_reply_to_user_id_str=None, in_reply_to_screen_name=None, author=User(_api=<tweepy.api.API object at 0x7fb08fbbc8b0>, _json={'id': 3028005622, 'id_str': '3028005622', 'name': 'Queen', 'screen_name': 'keghannruby', 'location': 'Wherever i should be', 'description': 'Biochemist | Doctor | Genetic Engineer | Data Scientist | Deltan | Violin lover| A Metaverse Coding Ninja', 'url': 'https://t.co/ZjYu19SVTs', 'entities': {'url': {'urls': [{'url': 'https://t.co/ZjYu19SVTs', 'expanded_url': 'https://youreajockey.wixsite.com/samuelruby', 'display_url': 'youreajockey.wixsite.com/samuelruby', 'indices': [0, 23]}]}, 'description': {'urls': []}}, 'protected': False, 'followers_count': 1026, 'friends_count': 1985, 'listed_count': 2, 'created_at': 'Tue Feb 10 11:01:44 +0000 2015', 'favourites_count': 121833, 'utc_offset': None, 'time_zone': None, 'geo_enabled': True, 'verified': False, 'statuses_count': 26933, 'lang': None, 'contributors_enabled': False, 'is_translator': False, 'is_translation_enabled': False, 'profile_background_color': 'C0DEED', 'profile_background_image_url': 'http://abs.twimg.com/images/themes/theme1/bg.png', 'profile_background_image_url_https': 'https://abs.twimg.com/images/themes/theme1/bg.png', 'profile_background_tile': False, 'profile_image_url': 'http://pbs.twimg.com/profile_images/1023651638572142592/XzrMBJdj_normal.jpg', 'profile_image_url_https': 'https://pbs.twimg.com/profile_images/1023651638572142592/XzrMBJdj_normal.jpg', 'profile_banner_url': 'https://pbs.twimg.com/profile_banners/3028005622/1506772411', 'profile_link_color': '1DA1F2', 'profile_sidebar_border_color': 'C0DEED', 'profile_sidebar_fill_color': 'DDEEF6', 'profile_text_color': '333333', 'profile_use_background_image': True, 'has_extended_profile': False, 'default_profile': True, 'default_profile_image': False, 'following': False, 'follow_request_sent': False, 'notifications': False, 'translator_type': 'none', 'withheld_in_countries': []}, id=3028005622, id_str='3028005622', name='Queen', screen_name='keghannruby', location='Wherever i should be', description='Biochemist | Doctor | Genetic Engineer | Data Scientist | Deltan | Violin lover| A Metaverse Coding Ninja', url='https://t.co/ZjYu19SVTs', entities={'url': {'urls': [{'url': 'https://t.co/ZjYu19SVTs', 'expanded_url': 'https://youreajockey.wixsite.com/samuelruby', 'display_url': 'youreajockey.wixsite.com/samuelruby', 'indices': [0, 23]}]}, 'description': {'urls': []}}, protected=False, followers_count=1026, friends_count=1985, listed_count=2, created_at=datetime.datetime(2015, 2, 10, 11, 1, 44, tzinfo=datetime.timezone.utc), favourites_count=121833, utc_offset=None, time_zone=None, geo_enabled=True, verified=False, statuses_count=26933, lang=None, contributors_enabled=False, is_translator=False, is_translation_enabled=False, profile_background_color='C0DEED', profile_background_image_url='http://abs.twimg.com/images/themes/theme1/bg.png', profile_background_image_url_https='https://abs.twimg.com/images/themes/theme1/bg.png', profile_background_tile=False, profile_image_url='http://pbs.twimg.com/profile_images/1023651638572142592/XzrMBJdj_normal.jpg', profile_image_url_https='https://pbs.twimg.com/profile_images/1023651638572142592/XzrMBJdj_normal.jpg', profile_banner_url='https://pbs.twimg.com/profile_banners/3028005622/1506772411', profile_link_color='1DA1F2', profile_sidebar_border_color='C0DEED', profile_sidebar_fill_color='DDEEF6', profile_text_color='333333', profile_use_background_image=True, has_extended_profile=False, default_profile=True, default_profile_image=False, following=False, follow_request_sent=False, notifications=False, translator_type='none', withheld_in_countries=[]), user=User(_api=<tweepy.api.API object at 0x7fb08fbbc8b0>, _json={'id': 3028005622, 'id_str': '3028005622', 'name': 'Queen', 'screen_name': 'keghannruby', 'location': 'Wherever i should be', 'description': 'Biochemist | Doctor | Genetic Engineer | Data Scientist | Deltan | Violin lover| A Metaverse Coding Ninja', 'url': 'https://t.co/ZjYu19SVTs', 'entities': {'url': {'urls': [{'url': 'https://t.co/ZjYu19SVTs', 'expanded_url': 'https://youreajockey.wixsite.com/samuelruby', 'display_url': 'youreajockey.wixsite.com/samuelruby', 'indices': [0, 23]}]}, 'description': {'urls': []}}, 'protected': False, 'followers_count': 1026, 'friends_count': 1985, 'listed_count': 2, 'created_at': 'Tue Feb 10 11:01:44 +0000 2015', 'favourites_count': 121833, 'utc_offset': None, 'time_zone': None, 'geo_enabled': True, 'verified': False, 'statuses_count': 26933, 'lang': None, 'contributors_enabled': False, 'is_translator': False, 'is_translation_enabled': False, 'profile_background_color': 'C0DEED', 'profile_background_image_url': 'http://abs.twimg.com/images/themes/theme1/bg.png', 'profile_background_image_url_https': 'https://abs.twimg.com/images/themes/theme1/bg.png', 'profile_background_tile': False, 'profile_image_url': 'http://pbs.twimg.com/profile_images/1023651638572142592/XzrMBJdj_normal.jpg', 'profile_image_url_https': 'https://pbs.twimg.com/profile_images/1023651638572142592/XzrMBJdj_normal.jpg', 'profile_banner_url': 'https://pbs.twimg.com/profile_banners/3028005622/1506772411', 'profile_link_color': '1DA1F2', 'profile_sidebar_border_color': 'C0DEED', 'profile_sidebar_fill_color': 'DDEEF6', 'profile_text_color': '333333', 'profile_use_background_image': True, 'has_extended_profile': False, 'default_profile': True, 'default_profile_image': False, 'following': False, 'follow_request_sent': False, 'notifications': False, 'translator_type': 'none', 'withheld_in_countries': []}, id=3028005622, id_str='3028005622', name='Queen', screen_name='keghannruby', location='Wherever i should be', description='Biochemist | Doctor | Genetic Engineer | Data Scientist | Deltan | Violin lover| A Metaverse Coding Ninja', url='https://t.co/ZjYu19SVTs', entities={'url': {'urls': [{'url': 'https://t.co/ZjYu19SVTs', 'expanded_url': 'https://youreajockey.wixsite.com/samuelruby', 'display_url': 'youreajockey.wixsite.com/samuelruby', 'indices': [0, 23]}]}, 'description': {'urls': []}}, protected=False, followers_count=1026, friends_count=1985, listed_count=2, created_at=datetime.datetime(2015, 2, 10, 11, 1, 44, tzinfo=datetime.timezone.utc), favourites_count=121833, utc_offset=None, time_zone=None, geo_enabled=True, verified=False, statuses_count=26933, lang=None, contributors_enabled=False, is_translator=False, is_translation_enabled=False, profile_background_color='C0DEED', profile_background_image_url='http://abs.twimg.com/images/themes/theme1/bg.png', profile_background_image_url_https='https://abs.twimg.com/images/themes/theme1/bg.png', profile_background_tile=False, profile_image_url='http://pbs.twimg.com/profile_images/1023651638572142592/XzrMBJdj_normal.jpg', profile_image_url_https='https://pbs.twimg.com/profile_images/1023651638572142592/XzrMBJdj_normal.jpg', profile_banner_url='https://pbs.twimg.com/profile_banners/3028005622/1506772411', profile_link_color='1DA1F2', profile_sidebar_border_color='C0DEED', profile_sidebar_fill_color='DDEEF6', profile_text_color='333333', profile_use_background_image=True, has_extended_profile=False, default_profile=True, default_profile_image=False, following=False, follow_request_sent=False, notifications=False, translator_type='none', withheld_in_countries=[]), geo=None, coordinates=None, place=None, contributors=None, is_quote_status=False, retweet_count=0, favorite_count=0, favorited=False, retweeted=False, lang='en')"
      ]
     },
     "execution_count": 13,
     "metadata": {},
     "output_type": "execute_result"
    }
   ],
   "source": [
    "new_status.destroy()"
   ]
  },
  {
   "cell_type": "code",
   "execution_count": 16,
   "id": "a5118654",
   "metadata": {},
   "outputs": [
    {
     "data": {
      "text/plain": [
       "['__class__',\n",
       " '__delattr__',\n",
       " '__dict__',\n",
       " '__dir__',\n",
       " '__doc__',\n",
       " '__eq__',\n",
       " '__format__',\n",
       " '__ge__',\n",
       " '__getattribute__',\n",
       " '__getstate__',\n",
       " '__gt__',\n",
       " '__hash__',\n",
       " '__init__',\n",
       " '__init_subclass__',\n",
       " '__le__',\n",
       " '__lt__',\n",
       " '__module__',\n",
       " '__ne__',\n",
       " '__new__',\n",
       " '__reduce__',\n",
       " '__reduce_ex__',\n",
       " '__repr__',\n",
       " '__setattr__',\n",
       " '__sizeof__',\n",
       " '__slots__',\n",
       " '__str__',\n",
       " '__subclasshook__',\n",
       " '__weakref__',\n",
       " '_api',\n",
       " '_json',\n",
       " 'author',\n",
       " 'contributors',\n",
       " 'coordinates',\n",
       " 'created_at',\n",
       " 'destroy',\n",
       " 'entities',\n",
       " 'favorite',\n",
       " 'favorite_count',\n",
       " 'favorited',\n",
       " 'geo',\n",
       " 'id',\n",
       " 'id_str',\n",
       " 'in_reply_to_screen_name',\n",
       " 'in_reply_to_status_id',\n",
       " 'in_reply_to_status_id_str',\n",
       " 'in_reply_to_user_id',\n",
       " 'in_reply_to_user_id_str',\n",
       " 'is_quote_status',\n",
       " 'lang',\n",
       " 'parse',\n",
       " 'parse_list',\n",
       " 'place',\n",
       " 'retweet',\n",
       " 'retweet_count',\n",
       " 'retweeted',\n",
       " 'retweets',\n",
       " 'source',\n",
       " 'source_url',\n",
       " 'text',\n",
       " 'truncated',\n",
       " 'user']"
      ]
     },
     "execution_count": 16,
     "metadata": {},
     "output_type": "execute_result"
    }
   ],
   "source": [
    "dir(new_status)"
   ]
  },
  {
   "cell_type": "code",
   "execution_count": 17,
   "id": "378e4575",
   "metadata": {},
   "outputs": [
    {
     "data": {
      "text/plain": [
       "['__class__',\n",
       " '__delattr__',\n",
       " '__dict__',\n",
       " '__dir__',\n",
       " '__doc__',\n",
       " '__eq__',\n",
       " '__format__',\n",
       " '__ge__',\n",
       " '__getattribute__',\n",
       " '__gt__',\n",
       " '__hash__',\n",
       " '__init__',\n",
       " '__init_subclass__',\n",
       " '__le__',\n",
       " '__lt__',\n",
       " '__module__',\n",
       " '__ne__',\n",
       " '__new__',\n",
       " '__reduce__',\n",
       " '__reduce_ex__',\n",
       " '__repr__',\n",
       " '__setattr__',\n",
       " '__sizeof__',\n",
       " '__str__',\n",
       " '__subclasshook__',\n",
       " '__weakref__',\n",
       " 'add_list_member',\n",
       " 'add_list_members',\n",
       " 'auth',\n",
       " 'available_trends',\n",
       " 'cache',\n",
       " 'cached_result',\n",
       " 'chunked_upload',\n",
       " 'chunked_upload_append',\n",
       " 'chunked_upload_finalize',\n",
       " 'chunked_upload_init',\n",
       " 'closest_trends',\n",
       " 'create_block',\n",
       " 'create_favorite',\n",
       " 'create_friendship',\n",
       " 'create_list',\n",
       " 'create_media_metadata',\n",
       " 'create_mute',\n",
       " 'create_saved_search',\n",
       " 'delete_direct_message',\n",
       " 'destroy_block',\n",
       " 'destroy_favorite',\n",
       " 'destroy_friendship',\n",
       " 'destroy_list',\n",
       " 'destroy_mute',\n",
       " 'destroy_saved_search',\n",
       " 'destroy_status',\n",
       " 'geo_id',\n",
       " 'get_blocked_ids',\n",
       " 'get_blocks',\n",
       " 'get_direct_message',\n",
       " 'get_direct_messages',\n",
       " 'get_favorites',\n",
       " 'get_follower_ids',\n",
       " 'get_followers',\n",
       " 'get_friend_ids',\n",
       " 'get_friends',\n",
       " 'get_friendship',\n",
       " 'get_list',\n",
       " 'get_list_member',\n",
       " 'get_list_members',\n",
       " 'get_list_memberships',\n",
       " 'get_list_ownerships',\n",
       " 'get_list_subscriber',\n",
       " 'get_list_subscribers',\n",
       " 'get_list_subscriptions',\n",
       " 'get_lists',\n",
       " 'get_media_upload_status',\n",
       " 'get_muted_ids',\n",
       " 'get_mutes',\n",
       " 'get_oembed',\n",
       " 'get_place_trends',\n",
       " 'get_profile_banner',\n",
       " 'get_retweeter_ids',\n",
       " 'get_retweets',\n",
       " 'get_retweets_of_me',\n",
       " 'get_saved_search',\n",
       " 'get_saved_searches',\n",
       " 'get_settings',\n",
       " 'get_status',\n",
       " 'get_user',\n",
       " 'home_timeline',\n",
       " 'host',\n",
       " 'incoming_friendships',\n",
       " 'last_response',\n",
       " 'list_timeline',\n",
       " 'lookup_friendships',\n",
       " 'lookup_statuses',\n",
       " 'lookup_users',\n",
       " 'media_upload',\n",
       " 'mentions_timeline',\n",
       " 'no_retweets_friendships',\n",
       " 'outgoing_friendships',\n",
       " 'parser',\n",
       " 'proxy',\n",
       " 'rate_limit_status',\n",
       " 'remove_list_member',\n",
       " 'remove_list_members',\n",
       " 'remove_profile_banner',\n",
       " 'report_spam',\n",
       " 'request',\n",
       " 'retry_count',\n",
       " 'retry_delay',\n",
       " 'retry_errors',\n",
       " 'retweet',\n",
       " 'reverse_geocode',\n",
       " 'search_30_day',\n",
       " 'search_full_archive',\n",
       " 'search_geo',\n",
       " 'search_tweets',\n",
       " 'search_users',\n",
       " 'send_direct_message',\n",
       " 'session',\n",
       " 'set_settings',\n",
       " 'simple_upload',\n",
       " 'subscribe_list',\n",
       " 'supported_languages',\n",
       " 'timeout',\n",
       " 'unretweet',\n",
       " 'unsubscribe_list',\n",
       " 'update_friendship',\n",
       " 'update_list',\n",
       " 'update_profile',\n",
       " 'update_profile_banner',\n",
       " 'update_profile_image',\n",
       " 'update_status',\n",
       " 'update_status_with_media',\n",
       " 'upload_host',\n",
       " 'user_agent',\n",
       " 'user_timeline',\n",
       " 'verify_credentials',\n",
       " 'wait_on_rate_limit']"
      ]
     },
     "execution_count": 17,
     "metadata": {},
     "output_type": "execute_result"
    }
   ],
   "source": [
    "dir(api)"
   ]
  },
  {
   "cell_type": "code",
   "execution_count": 18,
   "id": "9057e52a",
   "metadata": {},
   "outputs": [],
   "source": [
    "img_obj= api.media_upload('img.png') #to upload #you can use the path"
   ]
  },
  {
   "cell_type": "code",
   "execution_count": 18,
   "id": "8ddf9086",
   "metadata": {},
   "outputs": [
    {
     "data": {
      "text/plain": [
       "['__class__',\n",
       " '__delattr__',\n",
       " '__dict__',\n",
       " '__dir__',\n",
       " '__doc__',\n",
       " '__eq__',\n",
       " '__format__',\n",
       " '__ge__',\n",
       " '__getattribute__',\n",
       " '__getstate__',\n",
       " '__gt__',\n",
       " '__hash__',\n",
       " '__init__',\n",
       " '__init_subclass__',\n",
       " '__le__',\n",
       " '__lt__',\n",
       " '__module__',\n",
       " '__ne__',\n",
       " '__new__',\n",
       " '__reduce__',\n",
       " '__reduce_ex__',\n",
       " '__repr__',\n",
       " '__setattr__',\n",
       " '__sizeof__',\n",
       " '__str__',\n",
       " '__subclasshook__',\n",
       " '__weakref__',\n",
       " '_api',\n",
       " 'expires_after_secs',\n",
       " 'image',\n",
       " 'media_id',\n",
       " 'media_id_string',\n",
       " 'parse',\n",
       " 'parse_list',\n",
       " 'size']"
      ]
     },
     "execution_count": 18,
     "metadata": {},
     "output_type": "execute_result"
    }
   ],
   "source": [
    "dir(img_obj)"
   ]
  },
  {
   "cell_type": "code",
   "execution_count": 19,
   "id": "18c7df17",
   "metadata": {},
   "outputs": [],
   "source": [
    "new_status= api.update_status('Hola Gentes @keghannruby what up? let me see all programmers screen', media_ids = [img_obj.media_id_string])"
   ]
  },
  {
   "cell_type": "code",
   "execution_count": 20,
   "id": "d1617bee",
   "metadata": {},
   "outputs": [
    {
     "data": {
      "text/plain": [
       "Status(_api=<tweepy.api.API object at 0x7fb08fbbc8b0>, _json={'created_at': 'Tue Jul 05 10:26:31 +0000 2022', 'id': 1544266467964772352, 'id_str': '1544266467964772352', 'text': 'Hola Gentes @keghannruby what up? let me see all programmers screen https://t.co/paZaT1f4Sc', 'truncated': False, 'entities': {'hashtags': [], 'symbols': [], 'user_mentions': [{'screen_name': 'keghannruby', 'name': 'Queen', 'id': 3028005622, 'id_str': '3028005622', 'indices': [12, 24]}], 'urls': [], 'media': [{'id': 1544266373395845122, 'id_str': '1544266373395845122', 'indices': [68, 91], 'media_url': 'http://pbs.twimg.com/media/FW5WFbDXEAInCO-.jpg', 'media_url_https': 'https://pbs.twimg.com/media/FW5WFbDXEAInCO-.jpg', 'url': 'https://t.co/paZaT1f4Sc', 'display_url': 'pic.twitter.com/paZaT1f4Sc', 'expanded_url': 'https://twitter.com/keghannruby/status/1544266467964772352/photo/1', 'type': 'photo', 'sizes': {'thumb': {'w': 150, 'h': 150, 'resize': 'crop'}, 'large': {'w': 2048, 'h': 1280, 'resize': 'fit'}, 'medium': {'w': 1200, 'h': 750, 'resize': 'fit'}, 'small': {'w': 680, 'h': 425, 'resize': 'fit'}}}]}, 'extended_entities': {'media': [{'id': 1544266373395845122, 'id_str': '1544266373395845122', 'indices': [68, 91], 'media_url': 'http://pbs.twimg.com/media/FW5WFbDXEAInCO-.jpg', 'media_url_https': 'https://pbs.twimg.com/media/FW5WFbDXEAInCO-.jpg', 'url': 'https://t.co/paZaT1f4Sc', 'display_url': 'pic.twitter.com/paZaT1f4Sc', 'expanded_url': 'https://twitter.com/keghannruby/status/1544266467964772352/photo/1', 'type': 'photo', 'sizes': {'thumb': {'w': 150, 'h': 150, 'resize': 'crop'}, 'large': {'w': 2048, 'h': 1280, 'resize': 'fit'}, 'medium': {'w': 1200, 'h': 750, 'resize': 'fit'}, 'small': {'w': 680, 'h': 425, 'resize': 'fit'}}}]}, 'source': '<a href=\"https://twitter.com/keghannruby\" rel=\"nofollow\">Coro-Dect</a>', 'in_reply_to_status_id': None, 'in_reply_to_status_id_str': None, 'in_reply_to_user_id': None, 'in_reply_to_user_id_str': None, 'in_reply_to_screen_name': None, 'user': {'id': 3028005622, 'id_str': '3028005622', 'name': 'Queen', 'screen_name': 'keghannruby', 'location': 'Wherever i should be', 'description': 'Biochemist | Doctor | Genetic Engineer | Data Scientist | Deltan | Violin lover| A Metaverse Coding Ninja', 'url': 'https://t.co/ZjYu19SVTs', 'entities': {'url': {'urls': [{'url': 'https://t.co/ZjYu19SVTs', 'expanded_url': 'https://youreajockey.wixsite.com/samuelruby', 'display_url': 'youreajockey.wixsite.com/samuelruby', 'indices': [0, 23]}]}, 'description': {'urls': []}}, 'protected': False, 'followers_count': 1026, 'friends_count': 1985, 'listed_count': 2, 'created_at': 'Tue Feb 10 11:01:44 +0000 2015', 'favourites_count': 121833, 'utc_offset': None, 'time_zone': None, 'geo_enabled': True, 'verified': False, 'statuses_count': 26933, 'lang': None, 'contributors_enabled': False, 'is_translator': False, 'is_translation_enabled': False, 'profile_background_color': 'C0DEED', 'profile_background_image_url': 'http://abs.twimg.com/images/themes/theme1/bg.png', 'profile_background_image_url_https': 'https://abs.twimg.com/images/themes/theme1/bg.png', 'profile_background_tile': False, 'profile_image_url': 'http://pbs.twimg.com/profile_images/1023651638572142592/XzrMBJdj_normal.jpg', 'profile_image_url_https': 'https://pbs.twimg.com/profile_images/1023651638572142592/XzrMBJdj_normal.jpg', 'profile_banner_url': 'https://pbs.twimg.com/profile_banners/3028005622/1506772411', 'profile_link_color': '1DA1F2', 'profile_sidebar_border_color': 'C0DEED', 'profile_sidebar_fill_color': 'DDEEF6', 'profile_text_color': '333333', 'profile_use_background_image': True, 'has_extended_profile': False, 'default_profile': True, 'default_profile_image': False, 'following': False, 'follow_request_sent': False, 'notifications': False, 'translator_type': 'none', 'withheld_in_countries': []}, 'geo': None, 'coordinates': None, 'place': None, 'contributors': None, 'is_quote_status': False, 'retweet_count': 0, 'favorite_count': 0, 'favorited': False, 'retweeted': False, 'possibly_sensitive': False, 'lang': 'en'}, created_at=datetime.datetime(2022, 7, 5, 10, 26, 31, tzinfo=datetime.timezone.utc), id=1544266467964772352, id_str='1544266467964772352', text='Hola Gentes @keghannruby what up? let me see all programmers screen https://t.co/paZaT1f4Sc', truncated=False, entities={'hashtags': [], 'symbols': [], 'user_mentions': [{'screen_name': 'keghannruby', 'name': 'Queen', 'id': 3028005622, 'id_str': '3028005622', 'indices': [12, 24]}], 'urls': [], 'media': [{'id': 1544266373395845122, 'id_str': '1544266373395845122', 'indices': [68, 91], 'media_url': 'http://pbs.twimg.com/media/FW5WFbDXEAInCO-.jpg', 'media_url_https': 'https://pbs.twimg.com/media/FW5WFbDXEAInCO-.jpg', 'url': 'https://t.co/paZaT1f4Sc', 'display_url': 'pic.twitter.com/paZaT1f4Sc', 'expanded_url': 'https://twitter.com/keghannruby/status/1544266467964772352/photo/1', 'type': 'photo', 'sizes': {'thumb': {'w': 150, 'h': 150, 'resize': 'crop'}, 'large': {'w': 2048, 'h': 1280, 'resize': 'fit'}, 'medium': {'w': 1200, 'h': 750, 'resize': 'fit'}, 'small': {'w': 680, 'h': 425, 'resize': 'fit'}}}]}, extended_entities={'media': [{'id': 1544266373395845122, 'id_str': '1544266373395845122', 'indices': [68, 91], 'media_url': 'http://pbs.twimg.com/media/FW5WFbDXEAInCO-.jpg', 'media_url_https': 'https://pbs.twimg.com/media/FW5WFbDXEAInCO-.jpg', 'url': 'https://t.co/paZaT1f4Sc', 'display_url': 'pic.twitter.com/paZaT1f4Sc', 'expanded_url': 'https://twitter.com/keghannruby/status/1544266467964772352/photo/1', 'type': 'photo', 'sizes': {'thumb': {'w': 150, 'h': 150, 'resize': 'crop'}, 'large': {'w': 2048, 'h': 1280, 'resize': 'fit'}, 'medium': {'w': 1200, 'h': 750, 'resize': 'fit'}, 'small': {'w': 680, 'h': 425, 'resize': 'fit'}}}]}, source='Coro-Dect', source_url='https://twitter.com/keghannruby', in_reply_to_status_id=None, in_reply_to_status_id_str=None, in_reply_to_user_id=None, in_reply_to_user_id_str=None, in_reply_to_screen_name=None, author=User(_api=<tweepy.api.API object at 0x7fb08fbbc8b0>, _json={'id': 3028005622, 'id_str': '3028005622', 'name': 'Queen', 'screen_name': 'keghannruby', 'location': 'Wherever i should be', 'description': 'Biochemist | Doctor | Genetic Engineer | Data Scientist | Deltan | Violin lover| A Metaverse Coding Ninja', 'url': 'https://t.co/ZjYu19SVTs', 'entities': {'url': {'urls': [{'url': 'https://t.co/ZjYu19SVTs', 'expanded_url': 'https://youreajockey.wixsite.com/samuelruby', 'display_url': 'youreajockey.wixsite.com/samuelruby', 'indices': [0, 23]}]}, 'description': {'urls': []}}, 'protected': False, 'followers_count': 1026, 'friends_count': 1985, 'listed_count': 2, 'created_at': 'Tue Feb 10 11:01:44 +0000 2015', 'favourites_count': 121833, 'utc_offset': None, 'time_zone': None, 'geo_enabled': True, 'verified': False, 'statuses_count': 26933, 'lang': None, 'contributors_enabled': False, 'is_translator': False, 'is_translation_enabled': False, 'profile_background_color': 'C0DEED', 'profile_background_image_url': 'http://abs.twimg.com/images/themes/theme1/bg.png', 'profile_background_image_url_https': 'https://abs.twimg.com/images/themes/theme1/bg.png', 'profile_background_tile': False, 'profile_image_url': 'http://pbs.twimg.com/profile_images/1023651638572142592/XzrMBJdj_normal.jpg', 'profile_image_url_https': 'https://pbs.twimg.com/profile_images/1023651638572142592/XzrMBJdj_normal.jpg', 'profile_banner_url': 'https://pbs.twimg.com/profile_banners/3028005622/1506772411', 'profile_link_color': '1DA1F2', 'profile_sidebar_border_color': 'C0DEED', 'profile_sidebar_fill_color': 'DDEEF6', 'profile_text_color': '333333', 'profile_use_background_image': True, 'has_extended_profile': False, 'default_profile': True, 'default_profile_image': False, 'following': False, 'follow_request_sent': False, 'notifications': False, 'translator_type': 'none', 'withheld_in_countries': []}, id=3028005622, id_str='3028005622', name='Queen', screen_name='keghannruby', location='Wherever i should be', description='Biochemist | Doctor | Genetic Engineer | Data Scientist | Deltan | Violin lover| A Metaverse Coding Ninja', url='https://t.co/ZjYu19SVTs', entities={'url': {'urls': [{'url': 'https://t.co/ZjYu19SVTs', 'expanded_url': 'https://youreajockey.wixsite.com/samuelruby', 'display_url': 'youreajockey.wixsite.com/samuelruby', 'indices': [0, 23]}]}, 'description': {'urls': []}}, protected=False, followers_count=1026, friends_count=1985, listed_count=2, created_at=datetime.datetime(2015, 2, 10, 11, 1, 44, tzinfo=datetime.timezone.utc), favourites_count=121833, utc_offset=None, time_zone=None, geo_enabled=True, verified=False, statuses_count=26933, lang=None, contributors_enabled=False, is_translator=False, is_translation_enabled=False, profile_background_color='C0DEED', profile_background_image_url='http://abs.twimg.com/images/themes/theme1/bg.png', profile_background_image_url_https='https://abs.twimg.com/images/themes/theme1/bg.png', profile_background_tile=False, profile_image_url='http://pbs.twimg.com/profile_images/1023651638572142592/XzrMBJdj_normal.jpg', profile_image_url_https='https://pbs.twimg.com/profile_images/1023651638572142592/XzrMBJdj_normal.jpg', profile_banner_url='https://pbs.twimg.com/profile_banners/3028005622/1506772411', profile_link_color='1DA1F2', profile_sidebar_border_color='C0DEED', profile_sidebar_fill_color='DDEEF6', profile_text_color='333333', profile_use_background_image=True, has_extended_profile=False, default_profile=True, default_profile_image=False, following=False, follow_request_sent=False, notifications=False, translator_type='none', withheld_in_countries=[]), user=User(_api=<tweepy.api.API object at 0x7fb08fbbc8b0>, _json={'id': 3028005622, 'id_str': '3028005622', 'name': 'Queen', 'screen_name': 'keghannruby', 'location': 'Wherever i should be', 'description': 'Biochemist | Doctor | Genetic Engineer | Data Scientist | Deltan | Violin lover| A Metaverse Coding Ninja', 'url': 'https://t.co/ZjYu19SVTs', 'entities': {'url': {'urls': [{'url': 'https://t.co/ZjYu19SVTs', 'expanded_url': 'https://youreajockey.wixsite.com/samuelruby', 'display_url': 'youreajockey.wixsite.com/samuelruby', 'indices': [0, 23]}]}, 'description': {'urls': []}}, 'protected': False, 'followers_count': 1026, 'friends_count': 1985, 'listed_count': 2, 'created_at': 'Tue Feb 10 11:01:44 +0000 2015', 'favourites_count': 121833, 'utc_offset': None, 'time_zone': None, 'geo_enabled': True, 'verified': False, 'statuses_count': 26933, 'lang': None, 'contributors_enabled': False, 'is_translator': False, 'is_translation_enabled': False, 'profile_background_color': 'C0DEED', 'profile_background_image_url': 'http://abs.twimg.com/images/themes/theme1/bg.png', 'profile_background_image_url_https': 'https://abs.twimg.com/images/themes/theme1/bg.png', 'profile_background_tile': False, 'profile_image_url': 'http://pbs.twimg.com/profile_images/1023651638572142592/XzrMBJdj_normal.jpg', 'profile_image_url_https': 'https://pbs.twimg.com/profile_images/1023651638572142592/XzrMBJdj_normal.jpg', 'profile_banner_url': 'https://pbs.twimg.com/profile_banners/3028005622/1506772411', 'profile_link_color': '1DA1F2', 'profile_sidebar_border_color': 'C0DEED', 'profile_sidebar_fill_color': 'DDEEF6', 'profile_text_color': '333333', 'profile_use_background_image': True, 'has_extended_profile': False, 'default_profile': True, 'default_profile_image': False, 'following': False, 'follow_request_sent': False, 'notifications': False, 'translator_type': 'none', 'withheld_in_countries': []}, id=3028005622, id_str='3028005622', name='Queen', screen_name='keghannruby', location='Wherever i should be', description='Biochemist | Doctor | Genetic Engineer | Data Scientist | Deltan | Violin lover| A Metaverse Coding Ninja', url='https://t.co/ZjYu19SVTs', entities={'url': {'urls': [{'url': 'https://t.co/ZjYu19SVTs', 'expanded_url': 'https://youreajockey.wixsite.com/samuelruby', 'display_url': 'youreajockey.wixsite.com/samuelruby', 'indices': [0, 23]}]}, 'description': {'urls': []}}, protected=False, followers_count=1026, friends_count=1985, listed_count=2, created_at=datetime.datetime(2015, 2, 10, 11, 1, 44, tzinfo=datetime.timezone.utc), favourites_count=121833, utc_offset=None, time_zone=None, geo_enabled=True, verified=False, statuses_count=26933, lang=None, contributors_enabled=False, is_translator=False, is_translation_enabled=False, profile_background_color='C0DEED', profile_background_image_url='http://abs.twimg.com/images/themes/theme1/bg.png', profile_background_image_url_https='https://abs.twimg.com/images/themes/theme1/bg.png', profile_background_tile=False, profile_image_url='http://pbs.twimg.com/profile_images/1023651638572142592/XzrMBJdj_normal.jpg', profile_image_url_https='https://pbs.twimg.com/profile_images/1023651638572142592/XzrMBJdj_normal.jpg', profile_banner_url='https://pbs.twimg.com/profile_banners/3028005622/1506772411', profile_link_color='1DA1F2', profile_sidebar_border_color='C0DEED', profile_sidebar_fill_color='DDEEF6', profile_text_color='333333', profile_use_background_image=True, has_extended_profile=False, default_profile=True, default_profile_image=False, following=False, follow_request_sent=False, notifications=False, translator_type='none', withheld_in_countries=[]), geo=None, coordinates=None, place=None, contributors=None, is_quote_status=False, retweet_count=0, favorite_count=0, favorited=False, retweeted=False, possibly_sensitive=False, lang='en')"
      ]
     },
     "execution_count": 20,
     "metadata": {},
     "output_type": "execute_result"
    }
   ],
   "source": [
    "new_status.destroy()"
   ]
  },
  {
   "cell_type": "code",
   "execution_count": null,
   "id": "957c5065",
   "metadata": {},
   "outputs": [],
   "source": [
    "dir (new_status)  #there are alot of things going on just off 1 single tweet"
   ]
  }
 ],
 "metadata": {
  "kernelspec": {
   "display_name": "Python 3 (ipykernel)",
   "language": "python",
   "name": "python3"
  },
  "language_info": {
   "codemirror_mode": {
    "name": "ipython",
    "version": 3
   },
   "file_extension": ".py",
   "mimetype": "text/x-python",
   "name": "python",
   "nbconvert_exporter": "python",
   "pygments_lexer": "ipython3",
   "version": "3.9.7"
  }
 },
 "nbformat": 4,
 "nbformat_minor": 5
}
