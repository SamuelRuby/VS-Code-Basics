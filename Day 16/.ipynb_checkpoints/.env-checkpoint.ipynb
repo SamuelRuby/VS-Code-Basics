{
 "cells": [
  {
   "cell_type": "code",
   "execution_count": 1,
   "id": "fa488907",
   "metadata": {},
   "outputs": [],
   "source": [
    "ACCESS_TOKEN='3028005622-gUJmBZxJpoQst4EUV3Bd3lkiGra8WWVkDJKjaWo' \n",
    "ACCESS_TOKEN_SECRET='4DbUtFaGJBHxMbkSt8ZMdW6VMEAv23H4gEt2ezP7Vvd4E'\n",
    "CONSUMER_APIKEY='ZALqG8c6kEIYG2msnb6Bdj4YF'\n",
    "CONSUMER_API_SECRET ='68Tn4uuovDaBrJX6EyYq4yYqiaswabu4hqU9J8ZzZ6i9uxYwdQ'\n",
    "BEARER_TOKEN = 'AAAAAAAAAAAAAAAAAAAAAM92aQEAAAAAQpm1sWzIw10sIhet470bfeNikFM%3DSgmyDlkcuuq5bSSCQiTCcX3ouE6T2EdPq9GbOTe3xF8xyWTGkN'"
   ]
  },
  {
   "cell_type": "code",
   "execution_count": null,
   "id": "abf4abe8",
   "metadata": {},
   "outputs": [],
   "source": []
  }
 ],
 "metadata": {
  "kernelspec": {
   "display_name": "Python 3 (ipykernel)",
   "language": "python",
   "name": "python3"
  },
  "language_info": {
   "codemirror_mode": {
    "name": "ipython",
    "version": 3
   },
   "file_extension": ".py",
   "mimetype": "text/x-python",
   "name": "python",
   "nbconvert_exporter": "python",
   "pygments_lexer": "ipython3",
   "version": "3.9.7"
  }
 },
 "nbformat": 4,
 "nbformat_minor": 5
}
