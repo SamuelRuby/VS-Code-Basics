{
 "cells": [
  {
   "cell_type": "code",
   "execution_count": 18,
   "metadata": {},
   "outputs": [],
   "source": [
    "import pandas as pd\n",
    "df = pd.read_csv('timeline_tweets_ukraine.csv')\n",
    "df[\"temp\"] = df['Time']\n",
    "df[\"Time\"] = df['Tweet']\n",
    "df[\"Tweet\"] = df[\"temp\"]\n",
    "del df[\"temp\"]\n",
    "df.to_csv('timeline_tweets_ukraine2.csv', index=False)\n",
    "# reshuffle the data "
   ]
  },
  {
   "cell_type": "code",
   "execution_count": 32,
   "metadata": {},
   "outputs": [],
   "source": [
    "csv_files = [\n",
    "    'putin_and_ukraine_tweets.csv',\n",
    "    'timeline_tweets_ukraine2.csv',\n",
    "    'timeline_tweets_putin.csv',\n",
    "    'timeline_tweets_ukraine_2000.csv'\n",
    "]\n",
    "df_merged = pd.concat(map(pd.read_csv, csv_files), ignore_index=True)\n",
    "df_test = df_merged.copy()\n",
    "#do your merge and copy"
   ]
  },
  {
   "cell_type": "code",
   "execution_count": 35,
   "metadata": {},
   "outputs": [],
   "source": [
    "df_test['Time']= df_test['Time'].apply(lambda x:x.replace(':', '-')[:-6])\n",
    "#run only once because of the apply function, it does your strng replace and cutting"
   ]
  },
  {
   "cell_type": "code",
   "execution_count": 44,
   "metadata": {},
   "outputs": [
    {
     "data": {
      "text/plain": [
       "0       2022-06-23 09-57-26\n",
       "1       2022-06-23 09-56-56\n",
       "2       2022-06-23 09-56-41\n",
       "3       2022-06-23 09-56-30\n",
       "4       2022-06-23 09-55-58\n",
       "               ...         \n",
       "3585    2022-06-22 13-21-15\n",
       "3586    2022-06-22 13-21-14\n",
       "3587    2022-06-22 13-21-14\n",
       "3588    2022-06-22 13-21-14\n",
       "3589    2022-06-22 13-21-14\n",
       "Name: Time, Length: 3590, dtype: object"
      ]
     },
     "execution_count": 44,
     "metadata": {},
     "output_type": "execute_result"
    }
   ],
   "source": [
    "df_test_2 = df_test.copy()\n",
    "df_test_2['Time']\n",
    "#copy and check how time column looks"
   ]
  },
  {
   "cell_type": "code",
   "execution_count": 45,
   "metadata": {},
   "outputs": [],
   "source": [
    "#column reshuffling\n",
    "df_test_2[\"DateTimeStr\"] = df_test_2['Time']"
   ]
  },
  {
   "cell_type": "code",
   "execution_count": 51,
   "metadata": {},
   "outputs": [],
   "source": [
    "from datetime import datetime\n",
    "_format = '%Y-%m-%d %H-%M-%S'\n",
    "dt_func = lambda dt_str: datetime.strptime(str(dt_str), _format) #convert datetime str to datetime obj\n",
    "time_func = lambda dt_str: datetime.strptime(str(dt_str), _format).time() #convert datetime str to time\n",
    "date_func = lambda dt_str: datetime.strptime(str(dt_str), _format).date() #convert datetime str to date\n",
    "df_test_2[\"DateTimeObj\"]= df_test_2[\"DateTimeStr\"].apply(dt_func)\n",
    "df_test_2[\"Date\"]= df_test_2[\"DateTimeStr\"].apply(date_func)\n",
    "df_test_2[\"Time\"]= df_test_2[\"DateTimeStr\"].apply(time_func)\n",
    "# go striaght ahead and perform the date time thing on time columns"
   ]
  },
  {
   "cell_type": "code",
   "execution_count": 52,
   "metadata": {},
   "outputs": [
    {
     "name": "stdout",
     "output_type": "stream",
     "text": [
      "0       2022-06-23\n",
      "1       2022-06-23\n",
      "2       2022-06-23\n",
      "3       2022-06-23\n",
      "4       2022-06-23\n",
      "           ...    \n",
      "3585    2022-06-22\n",
      "3586    2022-06-22\n",
      "3587    2022-06-22\n",
      "3588    2022-06-22\n",
      "3589    2022-06-22\n",
      "Name: Date, Length: 3590, dtype: object \n",
      "\n",
      "\n",
      "0       09:57:26\n",
      "1       09:56:56\n",
      "2       09:56:41\n",
      "3       09:56:30\n",
      "4       09:55:58\n",
      "          ...   \n",
      "3585    13:21:15\n",
      "3586    13:21:14\n",
      "3587    13:21:14\n",
      "3588    13:21:14\n",
      "3589    13:21:14\n",
      "Name: Time, Length: 3590, dtype: object \n",
      "\n",
      "\n",
      "0      2022-06-23 09:57:26\n",
      "1      2022-06-23 09:56:56\n",
      "2      2022-06-23 09:56:41\n",
      "3      2022-06-23 09:56:30\n",
      "4      2022-06-23 09:55:58\n",
      "               ...        \n",
      "3585   2022-06-22 13:21:15\n",
      "3586   2022-06-22 13:21:14\n",
      "3587   2022-06-22 13:21:14\n",
      "3588   2022-06-22 13:21:14\n",
      "3589   2022-06-22 13:21:14\n",
      "Name: DateTimeObj, Length: 3590, dtype: datetime64[ns] \n",
      "\n",
      "\n"
     ]
    }
   ],
   "source": [
    "print(df_test_2[\"Date\"],\"\\n\"*2)\n",
    "print(df_test_2[\"Time\"],\"\\n\"*2)\n",
    "print(df_test_2[\"DateTimeObj\"],\"\\n\"*2)"
   ]
  }
 ],
 "metadata": {
  "kernelspec": {
   "display_name": "Python 3",
   "language": "python",
   "name": "python3"
  },
  "language_info": {
   "codemirror_mode": {
    "name": "ipython",
    "version": 3
   },
   "file_extension": ".py",
   "mimetype": "text/x-python",
   "name": "python",
   "nbconvert_exporter": "python",
   "pygments_lexer": "ipython3",
   "version": "3.9.13"
  }
 },
 "nbformat": 4,
 "nbformat_minor": 4
}
