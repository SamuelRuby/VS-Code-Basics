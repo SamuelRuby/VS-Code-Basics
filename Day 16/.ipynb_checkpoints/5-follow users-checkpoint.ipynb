{
 "cells": [
  {
   "cell_type": "code",
   "execution_count": 1,
   "id": "f5f194d3",
   "metadata": {},
   "outputs": [],
   "source": [
    "import tweepy\n",
    "import webbrowser\n",
    "import time\n",
    "import pandas as pd"
   ]
  },
  {
   "cell_type": "code",
   "execution_count": 2,
   "id": "420a54bd",
   "metadata": {},
   "outputs": [
    {
     "data": {
      "text/plain": [
       "['/Users/ruby/Desktop/VS-Code-Basics/credentials.ini']"
      ]
     },
     "execution_count": 2,
     "metadata": {},
     "output_type": "execute_result"
    }
   ],
   "source": [
    "#to read ini file, where my credentials are stored\n",
    "import configparser\n",
    "config = configparser.ConfigParser()\n",
    "config.read('/Users/ruby/Desktop/VS-Code-Basics/credentials.ini')"
   ]
  },
  {
   "cell_type": "code",
   "execution_count": 3,
   "id": "4c66fa06",
   "metadata": {},
   "outputs": [],
   "source": [
    "cred = config[\"TWITTER_CREDENTIALS\"]\n",
    "consumer_key = cred[\"CONSUMER_API_KEY\"]\n",
    "consumer_secret = cred[\"CONSUMER_API_SECRET\"]\n",
    "access_token = cred[\"ACCESS_TOKEN\"]\n",
    "access_secret = cred[\"ACCESS_TOKEN_SECRET\"]"
   ]
  },
  {
   "cell_type": "code",
   "execution_count": 2,
   "id": "7489cc59",
   "metadata": {},
   "outputs": [
    {
     "name": "stdout",
     "output_type": "stream",
     "text": [
      "What is the pin value? zy463nLB3gUIPcGYYQaJdGqkEgz5RO0H\n"
     ]
    },
    {
     "data": {
      "text/plain": [
       "('3028005622-TWInusX39SJOXscJ9wtsawKDl3Na5YfV1XI3o9n',\n",
       " 'CPeH5d30znW1RBDtx85iDDcWcEDRxKj1fHcz5BB2lOMjw')"
      ]
     },
     "execution_count": 2,
     "metadata": {},
     "output_type": "execute_result"
    }
   ],
   "source": [
    "callback_url = 'oob' #url/callback\n",
    "auth = tweepy.OAuthHandler(consumer_key, consumer_secret, callback_url) #oauth is a standerdized way of an authentication that allows the user to login in to the service you are trying to log into\n",
    "redirect_url = auth.get_authorization_url()\n",
    "webbrowser.open(redirect_url)\n",
    "user_pin_input = input('What is the pin value? ')\n",
    "auth.get_access_token(user_pin_input)"
   ]
  },
  {
   "cell_type": "code",
   "execution_count": 3,
   "id": "faa09f12",
   "metadata": {},
   "outputs": [],
   "source": [
    "api = tweepy.API(auth)"
   ]
  },
  {
   "cell_type": "code",
   "execution_count": 4,
   "id": "1d66b262",
   "metadata": {},
   "outputs": [
    {
     "name": "stdout",
     "output_type": "stream",
     "text": [
      "keghannruby\n"
     ]
    }
   ],
   "source": [
    "me = api.verify_credentials()\n",
    "print (me.screen_name)"
   ]
  },
  {
   "cell_type": "code",
   "execution_count": 5,
   "id": "863efba1",
   "metadata": {},
   "outputs": [],
   "source": [
    "user = api.get_user(screen_name =\"Mochievous\", include_entities=False)"
   ]
  },
  {
   "cell_type": "code",
   "execution_count": 6,
   "id": "c5b39ec4",
   "metadata": {},
   "outputs": [
    {
     "name": "stdout",
     "output_type": "stream",
     "text": [
      "418065 1\n"
     ]
    }
   ],
   "source": [
    "print (user.followers_count, user.friends_count)"
   ]
  },
  {
   "cell_type": "code",
   "execution_count": 12,
   "id": "2a7f0265",
   "metadata": {},
   "outputs": [],
   "source": [
    "my_new_friends = []\n",
    "user_friends = user.friends()\n",
    "for friend in user_friends:\n",
    "    if friend.followers_count > 300 and friend.friends_count < 300:\n",
    "        #print(friend.screen_name)\n",
    "        my_new_friends.append(friend.screen_name)\n",
    "        relationship_ = api.create_friendship(friend.screen_name)\n",
    "#len (user_friends)"
   ]
  },
  {
   "cell_type": "code",
   "execution_count": 16,
   "id": "9b1395e3",
   "metadata": {},
   "outputs": [],
   "source": [
    "to_remove = my_new_friends [:-1]"
   ]
  },
  {
   "cell_type": "code",
   "execution_count": 17,
   "id": "17ba679a",
   "metadata": {},
   "outputs": [],
   "source": [
    "for username in to_remove:\n",
    "    api.destroy_friendship(username) #to unfollow"
   ]
  },
  {
   "cell_type": "code",
   "execution_count": null,
   "id": "f8492f70",
   "metadata": {},
   "outputs": [],
   "source": []
  }
 ],
 "metadata": {
  "kernelspec": {
   "display_name": "Python 3 (ipykernel)",
   "language": "python",
   "name": "python3"
  },
  "language_info": {
   "codemirror_mode": {
    "name": "ipython",
    "version": 3
   },
   "file_extension": ".py",
   "mimetype": "text/x-python",
   "name": "python",
   "nbconvert_exporter": "python",
   "pygments_lexer": "ipython3",
   "version": "3.9.7"
  }
 },
 "nbformat": 4,
 "nbformat_minor": 5
}
