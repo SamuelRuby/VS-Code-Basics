{
 "cells": [
  {
   "cell_type": "code",
   "execution_count": 1,
   "id": "f5f194d3",
   "metadata": {},
   "outputs": [],
   "source": [
    "import tweepy\n",
    "import webbrowser\n",
    "import time"
   ]
  },
  {
   "cell_type": "code",
   "execution_count": 2,
   "id": "b822668d",
   "metadata": {},
   "outputs": [
    {
     "data": {
      "text/plain": [
       "['/Users/ruby/Desktop/VS-Code-Basics/credentials.ini']"
      ]
     },
     "execution_count": 2,
     "metadata": {},
     "output_type": "execute_result"
    }
   ],
   "source": [
    "#to read ini file\n",
    "import configparser\n",
    "config = configparser.ConfigParser()\n",
    "config.read('/Users/ruby/Desktop/VS-Code-Basics/credentials.ini')"
   ]
  },
  {
   "cell_type": "code",
   "execution_count": 3,
   "id": "8d71193d",
   "metadata": {},
   "outputs": [],
   "source": [
    "#print(config['TWITTER_CREDENTIALS']['ACCESS_TOKEN'])\n",
    "\n",
    "#consumer_key = config['TWITTER_CREDENTIALS']['CONSUMER_API_KEY']\n",
    "\n",
    "cred = config[\"TWITTER_CREDENTIALS\"]\n",
    "consumer_key = cred[\"CONSUMER_API_KEY\"]\n",
    "consumer_secret = cred[\"CONSUMER_API_SECRET\"]\n",
    "access_token = cred[\"ACCESS_TOKEN\"]\n",
    "access_secret = cred[\"ACCESS_TOKEN_SECRET\"]\n",
    "\n",
    "#print(consumer_key)\n",
    "#print (access_secret)"
   ]
  },
  {
   "cell_type": "code",
   "execution_count": 4,
   "id": "c8f29b35",
   "metadata": {},
   "outputs": [
    {
     "name": "stdout",
     "output_type": "stream",
     "text": [
      "https://api.twitter.com/oauth/authorize?oauth_token=W6cIygAAAAABaXbPAAABgYWw6pU\n"
     ]
    }
   ],
   "source": [
    "callback_url = 'oob' #url/callback\n",
    "auth = tweepy.OAuthHandler(consumer_key, consumer_secret, callback_url) #oauth is a standerdized way of an authentication that allows the user to login in to the service you are trying to log into\n",
    "redirect_url = auth.get_authorization_url()\n",
    "print(redirect_url)"
   ]
  },
  {
   "cell_type": "code",
   "execution_count": 5,
   "id": "6c261d2d",
   "metadata": {},
   "outputs": [
    {
     "data": {
      "text/plain": [
       "True"
      ]
     },
     "execution_count": 5,
     "metadata": {},
     "output_type": "execute_result"
    }
   ],
   "source": [
    "webbrowser.open(redirect_url)"
   ]
  },
  {
   "cell_type": "code",
   "execution_count": 6,
   "id": "63cbd6d1",
   "metadata": {},
   "outputs": [
    {
     "name": "stdout",
     "output_type": "stream",
     "text": [
      "What is the pin value? FP0a8gmO2bEHGhni7nikyqylvpoCpU9r\n"
     ]
    }
   ],
   "source": [
    "user_pin_input = input('What is the pin value? ')"
   ]
  },
  {
   "cell_type": "code",
   "execution_count": 7,
   "id": "b747ee69",
   "metadata": {},
   "outputs": [
    {
     "data": {
      "text/plain": [
       "'FP0a8gmO2bEHGhni7nikyqylvpoCpU9r'"
      ]
     },
     "execution_count": 7,
     "metadata": {},
     "output_type": "execute_result"
    }
   ],
   "source": [
    "user_pin_input"
   ]
  },
  {
   "cell_type": "code",
   "execution_count": 8,
   "id": "12671c24",
   "metadata": {},
   "outputs": [
    {
     "data": {
      "text/plain": [
       "('3028005622-TWInusX39SJOXscJ9wtsawKDl3Na5YfV1XI3o9n',\n",
       " 'CPeH5d30znW1RBDtx85iDDcWcEDRxKj1fHcz5BB2lOMjw')"
      ]
     },
     "execution_count": 8,
     "metadata": {},
     "output_type": "execute_result"
    }
   ],
   "source": [
    "auth.get_access_token(user_pin_input)"
   ]
  },
  {
   "cell_type": "code",
   "execution_count": 9,
   "id": "faa09f12",
   "metadata": {},
   "outputs": [],
   "source": [
    "api = tweepy.API(auth)"
   ]
  },
  {
   "cell_type": "code",
   "execution_count": 10,
   "id": "1d66b262",
   "metadata": {},
   "outputs": [],
   "source": [
    "me = api.verify_credentials()"
   ]
  },
  {
   "cell_type": "code",
   "execution_count": 11,
   "id": "c0d9f568",
   "metadata": {},
   "outputs": [
    {
     "name": "stdout",
     "output_type": "stream",
     "text": [
      "keghannruby\n"
     ]
    }
   ],
   "source": [
    "print (me.screen_name)"
   ]
  },
  {
   "cell_type": "code",
   "execution_count": null,
   "id": "83f146fa",
   "metadata": {},
   "outputs": [],
   "source": []
  }
 ],
 "metadata": {
  "kernelspec": {
   "display_name": "Python 3 (ipykernel)",
   "language": "python",
   "name": "python3"
  },
  "language_info": {
   "codemirror_mode": {
    "name": "ipython",
    "version": 3
   },
   "file_extension": ".py",
   "mimetype": "text/x-python",
   "name": "python",
   "nbconvert_exporter": "python",
   "pygments_lexer": "ipython3",
   "version": "3.9.7"
  }
 },
 "nbformat": 4,
 "nbformat_minor": 5
}
