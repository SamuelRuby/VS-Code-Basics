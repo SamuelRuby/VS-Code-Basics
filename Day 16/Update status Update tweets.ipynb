{
 "cells": [
  {
   "cell_type": "code",
   "execution_count": null,
   "id": "e2553725",
   "metadata": {},
   "outputs": [],
   "source": [
    "#importing useful libraries\n",
    "import nltk\n",
    "nltk.download('punkt')\n",
    "nltk.download('wordnet')\n",
    "from nltk import sent_tokenize, word_tokenize\n",
    "from nltk.stem.snowball import SnowballStemmer\n",
    "from nltk.stem.wordnet import WordNetLemmatizer\n",
    "from nltk.corpus import stopwords\n",
    "import pandas as pd\n",
    "import numpy as np\n",
    "import re\n",
    "!pip install -U spacy\n",
    "import spacy\n",
    "spacy.cli.download(\"en_core_web_lg\")\n",
    "nlp = spacy.load(\"en_core_web_lg\")\n"
   ]
  },
  {
   "cell_type": "code",
   "execution_count": null,
   "id": "a7cffd83",
   "metadata": {},
   "outputs": [],
   "source": [
    "#importing necessary methods from tweepy library\n",
    "!pip install tweepy\n",
    "import tweepy\n",
    "from tweepy import OAuthHandler\n",
    "from tweepy import Stream\n",
    "import webbrowser\n",
    "import time\n",
    "import pandas as pd\n",
    "\n",
    "#Variables that contains the user credentials to access Twitter API \n",
    "Access_token = \"3028005622-gUJmBZxJpoQst4EUV3Bd3lkiGra8WWVkDJKjaWo\"\n",
    "Access_token_secret = \"4DbUtFaGJBHxMbkSt8ZMdW6VMEAv23H4gEt2ezP7Vvd4E\"\n",
    "consumer_key = \"emwP4MAF52RyxHG53fNIQw5Lz\"\n",
    "consumer_secret = \"05wUDSdSkbSBGRQn0po9uJzYEGOvxeHzQfg30DzEvo0gbyiQCP\"\n",
    "Bearer_token = \"AAAAAAAAAAAAAAAAAAAAAM92aQEAAAAAKms3pMcO7IpQraGpTgCvO7M0dAQ%3D3GxJDcccI5AyZiztiCc52bdNkR7ephUfzGBT86Dbct3Kg2p3JD\"\n"
   ]
  },
  {
   "cell_type": "code",
   "execution_count": null,
   "id": "c97c8026",
   "metadata": {},
   "outputs": [],
   "source": []
  },
  {
   "cell_type": "code",
   "execution_count": null,
   "id": "f77f6b77",
   "metadata": {},
   "outputs": [],
   "source": [
    "callback_uri = 'oob'\n",
    "auth = tweepy.OAuthHandler(consumer_key, consumer_secret, callback_uri)\n",
    "redirect_url = auth.get_authorization_url()\n",
    "print(redirect_url)"
   ]
  },
  {
   "cell_type": "code",
   "execution_count": null,
   "id": "29e6fb64",
   "metadata": {},
   "outputs": [],
   "source": [
    "webbrowser.open(redirect_url)"
   ]
  },
  {
   "cell_type": "code",
   "execution_count": null,
   "id": "b65afdcc",
   "metadata": {},
   "outputs": [],
   "source": [
    "user_pin_input = input(\"What's the pin value? \")"
   ]
  },
  {
   "cell_type": "code",
   "execution_count": null,
   "id": "b3cb7dd4",
   "metadata": {},
   "outputs": [],
   "source": [
    "user_pin_input "
   ]
  },
  {
   "cell_type": "code",
   "execution_count": null,
   "id": "a8e316aa",
   "metadata": {},
   "outputs": [],
   "source": [
    "auth.get_access_token(user_pin_input)"
   ]
  },
  {
   "cell_type": "code",
   "execution_count": 22,
   "id": "883ce52e",
   "metadata": {},
   "outputs": [
    {
     "name": "stdout",
     "output_type": "stream",
     "text": [
      "3028005622-gUJmBZxJpoQst4EUV3Bd3lkiGra8WWVkDJKjaWo 4DbUtFaGJBHxMbkSt8ZMdW6VMEAv23H4gEt2ezP7Vvd4E\n"
     ]
    }
   ],
   "source": [
    "print(auth.access_token, auth.access_token_secret)"
   ]
  },
  {
   "cell_type": "code",
   "execution_count": 31,
   "id": "976737b0",
   "metadata": {},
   "outputs": [],
   "source": [
    "api= tweepy.API(auth)"
   ]
  },
  {
   "cell_type": "code",
   "execution_count": 33,
   "id": "fb462314",
   "metadata": {},
   "outputs": [
    {
     "ename": "TypeError",
     "evalue": "'API' object is not callable",
     "output_type": "error",
     "traceback": [
      "\u001b[0;31m---------------------------------------------------------------------------\u001b[0m",
      "\u001b[0;31mTypeError\u001b[0m                                 Traceback (most recent call last)",
      "\u001b[0;32m/var/folders/3q/3sbzpm556tn_jsn0vdddr77c0000gp/T/ipykernel_37976/209548269.py\u001b[0m in \u001b[0;36m<module>\u001b[0;34m\u001b[0m\n\u001b[0;32m----> 1\u001b[0;31m \u001b[0mme\u001b[0m \u001b[0;34m=\u001b[0m \u001b[0mapi\u001b[0m\u001b[0;34m(\u001b[0m\u001b[0mapi\u001b[0m\u001b[0;34m)\u001b[0m\u001b[0;34m\u001b[0m\u001b[0;34m\u001b[0m\u001b[0m\n\u001b[0m\u001b[1;32m      2\u001b[0m \u001b[0mprint\u001b[0m\u001b[0;34m(\u001b[0m\u001b[0mme\u001b[0m\u001b[0;34m.\u001b[0m\u001b[0mscreen_name\u001b[0m\u001b[0;34m)\u001b[0m\u001b[0;34m\u001b[0m\u001b[0;34m\u001b[0m\u001b[0m\n",
      "\u001b[0;31mTypeError\u001b[0m: 'API' object is not callable"
     ]
    }
   ],
   "source": [
    "me = api.me\n",
    "print(me.screen_name)"
   ]
  },
  {
   "cell_type": "code",
   "execution_count": null,
   "id": "dbe8af29",
   "metadata": {},
   "outputs": [],
   "source": []
  },
  {
   "cell_type": "code",
   "execution_count": null,
   "id": "ffcb5a1a",
   "metadata": {},
   "outputs": [],
   "source": [
    "#This is a basic listener that just prints received tweets to stdout.\n",
    "class StdOutListener(StreamListener):\n",
    "\n",
    "    def on_data(self, data):\n",
    "        print data\n",
    "        return True\n",
    "\n",
    "    def on_error(self, status):\n",
    "        print status\n",
    "\n",
    "begin_date=dt.date(2021,10,1)\n",
    "end_date=dt.date(2022,3,18)\n",
    "limit=900\n",
    "lang='english'\n",
    "\n",
    "\n",
    "if __name__ == '__main__':\n",
    "    \n",
    "\n",
    "#This handles Twitter authetification and the connection to Twitter Streaming API\n",
    "    l = StdOutListener()\n",
    "    auth = tweepy.OAuthHandler(consumer_key, consumer_secret)\n",
    "    auth.set_access_token(Access_token, Access_token_secret)\n",
    "    api = tweepy.API(auth, wait_on_rate_limit=True)\n",
    "    stream = Stream(auth, l)\n",
    "\n",
    "    #This line filter Twitter Streams to capture data by the keywords: 'putin', 'Ukraine', 'warcriminal', 'invasion', 'ww3'\n",
    "    stream.filter(track=['putin', 'ukraine', 'warcriminal', 'invasion', 'ww3'])\n"
   ]
  }
 ],
 "metadata": {
  "kernelspec": {
   "display_name": "Python 3 (ipykernel)",
   "language": "python",
   "name": "python3"
  },
  "language_info": {
   "codemirror_mode": {
    "name": "ipython",
    "version": 3
   },
   "file_extension": ".py",
   "mimetype": "text/x-python",
   "name": "python",
   "nbconvert_exporter": "python",
   "pygments_lexer": "ipython3",
   "version": "3.9.7"
  }
 },
 "nbformat": 4,
 "nbformat_minor": 5
}
