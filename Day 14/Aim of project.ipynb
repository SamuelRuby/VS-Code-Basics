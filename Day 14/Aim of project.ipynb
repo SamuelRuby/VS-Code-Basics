#jupyter nbconvert --output-dir='./client' --to python notebooks/spotify_client.ipynb 
jupyter nbconvert --to python Notebooks/spotify_client.ipynb