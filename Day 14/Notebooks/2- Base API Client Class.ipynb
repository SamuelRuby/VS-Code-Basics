{
 "cells": [
  {
   "cell_type": "code",
   "execution_count": 1,
   "id": "995b1a89",
   "metadata": {},
   "outputs": [],
   "source": [
    "#we got an acess token and an expiration, these items are state items, they'll change over time. so we need to create a class that'll respond to these changes, so that we can make our API calls through that class, instead of using functions"
   ]
  },
  {
   "cell_type": "code",
   "execution_count": 2,
   "id": "19b7964f",
   "metadata": {},
   "outputs": [
    {
     "name": "stdout",
     "output_type": "stream",
     "text": [
      "Requirement already satisfied: requests in /Users/ruby/.local/share/virtualenvs/VS-Code-Basics-oL_Sh4cK/lib/python3.9/site-packages (2.27.1)\r\n",
      "Requirement already satisfied: urllib3<1.27,>=1.21.1 in /Users/ruby/.local/share/virtualenvs/VS-Code-Basics-oL_Sh4cK/lib/python3.9/site-packages (from requests) (1.26.9)\r\n",
      "Requirement already satisfied: certifi>=2017.4.17 in /Users/ruby/.local/share/virtualenvs/VS-Code-Basics-oL_Sh4cK/lib/python3.9/site-packages (from requests) (2021.10.8)\r\n",
      "Requirement already satisfied: charset-normalizer~=2.0.0 in /Users/ruby/.local/share/virtualenvs/VS-Code-Basics-oL_Sh4cK/lib/python3.9/site-packages (from requests) (2.0.12)\r\n",
      "Requirement already satisfied: idna<4,>=2.5 in /Users/ruby/.local/share/virtualenvs/VS-Code-Basics-oL_Sh4cK/lib/python3.9/site-packages (from requests) (3.3)\r\n"
     ]
    }
   ],
   "source": [
    "!pip install requests"
   ]
  },
  {
   "cell_type": "code",
   "execution_count": 3,
   "id": "d36c481a",
   "metadata": {},
   "outputs": [],
   "source": [
    "import requests\n",
    "import datetime"
   ]
  },
  {
   "cell_type": "code",
   "execution_count": 4,
   "id": "8b34b29f",
   "metadata": {},
   "outputs": [],
   "source": [
    "import base64"
   ]
  },
  {
   "cell_type": "code",
   "execution_count": 5,
   "id": "b4b58b63",
   "metadata": {},
   "outputs": [],
   "source": [
    "import configparser\n",
    "config = configparser.ConfigParser()\n",
    "config.read('/Users/ruby/Desktop/VS-Code-Basics/credentials.ini') #PATH TO MY config file on my local device\n",
    "\n",
    "cred = config[\"SPOTIFY\"]\n",
    "client_id = cred[\"CLIENT_ID\"]\n",
    "client_secret = cred[\"CLIENT_ID_SECRET\"]\n",
    "\n",
    "#print(client_id)\n",
    "#print (client_secret)"
   ]
  },
  {
   "cell_type": "code",
   "execution_count": 17,
   "id": "6c354f50",
   "metadata": {},
   "outputs": [],
   "source": [
    "class SpotifyAPI(object):\n",
    "    access_token = None\n",
    "    acess_token_expires = datetime.datetime.now()\n",
    "    acess_token_did_expire = True\n",
    "    client_id = None\n",
    "    client_secret = None\n",
    "    token_url = 'https://accounts.spotify.com/api/token'\n",
    "    \n",
    "    def __init__(self, client_id, client_secret, *args, **kwargs):\n",
    "        super().__init__(*args, **kwargs) #it calls any class it is inherting from itself, this is used for changibility of code or you want to inherit from another class\n",
    "        self.client_id = client_id\n",
    "        self.client_secret = client_secret\n",
    "        \n",
    "    def get_client_credentials(self):\n",
    "        \"\"\"\n",
    "        Returns a base64 encoded string\n",
    "        \"\"\"\n",
    "        client_id = self.client_id\n",
    "        client_secret = self.client_secret\n",
    "        if client_secret == None or client_id == None:\n",
    "            raise Exception(\"You must set client_id and client_secret\")\n",
    "        client_creds = f\"{client_id}:{client_secret}\"\n",
    "        client_creds_b64 = base64.b64encode(client_creds.encode())\n",
    "        return client_creds_b64.decode()\n",
    "    \n",
    "    def get_token_headers (self):\n",
    "        client_creds_b64 = self.get_client_credentials()\n",
    "        return {\n",
    "            \"Authorization\": f\"Basic {client_creds_b64}\"\n",
    "        }\n",
    "    \n",
    "    def get_token_data (self):\n",
    "        return {\n",
    "            \"grant_type\": \"client_credentials\"\n",
    "        }\n",
    "    \n",
    "    def perform_auth (self):\n",
    "        token_url = self.token_url\n",
    "        token_data = self.get_token_data()\n",
    "        token_headers = self.get_token_headers()\n",
    "        r = requests.post (token_url, data = token_data, headers= token_headers)\n",
    "        if r.status_code not in range (200,299):\n",
    "            return False\n",
    "        data = r.json()\n",
    "        now = datetime.datetime.now()\n",
    "        access_token = data['access_token']\n",
    "        expires_in = data['expires_in']#time given in seconds\n",
    "        expires = now + datetime.timedelta(seconds = expires_in)\n",
    "        self.access_token = access_token\n",
    "        self.acess_token_expires = expires\n",
    "        self.access_token_did_expire = expires < now #gives a true or false value to determine when you need to refresh your token\n",
    "        return True\n",
    "    "
   ]
  },
  {
   "cell_type": "code",
   "execution_count": 21,
   "id": "fc325039",
   "metadata": {},
   "outputs": [],
   "source": [
    "spotify = SpotifyAPI (client_id, client_secret)"
   ]
  },
  {
   "cell_type": "code",
   "execution_count": 22,
   "id": "5e93e4e0",
   "metadata": {},
   "outputs": [
    {
     "data": {
      "text/plain": [
       "True"
      ]
     },
     "execution_count": 22,
     "metadata": {},
     "output_type": "execute_result"
    }
   ],
   "source": [
    "spotify.perform_auth()"
   ]
  },
  {
   "cell_type": "code",
   "execution_count": 23,
   "id": "77fe03b4",
   "metadata": {},
   "outputs": [
    {
     "data": {
      "text/plain": [
       "'BQA5rBUBmABL28a2ktjo5ijkgS1F86bU_8CP7dxr8eld6coyab53aMZVCEROmLihqf8gTzv7-qJTVc1HvTA'"
      ]
     },
     "execution_count": 23,
     "metadata": {},
     "output_type": "execute_result"
    }
   ],
   "source": [
    "spotify.access_token"
   ]
  },
  {
   "cell_type": "code",
   "execution_count": null,
   "id": "a496b48d",
   "metadata": {},
   "outputs": [],
   "source": [
    "#spotify.search\n",
    "#could improve on perform_auth. like a function handler"
   ]
  }
 ],
 "metadata": {
  "kernelspec": {
   "display_name": "Python 3 (ipykernel)",
   "language": "python",
   "name": "python3"
  },
  "language_info": {
   "codemirror_mode": {
    "name": "ipython",
    "version": 3
   },
   "file_extension": ".py",
   "mimetype": "text/x-python",
   "name": "python",
   "nbconvert_exporter": "python",
   "pygments_lexer": "ipython3",
   "version": "3.9.7"
  }
 },
 "nbformat": 4,
 "nbformat_minor": 5
}
