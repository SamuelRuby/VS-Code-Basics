{
 "cells": [
  {
   "cell_type": "code",
   "execution_count": 1,
   "id": "2f7ce94d",
   "metadata": {},
   "outputs": [
    {
     "name": "stderr",
     "output_type": "stream",
     "text": [
      "/var/folders/3q/3sbzpm556tn_jsn0vdddr77c0000gp/T/ipykernel_52588/1013974827.py:8: DeprecationWarning: executable_path has been deprecated, please pass in a Service object\n",
      "  driver = webdriver.Chrome(executable_path='/Users/ruby/Downloads/Chrome Driver/chromedriver', options=options)\n"
     ]
    }
   ],
   "source": [
    "import requests\n",
    "import time\n",
    "from requests_html import HTML\n",
    "from selenium import webdriver\n",
    "from selenium.webdriver.chrome.options import Options\n",
    "options = Options()\n",
    "options.add_argument(\"--headless\")\n",
    "driver = webdriver.Chrome(executable_path='/Users/ruby/Downloads/Chrome Driver/chromedriver', options=options)\n"
   ]
  },
  {
   "cell_type": "code",
   "execution_count": 2,
   "id": "d5e72989",
   "metadata": {},
   "outputs": [],
   "source": [
    "#options = Options()\n",
    "#options.add_argument(\"--headless\")\n",
    "\n",
    "#driver = webdriver.Chrome(options=options)"
   ]
  },
  {
   "cell_type": "code",
   "execution_count": 3,
   "id": "1005f170",
   "metadata": {},
   "outputs": [],
   "source": [
    "categories = [\n",
    "    \"https://www.amazon.com/Best-Sellers-Toys-Games/zgbs/toys-and-games/\",\n",
    "    \"https://www.amazon.com/Best-Sellers-Electronics/zgbs/electronics/\",\n",
    "    \"https://www.amazon.com/Best-Sellers/zgbs/fashion/\"\n",
    "]"
   ]
  },
  {
   "cell_type": "code",
   "execution_count": 4,
   "id": "a4f4e2ce",
   "metadata": {},
   "outputs": [
    {
     "data": {
      "text/plain": [
       "['https://www.amazon.com/Best-Sellers-Toys-Games/zgbs/toys-and-games/',\n",
       " 'https://www.amazon.com/Best-Sellers-Electronics/zgbs/electronics/',\n",
       " 'https://www.amazon.com/Best-Sellers/zgbs/fashion/']"
      ]
     },
     "execution_count": 4,
     "metadata": {},
     "output_type": "execute_result"
    }
   ],
   "source": [
    "categories"
   ]
  },
  {
   "cell_type": "code",
   "execution_count": 5,
   "id": "e570a585",
   "metadata": {},
   "outputs": [
    {
     "name": "stdout",
     "output_type": "stream",
     "text": [
      "https://www.amazon.com/Best-Sellers-Toys-Games/zgbs/toys-and-games/\n"
     ]
    }
   ],
   "source": [
    "first_url = categories[0]\n",
    "print (first_url)"
   ]
  },
  {
   "cell_type": "code",
   "execution_count": 6,
   "id": "578cb003",
   "metadata": {},
   "outputs": [],
   "source": [
    "driver.get(first_url)"
   ]
  },
  {
   "cell_type": "code",
   "execution_count": 7,
   "id": "259875b9",
   "metadata": {},
   "outputs": [
    {
     "name": "stderr",
     "output_type": "stream",
     "text": [
      "/var/folders/3q/3sbzpm556tn_jsn0vdddr77c0000gp/T/ipykernel_52588/816351865.py:1: DeprecationWarning: find_element_by_css_selector is deprecated. Please use find_element(by=By.CSS_SELECTOR, value=css_selector) instead\n",
      "  body_el = driver.find_element_by_css_selector('body')\n"
     ]
    }
   ],
   "source": [
    "body_el = driver.find_element_by_css_selector('body')\n",
    "html_str = body_el.get_attribute('innerHTML')"
   ]
  },
  {
   "cell_type": "code",
   "execution_count": 8,
   "id": "025c5d15",
   "metadata": {},
   "outputs": [],
   "source": [
    "html_obj = HTML(html= html_str)"
   ]
  },
  {
   "cell_type": "code",
   "execution_count": 9,
   "id": "f6ec43bd",
   "metadata": {},
   "outputs": [
    {
     "name": "stdout",
     "output_type": "stream",
     "text": [
      "['/gp/css/homepage.html?ref_=nav_AccountFlyout_ya', '/Bentgo-Leak-Proof-5-Compartment-Bento-Style-Lunch/dp/B08B115T54/ref=zg_bs_toys-and-games_29/132-7348803-1160242?pd_rd_i=B07SZHBGZH&psc=1', '/b/?_encoding=UTF8&_encoding=UTF8&node=2241292011&ref_=sv_t_7', '/gp/css/returns/homepage.html?ref_=footer_hy_f_4', '/Almce-Isabella-Mirabel-Costume-Ruffles/dp/B09V7QRBGQ/ref=zg_bs_toys-and-games_19/132-7348803-1160242?pd_rd_i=B09WYL3HTW&psc=1', '/gp/kindle/ku/ku_central?ref_=nav_AccountFlyout_ku', '/TeeTurtle-Reversible-Octopus-Mini-Plush/dp/B07H4K9QYQ/ref=zg_bs_toys-and-games_4/132-7348803-1160242?pd_rd_i=B09DJTXGBN&psc=1', '/Best-Sellers-Toys-Games-Learning-Education-Toys/zgbs/toys-and-games/166269011/ref=zg_bs_nav_toys-and-games_1', '/Best-Sellers-Toys-Games-Novelty-Toys-Amusements/zgbs/toys-and-games/166027011/ref=zg_bs_nav_toys-and-games_1', '/Automatic-Toddlers-Operated-Batteries-Birthday/dp/B07VZF7X31/ref=zg_bs_toys-and-games_30/132-7348803-1160242?pd_rd_i=B085C2J3C5&psc=1', '/Best-Sellers-Toys-Games-Kids-Electronics/zgbs/toys-and-games/166164011/ref=zg_bs_nav_toys-and-games_1', '/gp/cart/view.html?ref_=nav_cart', '/gp/help/customer/display.html?nodeId=GDFU3JS5AL6SYHRD&ref_=footer_covid', '/gp/css/order-history?ref_=nav_AccountFlyout_orders', '/ref=nav_logo', '/Play-Doh-Modeling-Compound-Non-Toxic-Exclusive/dp/B00JM5GW10/ref=zg_bs_toys-and-games_11/132-7348803-1160242?pd_rd_i=B00JM5GW10&psc=1', '/gp/browse.html?node=388305011&ref_=footer_tfx', '/registries?ref_=nav_ListFlyout_find', '/LeapFrog-Animals-Book-Frustration-Packaging/dp/B085KTB1WY/ref=zg_bs_toys-and-games_3/132-7348803-1160242?pd_rd_i=B0953YFR2M&psc=1', '/gp/browse.html?node=10232440011&ref_=footer_reload_us', '/Lydaz-Electronic-Machine-Outdoor-Toddlers/dp/B07H331J4R/ref=zg_bs_toys-and-games_15/132-7348803-1160242?pd_rd_i=B07H331J4R&psc=1', '/customer-preferences/edit?ie=UTF8&preferencesReturnUrl=%2FBest-Sellers-Toys-Games%2Fzgbs%2Ftoys-and-games%2F&ref_=topnav_lang_ais', '/gp/history?ref_=nav_AccountFlyout_browsinghistory', '/LEGO-Succulents-Building-Adults-Display/dp/B09Q4GWMZQ/ref=zg_bs_toys-and-games_7/132-7348803-1160242?pd_rd_i=B09Q4GWMZQ&psc=1', '/Best-Sellers-Toys-Games/zgbs/toys-and-games/ref=zg_bs_pg_1?_encoding=UTF8&pg=1', '/gp/browse.html?node=16218619011&ref_=footer_swp', '/SplashEZ-Splash-Sprinkler-Toddler-Learning/dp/B0836WRWFY/ref=zg_bs_toys-and-games_8/132-7348803-1160242?pd_rd_i=B084ZNK9NV&psc=1', '/Electric-Portable-Balloons-Inflator-Decoration/dp/B07Z8N2X8G/ref=zg_bs_toys-and-games_1/132-7348803-1160242?pd_rd_i=B07Z8N2X8G&psc=1', '/Best-Sellers-Toys-Games-Puzzles/zgbs/toys-and-games/166359011/ref=zg_bs_nav_toys-and-games_1', '/gp/browse.html?node=16115931011&ref_=nav_cs_registry', '/Little-Tikes-First-Slide-Blue/dp/B008MH5H4M/ref=zg_bs_toys-and-games_26/132-7348803-1160242?pd_rd_i=B008MH5H4M&psc=1', '/Sassy-Stacks-Circles-Stacking-Learning/dp/B07NXDJ52C/ref=zg_bs_toys-and-games_21/132-7348803-1160242?pd_rd_i=B09STL9ZN7&psc=1', '/First-Years-Stack-Up-Cups/dp/B00005C5H4/ref=zg_bs_toys-and-games_23/132-7348803-1160242?pd_rd_i=B07C4NGT17&psc=1', '/registries/birthday/?_encoding=UTF8&sourceVendorId=from_toys_games&ref_=sv_t_8', '/gp/help/customer/accessibility', '/Best-Sellers-Toys-Games-Hobby-Remote-App-Controlled-Vehicles-Parts/zgbs/toys-and-games/6925830011/ref=zg_bs_nav_toys-and-games_1', '/Funko-Pop-TV-Simpsons-Exclusive/dp/B09QC8QK5F/ref=zg_bs_toys-and-games_6/132-7348803-1160242?pd_rd_i=B09QC8QK5F&psc=1', '/b/?node=18190131011&ld=AZUSSOA-seemore&ref_=footer_seemore', '/Kinetic-Sand-Online-Exclusive-Sensory/dp/B09BW36FW6/ref=zg_bs_toys-and-games_25/132-7348803-1160242?pd_rd_i=B09WQ6GMYJ&psc=1', '/gp/help/customer/display.html?nodeId=508510&ref_=nav_cs_customerservice', '/gp/goldbox?ref_=nav_cs_gb', '/gp/BIT/ref=footer_bit_v2_us_A0029?bitCampaignCode=A0029', '/Best-Sellers-Toys-Games-Stuffed-Animals-Plush-Toys/zgbs/toys-and-games/166461011/ref=zg_bs_nav_toys-and-games_1', '/Best-Sellers-Toys-Games-Building-Toys/zgbs/toys-and-games/166092011/ref=zg_bs_nav_toys-and-games_1', '/gp/yourstore?ref_=nav_AccountFlyout_recs', '/hz5/yourmembershipsandsubscriptions?ref_=nav_AccountFlyout_digital_subscriptions', '/Best-Sellers/zgbs/ref=zg_bs_unv_toys-and-games_0_1', '/Best-Sellers-Toys-Games-Tricycles-Scooters-Wagons/zgbs/toys-and-games/256994011/ref=zg_bs_nav_toys-and-games_1', '/b/?_encoding=UTF8&ie=UTF8&node=17403333011&ref_=sv_t_6', '/gp/history', '/customer-preferences/edit?ie=UTF8&preferencesReturnUrl=%2FBest-Sellers-Toys-Games%2Fzgbs%2Ftoys-and-games%2F&ref_=footer_lang', '/Aqua-Monterey-Multi-Purpose-Inflatable-Portable/dp/B073WMYP6M/ref=zg_bs_toys-and-games_2/132-7348803-1160242?pd_rd_i=B09X2GCSDD&psc=1', '/LAYCOL-Swimming-Inflatable-Newest-Protection/dp/B083VRT815/ref=zg_bs_toys-and-games_17/132-7348803-1160242?pd_rd_i=B083VSRKRG&psc=1', '/business?ref_=footer_retail_b2b', '/gp/video/library?ref_=nav_AccountFlyout_yvl', '/Best-Sellers-Toys-Games-Toy-Vehicles/zgbs/toys-and-games/23539911011/ref=zg_bs_nav_toys-and-games_1', '/Best-Sellers-Toys-Games-Sports-Outdoor-Play-Toys/zgbs/toys-and-games/166420011/ref=zg_bs_nav_toys-and-games_1', '/services?ref_=footer_services', '/gp/new-releases/toys-and-games/ref=zg_bs_tab_t_bsnr', '/Barbie-Reveal-Costume-Surprises-Including/dp/B09KTFNNZ1/ref=zg_bs_toys-and-games_14/132-7348803-1160242?pd_rd_i=B09TVWQFX6&psc=1', '/b/?_encoding=UTF8&ie=UTF8&node=17728536011&ref_=sv_t_3', '/registries/holiday/?_encoding=UTF8&sourceVendorId=from_toys_games&ref_=sv_t_9', '/gp/help/customer/display.html?nodeId=468496&ref_=footer_privacy', '/Best-Sellers-Toys-Games-Kids-Party-Supplies/zgbs/toys-and-games/1266203011/ref=zg_bs_nav_toys-and-games_1', '/LEGO-Horizon-Forbidden-West-Collectible/dp/B09Q46YHKB/ref=zg_bs_toys-and-games_12/132-7348803-1160242?pd_rd_i=B09Q46YHKB&psc=1', '/gp/most-wished-for/toys-and-games/ref=zg_bs_tab_t_mw', '/Step2-874600-Showers-Playset-Multi-Colored/dp/B01K1K0K6M/ref=zg_bs_toys-and-games_20/132-7348803-1160242?pd_rd_i=B07V3FM9ZV&psc=1', '/gp/digital/fiona/manage?ref_=footer_myk', '/gp/subscribe-and-save/manager/viewsubscriptions?ref_=nav_AccountFlyout_sns', '/gp/movers-and-shakers/toys-and-games/ref=zg_bs_tab_t_bsms', '/toys/b/?ie=UTF8&node=165793011&ref_=topnav_storetab_t', '/Best-Sellers-Toys-Games-Preschool-Toys/zgbs/toys-and-games/251909011/ref=zg_bs_nav_toys-and-games_1', '/?ref_=footer_logo', '/fcx/shop-by-age/store/?_encoding=UTF8&age=0m_24m&st=165793011&ref_=sv_t_2', '/Best-Sellers-Toys-Games-Games-Accessories/zgbs/toys-and-games/166220011/ref=zg_bs_nav_toys-and-games_1', '/Best-Sellers-Toys-Games-Kids-Furniture-Dcor/zgbs/toys-and-games/166210011/ref=zg_bs_nav_toys-and-games_1', '/Best-Sellers-Toys-Games-Toy-Figures-Playsets/zgbs/toys-and-games/165993011/ref=zg_bs_nav_toys-and-games_1', '/gp/seller-account/mm-summary-page.html?ld=AZFooterSelfPublish&topic=200260520&ref_=footer_publishing', '/gp/browse.html?node=15547130011&ref_=_us_footer_drive', '/Family-Sturdy-Storage-Travel-Friendly-Exclusive/dp/B07P6MZPK3/ref=zg_bs_toys-and-games_27/132-7348803-1160242?pd_rd_i=B09PRL4CDJ&psc=1', '/Rapid-Filling-Self-Sealing-Bunches-Balloons-Bundles/dp/B09Z6ZLR9P/ref=zg_bs_toys-and-games_5/132-7348803-1160242?pd_rd_i=B09V29B8J1&psc=1', '/Pok%C3%A9mon-Assorted-Cards-50-Pieces/dp/B001CJVTLC/ref=zg_bs_toys-and-games_10/132-7348803-1160242?pd_rd_i=B001CJVTLC&psc=1', '/b/?_encoding=UTF8&node=23466307011&ref_=nav_swm_undefined&pf_rd_p=d3441fcd-9c4f-4e51-9245-c7f79fa80f30&pf_rd_s=nav-sitewide-msg-text-export&pf_rd_t=4201&pf_rd_i=navbar-4201&pf_rd_m=ATVPDKIKX0DER&pf_rd_r=RZ0VK1Z6YCETZ7Z80HRJ', '/b/?_encoding=UTF8&ld=AZUSSOA-sell&node=12766669011&ref_=nav_cs_sell', '/gcx/-/gfhz/events/?_encoding=UTF8&categoryId=holiday-toy-list&ref_=sv_t_1', '/hz/wishlist/ls?triggerElementID=createList&ref_=nav_ListFlyout_navFlyout_createList_lv_redirect', '/interestbasedads/ref=footer_iba', '/Best-Sellers-Toys-Games-Arts-Crafts-Supplies/zgbs/toys-and-games/166057011/ref=zg_bs_nav_toys-and-games_1', '/Best-Sellers-Toys-Games-Baby-Toddler-Toys/zgbs/toys-and-games/196601011/ref=zg_bs_nav_toys-and-games_1', '/customer-preferences/country?ie=UTF8&preferencesReturnUrl=%2FBest-Sellers-Toys-Games%2Fzgbs%2Ftoys-and-games%2F&ref_=footer_icp_cp', '/Best-Sellers-Toys-Games-Puppets-Puppet-Theaters/zgbs/toys-and-games/166333011/ref=zg_bs_nav_toys-and-games_1', '/gp/css/order-history?ref_=nav_orders_first', '/Best-Sellers-Toys-Games-Collectible-Card-Games/zgbs/toys-and-games/166242011/ref=zg_bs_nav_toys-and-games_1', '/gp/bestsellers/toys-and-games/?ie=UTF8&ie=UTF8&ref_=sv_t_4', '/dp/B07984JN3L?plattr=ACOMFO&ie=UTF-8', '/gp/help/customer/display.html?nodeId=508088&ref_=footer_cou', '/gp/help/customer/display.html?nodeId=508510&ref_=footer_gw_m_b_he', '/gp/new-releases/toys-and-games/?ie=UTF8&ie=UTF8&ref_=sv_t_5', '/Best-Sellers-Toys-Games-Dolls-Accessories/zgbs/toys-and-games/166118011/ref=zg_bs_nav_toys-and-games_1', '/Click-Play-Phthalate-Crush-Plastic/dp/B00PYLU3GG/ref=zg_bs_toys-and-games_28/132-7348803-1160242?pd_rd_i=B09W8R622H&psc=1', '/hz/mycd/myx?pageType=content&ref_=nav_AccountFlyout_myk', '/Best-Sellers-Toys-Games-Kids-Dress-Up-Pretend-Play/zgbs/toys-and-games/166316011/ref=zg_bs_nav_toys-and-games_1', '/Best-Sellers-Toys-Games-Kids-Musical-Instruments/zgbs/toys-and-games/166326011/ref=zg_bs_nav_toys-and-games_1', '/Crayola-Colored-Pencil-Supplies-Assorted/dp/B00006RVTS/ref=zg_bs_toys-and-games_24/132-7348803-1160242?pd_rd_i=B09MH514FH&psc=1', '/gp/most-gifted/toys-and-games/ref=zg_bs_tab_t_mg', '/Bunch-Balloons-Zuru-Self-Sealing-Water/dp/B07FL35M4Z/ref=zg_bs_toys-and-games_13/132-7348803-1160242?pd_rd_i=B09T9P47P9&psc=1', '/SDFWE-555-PCS-Water-Balloons/dp/B0B1PY172J/ref=zg_bs_toys-and-games_16/132-7348803-1160242?pd_rd_i=B0B1PY172J&psc=1', '/hz/charitylist/homepage?ref_=nav_ListFlyout_smi_se_ya_lll_ll', '/SHASHIBO-Shifting-Geometric-Magnetic-Transforming/dp/B07W7FLKRW/ref=zg_bs_toys-and-games_22/132-7348803-1160242?pd_rd_i=B09NTXBJDM&psc=1', '/customer-preferences/edit?ie=UTF8&ref_=footer_cop&preferencesReturnUrl=%2FBest-Sellers-Toys-Games%2Fzgbs%2Ftoys-and-games%2FBest-Sellers-Toys-Games%2Fzgbs%2Ftoys-and-games%2F', '/Pokemon-TCG-Authentic-Expansion-Holofoils/dp/B001DIJ48C/ref=zg_bs_toys-and-games_18/132-7348803-1160242?pd_rd_i=B09ZKJR98V&psc=1', '/Glow-Sticks-Bulk-Party-Supplies/dp/B07ZV31J31/ref=zg_bs_toys-and-games_9/132-7348803-1160242?pd_rd_i=B08B146216&psc=1', '/gp/help/customer/display.html?nodeId=468520&ref_=footer_shiprates', '/gp/browse.html?node=14498690011&ref_=amzn_nav_ftr_swa', '/gp/video/watchlist?ref_=nav_AccountFlyout_ywl', '/gp/browse.html?node=230659011&ref_=footer_amazonglobal', '/gift-cards/b/?ie=UTF8&node=2238192011&ref_=nav_cs_gc', '/gp/browse.html?node=2102313011&ref_=footer_devices', '/Best-Sellers-Toys-Games/zgbs/toys-and-games/ref=zg_bs_pg_2?_encoding=UTF8&pg=2']\n"
     ]
    }
   ],
   "source": [
    "new_links= [x for x in html_obj.links if x.startswith('/')]\n",
    "new_links = [x for x in new_links if \"product-reviews/\" not in x]\n",
    "print(new_links)"
   ]
  },
  {
   "cell_type": "code",
   "execution_count": 10,
   "id": "7a706492",
   "metadata": {},
   "outputs": [],
   "source": [
    "page_links = [f'https://www.amazon.com{x}' for x in new_links]"
   ]
  },
  {
   "cell_type": "code",
   "execution_count": 11,
   "id": "856b0f10",
   "metadata": {},
   "outputs": [
    {
     "data": {
      "text/plain": [
       "['https://www.amazon.com/gp/css/homepage.html?ref_=nav_AccountFlyout_ya',\n",
       " 'https://www.amazon.com/Bentgo-Leak-Proof-5-Compartment-Bento-Style-Lunch/dp/B08B115T54/ref=zg_bs_toys-and-games_29/132-7348803-1160242?pd_rd_i=B07SZHBGZH&psc=1',\n",
       " 'https://www.amazon.com/b/?_encoding=UTF8&_encoding=UTF8&node=2241292011&ref_=sv_t_7',\n",
       " 'https://www.amazon.com/gp/css/returns/homepage.html?ref_=footer_hy_f_4',\n",
       " 'https://www.amazon.com/Almce-Isabella-Mirabel-Costume-Ruffles/dp/B09V7QRBGQ/ref=zg_bs_toys-and-games_19/132-7348803-1160242?pd_rd_i=B09WYL3HTW&psc=1',\n",
       " 'https://www.amazon.com/gp/kindle/ku/ku_central?ref_=nav_AccountFlyout_ku',\n",
       " 'https://www.amazon.com/TeeTurtle-Reversible-Octopus-Mini-Plush/dp/B07H4K9QYQ/ref=zg_bs_toys-and-games_4/132-7348803-1160242?pd_rd_i=B09DJTXGBN&psc=1',\n",
       " 'https://www.amazon.com/Best-Sellers-Toys-Games-Learning-Education-Toys/zgbs/toys-and-games/166269011/ref=zg_bs_nav_toys-and-games_1',\n",
       " 'https://www.amazon.com/Best-Sellers-Toys-Games-Novelty-Toys-Amusements/zgbs/toys-and-games/166027011/ref=zg_bs_nav_toys-and-games_1',\n",
       " 'https://www.amazon.com/Automatic-Toddlers-Operated-Batteries-Birthday/dp/B07VZF7X31/ref=zg_bs_toys-and-games_30/132-7348803-1160242?pd_rd_i=B085C2J3C5&psc=1',\n",
       " 'https://www.amazon.com/Best-Sellers-Toys-Games-Kids-Electronics/zgbs/toys-and-games/166164011/ref=zg_bs_nav_toys-and-games_1',\n",
       " 'https://www.amazon.com/gp/cart/view.html?ref_=nav_cart',\n",
       " 'https://www.amazon.com/gp/help/customer/display.html?nodeId=GDFU3JS5AL6SYHRD&ref_=footer_covid',\n",
       " 'https://www.amazon.com/gp/css/order-history?ref_=nav_AccountFlyout_orders',\n",
       " 'https://www.amazon.com/ref=nav_logo',\n",
       " 'https://www.amazon.com/Play-Doh-Modeling-Compound-Non-Toxic-Exclusive/dp/B00JM5GW10/ref=zg_bs_toys-and-games_11/132-7348803-1160242?pd_rd_i=B00JM5GW10&psc=1',\n",
       " 'https://www.amazon.com/gp/browse.html?node=388305011&ref_=footer_tfx',\n",
       " 'https://www.amazon.com/registries?ref_=nav_ListFlyout_find',\n",
       " 'https://www.amazon.com/LeapFrog-Animals-Book-Frustration-Packaging/dp/B085KTB1WY/ref=zg_bs_toys-and-games_3/132-7348803-1160242?pd_rd_i=B0953YFR2M&psc=1',\n",
       " 'https://www.amazon.com/gp/browse.html?node=10232440011&ref_=footer_reload_us',\n",
       " 'https://www.amazon.com/Lydaz-Electronic-Machine-Outdoor-Toddlers/dp/B07H331J4R/ref=zg_bs_toys-and-games_15/132-7348803-1160242?pd_rd_i=B07H331J4R&psc=1',\n",
       " 'https://www.amazon.com/customer-preferences/edit?ie=UTF8&preferencesReturnUrl=%2FBest-Sellers-Toys-Games%2Fzgbs%2Ftoys-and-games%2F&ref_=topnav_lang_ais',\n",
       " 'https://www.amazon.com/gp/history?ref_=nav_AccountFlyout_browsinghistory',\n",
       " 'https://www.amazon.com/LEGO-Succulents-Building-Adults-Display/dp/B09Q4GWMZQ/ref=zg_bs_toys-and-games_7/132-7348803-1160242?pd_rd_i=B09Q4GWMZQ&psc=1',\n",
       " 'https://www.amazon.com/Best-Sellers-Toys-Games/zgbs/toys-and-games/ref=zg_bs_pg_1?_encoding=UTF8&pg=1',\n",
       " 'https://www.amazon.com/gp/browse.html?node=16218619011&ref_=footer_swp',\n",
       " 'https://www.amazon.com/SplashEZ-Splash-Sprinkler-Toddler-Learning/dp/B0836WRWFY/ref=zg_bs_toys-and-games_8/132-7348803-1160242?pd_rd_i=B084ZNK9NV&psc=1',\n",
       " 'https://www.amazon.com/Electric-Portable-Balloons-Inflator-Decoration/dp/B07Z8N2X8G/ref=zg_bs_toys-and-games_1/132-7348803-1160242?pd_rd_i=B07Z8N2X8G&psc=1',\n",
       " 'https://www.amazon.com/Best-Sellers-Toys-Games-Puzzles/zgbs/toys-and-games/166359011/ref=zg_bs_nav_toys-and-games_1',\n",
       " 'https://www.amazon.com/gp/browse.html?node=16115931011&ref_=nav_cs_registry',\n",
       " 'https://www.amazon.com/Little-Tikes-First-Slide-Blue/dp/B008MH5H4M/ref=zg_bs_toys-and-games_26/132-7348803-1160242?pd_rd_i=B008MH5H4M&psc=1',\n",
       " 'https://www.amazon.com/Sassy-Stacks-Circles-Stacking-Learning/dp/B07NXDJ52C/ref=zg_bs_toys-and-games_21/132-7348803-1160242?pd_rd_i=B09STL9ZN7&psc=1',\n",
       " 'https://www.amazon.com/First-Years-Stack-Up-Cups/dp/B00005C5H4/ref=zg_bs_toys-and-games_23/132-7348803-1160242?pd_rd_i=B07C4NGT17&psc=1',\n",
       " 'https://www.amazon.com/registries/birthday/?_encoding=UTF8&sourceVendorId=from_toys_games&ref_=sv_t_8',\n",
       " 'https://www.amazon.com/gp/help/customer/accessibility',\n",
       " 'https://www.amazon.com/Best-Sellers-Toys-Games-Hobby-Remote-App-Controlled-Vehicles-Parts/zgbs/toys-and-games/6925830011/ref=zg_bs_nav_toys-and-games_1',\n",
       " 'https://www.amazon.com/Funko-Pop-TV-Simpsons-Exclusive/dp/B09QC8QK5F/ref=zg_bs_toys-and-games_6/132-7348803-1160242?pd_rd_i=B09QC8QK5F&psc=1',\n",
       " 'https://www.amazon.com/b/?node=18190131011&ld=AZUSSOA-seemore&ref_=footer_seemore',\n",
       " 'https://www.amazon.com/Kinetic-Sand-Online-Exclusive-Sensory/dp/B09BW36FW6/ref=zg_bs_toys-and-games_25/132-7348803-1160242?pd_rd_i=B09WQ6GMYJ&psc=1',\n",
       " 'https://www.amazon.com/gp/help/customer/display.html?nodeId=508510&ref_=nav_cs_customerservice',\n",
       " 'https://www.amazon.com/gp/goldbox?ref_=nav_cs_gb',\n",
       " 'https://www.amazon.com/gp/BIT/ref=footer_bit_v2_us_A0029?bitCampaignCode=A0029',\n",
       " 'https://www.amazon.com/Best-Sellers-Toys-Games-Stuffed-Animals-Plush-Toys/zgbs/toys-and-games/166461011/ref=zg_bs_nav_toys-and-games_1',\n",
       " 'https://www.amazon.com/Best-Sellers-Toys-Games-Building-Toys/zgbs/toys-and-games/166092011/ref=zg_bs_nav_toys-and-games_1',\n",
       " 'https://www.amazon.com/gp/yourstore?ref_=nav_AccountFlyout_recs',\n",
       " 'https://www.amazon.com/hz5/yourmembershipsandsubscriptions?ref_=nav_AccountFlyout_digital_subscriptions',\n",
       " 'https://www.amazon.com/Best-Sellers/zgbs/ref=zg_bs_unv_toys-and-games_0_1',\n",
       " 'https://www.amazon.com/Best-Sellers-Toys-Games-Tricycles-Scooters-Wagons/zgbs/toys-and-games/256994011/ref=zg_bs_nav_toys-and-games_1',\n",
       " 'https://www.amazon.com/b/?_encoding=UTF8&ie=UTF8&node=17403333011&ref_=sv_t_6',\n",
       " 'https://www.amazon.com/gp/history',\n",
       " 'https://www.amazon.com/customer-preferences/edit?ie=UTF8&preferencesReturnUrl=%2FBest-Sellers-Toys-Games%2Fzgbs%2Ftoys-and-games%2F&ref_=footer_lang',\n",
       " 'https://www.amazon.com/Aqua-Monterey-Multi-Purpose-Inflatable-Portable/dp/B073WMYP6M/ref=zg_bs_toys-and-games_2/132-7348803-1160242?pd_rd_i=B09X2GCSDD&psc=1',\n",
       " 'https://www.amazon.com/LAYCOL-Swimming-Inflatable-Newest-Protection/dp/B083VRT815/ref=zg_bs_toys-and-games_17/132-7348803-1160242?pd_rd_i=B083VSRKRG&psc=1',\n",
       " 'https://www.amazon.com/business?ref_=footer_retail_b2b',\n",
       " 'https://www.amazon.com/gp/video/library?ref_=nav_AccountFlyout_yvl',\n",
       " 'https://www.amazon.com/Best-Sellers-Toys-Games-Toy-Vehicles/zgbs/toys-and-games/23539911011/ref=zg_bs_nav_toys-and-games_1',\n",
       " 'https://www.amazon.com/Best-Sellers-Toys-Games-Sports-Outdoor-Play-Toys/zgbs/toys-and-games/166420011/ref=zg_bs_nav_toys-and-games_1',\n",
       " 'https://www.amazon.com/services?ref_=footer_services',\n",
       " 'https://www.amazon.com/gp/new-releases/toys-and-games/ref=zg_bs_tab_t_bsnr',\n",
       " 'https://www.amazon.com/Barbie-Reveal-Costume-Surprises-Including/dp/B09KTFNNZ1/ref=zg_bs_toys-and-games_14/132-7348803-1160242?pd_rd_i=B09TVWQFX6&psc=1',\n",
       " 'https://www.amazon.com/b/?_encoding=UTF8&ie=UTF8&node=17728536011&ref_=sv_t_3',\n",
       " 'https://www.amazon.com/registries/holiday/?_encoding=UTF8&sourceVendorId=from_toys_games&ref_=sv_t_9',\n",
       " 'https://www.amazon.com/gp/help/customer/display.html?nodeId=468496&ref_=footer_privacy',\n",
       " 'https://www.amazon.com/Best-Sellers-Toys-Games-Kids-Party-Supplies/zgbs/toys-and-games/1266203011/ref=zg_bs_nav_toys-and-games_1',\n",
       " 'https://www.amazon.com/LEGO-Horizon-Forbidden-West-Collectible/dp/B09Q46YHKB/ref=zg_bs_toys-and-games_12/132-7348803-1160242?pd_rd_i=B09Q46YHKB&psc=1',\n",
       " 'https://www.amazon.com/gp/most-wished-for/toys-and-games/ref=zg_bs_tab_t_mw',\n",
       " 'https://www.amazon.com/Step2-874600-Showers-Playset-Multi-Colored/dp/B01K1K0K6M/ref=zg_bs_toys-and-games_20/132-7348803-1160242?pd_rd_i=B07V3FM9ZV&psc=1',\n",
       " 'https://www.amazon.com/gp/digital/fiona/manage?ref_=footer_myk',\n",
       " 'https://www.amazon.com/gp/subscribe-and-save/manager/viewsubscriptions?ref_=nav_AccountFlyout_sns',\n",
       " 'https://www.amazon.com/gp/movers-and-shakers/toys-and-games/ref=zg_bs_tab_t_bsms',\n",
       " 'https://www.amazon.com/toys/b/?ie=UTF8&node=165793011&ref_=topnav_storetab_t',\n",
       " 'https://www.amazon.com/Best-Sellers-Toys-Games-Preschool-Toys/zgbs/toys-and-games/251909011/ref=zg_bs_nav_toys-and-games_1',\n",
       " 'https://www.amazon.com/?ref_=footer_logo',\n",
       " 'https://www.amazon.com/fcx/shop-by-age/store/?_encoding=UTF8&age=0m_24m&st=165793011&ref_=sv_t_2',\n",
       " 'https://www.amazon.com/Best-Sellers-Toys-Games-Games-Accessories/zgbs/toys-and-games/166220011/ref=zg_bs_nav_toys-and-games_1',\n",
       " 'https://www.amazon.com/Best-Sellers-Toys-Games-Kids-Furniture-Dcor/zgbs/toys-and-games/166210011/ref=zg_bs_nav_toys-and-games_1',\n",
       " 'https://www.amazon.com/Best-Sellers-Toys-Games-Toy-Figures-Playsets/zgbs/toys-and-games/165993011/ref=zg_bs_nav_toys-and-games_1',\n",
       " 'https://www.amazon.com/gp/seller-account/mm-summary-page.html?ld=AZFooterSelfPublish&topic=200260520&ref_=footer_publishing',\n",
       " 'https://www.amazon.com/gp/browse.html?node=15547130011&ref_=_us_footer_drive',\n",
       " 'https://www.amazon.com/Family-Sturdy-Storage-Travel-Friendly-Exclusive/dp/B07P6MZPK3/ref=zg_bs_toys-and-games_27/132-7348803-1160242?pd_rd_i=B09PRL4CDJ&psc=1',\n",
       " 'https://www.amazon.com/Rapid-Filling-Self-Sealing-Bunches-Balloons-Bundles/dp/B09Z6ZLR9P/ref=zg_bs_toys-and-games_5/132-7348803-1160242?pd_rd_i=B09V29B8J1&psc=1',\n",
       " 'https://www.amazon.com/Pok%C3%A9mon-Assorted-Cards-50-Pieces/dp/B001CJVTLC/ref=zg_bs_toys-and-games_10/132-7348803-1160242?pd_rd_i=B001CJVTLC&psc=1',\n",
       " 'https://www.amazon.com/b/?_encoding=UTF8&node=23466307011&ref_=nav_swm_undefined&pf_rd_p=d3441fcd-9c4f-4e51-9245-c7f79fa80f30&pf_rd_s=nav-sitewide-msg-text-export&pf_rd_t=4201&pf_rd_i=navbar-4201&pf_rd_m=ATVPDKIKX0DER&pf_rd_r=RZ0VK1Z6YCETZ7Z80HRJ',\n",
       " 'https://www.amazon.com/b/?_encoding=UTF8&ld=AZUSSOA-sell&node=12766669011&ref_=nav_cs_sell',\n",
       " 'https://www.amazon.com/gcx/-/gfhz/events/?_encoding=UTF8&categoryId=holiday-toy-list&ref_=sv_t_1',\n",
       " 'https://www.amazon.com/hz/wishlist/ls?triggerElementID=createList&ref_=nav_ListFlyout_navFlyout_createList_lv_redirect',\n",
       " 'https://www.amazon.com/interestbasedads/ref=footer_iba',\n",
       " 'https://www.amazon.com/Best-Sellers-Toys-Games-Arts-Crafts-Supplies/zgbs/toys-and-games/166057011/ref=zg_bs_nav_toys-and-games_1',\n",
       " 'https://www.amazon.com/Best-Sellers-Toys-Games-Baby-Toddler-Toys/zgbs/toys-and-games/196601011/ref=zg_bs_nav_toys-and-games_1',\n",
       " 'https://www.amazon.com/customer-preferences/country?ie=UTF8&preferencesReturnUrl=%2FBest-Sellers-Toys-Games%2Fzgbs%2Ftoys-and-games%2F&ref_=footer_icp_cp',\n",
       " 'https://www.amazon.com/Best-Sellers-Toys-Games-Puppets-Puppet-Theaters/zgbs/toys-and-games/166333011/ref=zg_bs_nav_toys-and-games_1',\n",
       " 'https://www.amazon.com/gp/css/order-history?ref_=nav_orders_first',\n",
       " 'https://www.amazon.com/Best-Sellers-Toys-Games-Collectible-Card-Games/zgbs/toys-and-games/166242011/ref=zg_bs_nav_toys-and-games_1',\n",
       " 'https://www.amazon.com/gp/bestsellers/toys-and-games/?ie=UTF8&ie=UTF8&ref_=sv_t_4',\n",
       " 'https://www.amazon.com/dp/B07984JN3L?plattr=ACOMFO&ie=UTF-8',\n",
       " 'https://www.amazon.com/gp/help/customer/display.html?nodeId=508088&ref_=footer_cou',\n",
       " 'https://www.amazon.com/gp/help/customer/display.html?nodeId=508510&ref_=footer_gw_m_b_he',\n",
       " 'https://www.amazon.com/gp/new-releases/toys-and-games/?ie=UTF8&ie=UTF8&ref_=sv_t_5',\n",
       " 'https://www.amazon.com/Best-Sellers-Toys-Games-Dolls-Accessories/zgbs/toys-and-games/166118011/ref=zg_bs_nav_toys-and-games_1',\n",
       " 'https://www.amazon.com/Click-Play-Phthalate-Crush-Plastic/dp/B00PYLU3GG/ref=zg_bs_toys-and-games_28/132-7348803-1160242?pd_rd_i=B09W8R622H&psc=1',\n",
       " 'https://www.amazon.com/hz/mycd/myx?pageType=content&ref_=nav_AccountFlyout_myk',\n",
       " 'https://www.amazon.com/Best-Sellers-Toys-Games-Kids-Dress-Up-Pretend-Play/zgbs/toys-and-games/166316011/ref=zg_bs_nav_toys-and-games_1',\n",
       " 'https://www.amazon.com/Best-Sellers-Toys-Games-Kids-Musical-Instruments/zgbs/toys-and-games/166326011/ref=zg_bs_nav_toys-and-games_1',\n",
       " 'https://www.amazon.com/Crayola-Colored-Pencil-Supplies-Assorted/dp/B00006RVTS/ref=zg_bs_toys-and-games_24/132-7348803-1160242?pd_rd_i=B09MH514FH&psc=1',\n",
       " 'https://www.amazon.com/gp/most-gifted/toys-and-games/ref=zg_bs_tab_t_mg',\n",
       " 'https://www.amazon.com/Bunch-Balloons-Zuru-Self-Sealing-Water/dp/B07FL35M4Z/ref=zg_bs_toys-and-games_13/132-7348803-1160242?pd_rd_i=B09T9P47P9&psc=1',\n",
       " 'https://www.amazon.com/SDFWE-555-PCS-Water-Balloons/dp/B0B1PY172J/ref=zg_bs_toys-and-games_16/132-7348803-1160242?pd_rd_i=B0B1PY172J&psc=1',\n",
       " 'https://www.amazon.com/hz/charitylist/homepage?ref_=nav_ListFlyout_smi_se_ya_lll_ll',\n",
       " 'https://www.amazon.com/SHASHIBO-Shifting-Geometric-Magnetic-Transforming/dp/B07W7FLKRW/ref=zg_bs_toys-and-games_22/132-7348803-1160242?pd_rd_i=B09NTXBJDM&psc=1',\n",
       " 'https://www.amazon.com/customer-preferences/edit?ie=UTF8&ref_=footer_cop&preferencesReturnUrl=%2FBest-Sellers-Toys-Games%2Fzgbs%2Ftoys-and-games%2FBest-Sellers-Toys-Games%2Fzgbs%2Ftoys-and-games%2F',\n",
       " 'https://www.amazon.com/Pokemon-TCG-Authentic-Expansion-Holofoils/dp/B001DIJ48C/ref=zg_bs_toys-and-games_18/132-7348803-1160242?pd_rd_i=B09ZKJR98V&psc=1',\n",
       " 'https://www.amazon.com/Glow-Sticks-Bulk-Party-Supplies/dp/B07ZV31J31/ref=zg_bs_toys-and-games_9/132-7348803-1160242?pd_rd_i=B08B146216&psc=1',\n",
       " 'https://www.amazon.com/gp/help/customer/display.html?nodeId=468520&ref_=footer_shiprates',\n",
       " 'https://www.amazon.com/gp/browse.html?node=14498690011&ref_=amzn_nav_ftr_swa',\n",
       " 'https://www.amazon.com/gp/video/watchlist?ref_=nav_AccountFlyout_ywl',\n",
       " 'https://www.amazon.com/gp/browse.html?node=230659011&ref_=footer_amazonglobal',\n",
       " 'https://www.amazon.com/gift-cards/b/?ie=UTF8&node=2238192011&ref_=nav_cs_gc',\n",
       " 'https://www.amazon.com/gp/browse.html?node=2102313011&ref_=footer_devices',\n",
       " 'https://www.amazon.com/Best-Sellers-Toys-Games/zgbs/toys-and-games/ref=zg_bs_pg_2?_encoding=UTF8&pg=2']"
      ]
     },
     "execution_count": 11,
     "metadata": {},
     "output_type": "execute_result"
    }
   ],
   "source": [
    "page_links"
   ]
  },
  {
   "cell_type": "code",
   "execution_count": 12,
   "id": "357f871a",
   "metadata": {},
   "outputs": [],
   "source": [
    "def scrape_product_page(url, title_lookup = \"#productTitle\", price_lookup = \"#priceblock_ourprice\"):\n",
    "    driver.get(url)\n",
    "    time.sleep(1.2)\n",
    "    body_el = driver.find_element_by_css_selector(\"body\")\n",
    "    html_str = body_el.get_attribute(\"innerHTML\")\n",
    "    html_obj = HTML(html=html_str)\n",
    "    product_title = html_obj.find(title_lookup, first=True).text\n",
    "    product_price = html_obj.find(price_lookup, first=True).text\n",
    "    return product_title, product_price"
   ]
  },
  {
   "cell_type": "code",
   "execution_count": 13,
   "id": "e6d7a5a2",
   "metadata": {},
   "outputs": [
    {
     "data": {
      "text/plain": [
       "'https://www.amazon.com/gp/css/homepage.html?ref_=nav_AccountFlyout_ya'"
      ]
     },
     "execution_count": 13,
     "metadata": {},
     "output_type": "execute_result"
    }
   ],
   "source": [
    "first_product_link = page_links[0]\n",
    "first_product_link"
   ]
  },
  {
   "cell_type": "code",
   "execution_count": 16,
   "id": "63f4b570",
   "metadata": {},
   "outputs": [
    {
     "name": "stderr",
     "output_type": "stream",
     "text": [
      "/var/folders/3q/3sbzpm556tn_jsn0vdddr77c0000gp/T/ipykernel_52588/4094615679.py:4: DeprecationWarning: find_element_by_css_selector is deprecated. Please use find_element(by=By.CSS_SELECTOR, value=css_selector) instead\n",
      "  body_el = driver.find_element_by_css_selector(\"body\")\n"
     ]
    }
   ],
   "source": [
    "for link in page_links:\n",
    "    title, price = (None, None)\n",
    "    try:\n",
    "        title, price = scrape_product_page(link)\n",
    "    except:\n",
    "        pass\n",
    "    if title != None and price != None:\n",
    "        print(link, title, price)"
   ]
  },
  {
   "cell_type": "code",
   "execution_count": 15,
   "id": "74dc28a0",
   "metadata": {},
   "outputs": [],
   "source": [
    "# https://www.amazon.com/LEGO-Classic-Medium-Creative-Brick/dp/B00NHQFA1I/\n",
    "# https://www.amazon.com/Crayola-Washable-Watercolors-8-ea/dp/B000HHKAE2/\n",
    "\n",
    "# <base-url>/<slug>/dp/<product_id>/"
   ]
  },
  {
   "cell_type": "code",
   "execution_count": null,
   "id": "16006d0e",
   "metadata": {},
   "outputs": [],
   "source": []
  }
 ],
 "metadata": {
  "kernelspec": {
   "display_name": "Python 3 (ipykernel)",
   "language": "python",
   "name": "python3"
  },
  "language_info": {
   "codemirror_mode": {
    "name": "ipython",
    "version": 3
   },
   "file_extension": ".py",
   "mimetype": "text/x-python",
   "name": "python",
   "nbconvert_exporter": "python",
   "pygments_lexer": "ipython3",
   "version": "3.9.7"
  }
 },
 "nbformat": 4,
 "nbformat_minor": 5
}
