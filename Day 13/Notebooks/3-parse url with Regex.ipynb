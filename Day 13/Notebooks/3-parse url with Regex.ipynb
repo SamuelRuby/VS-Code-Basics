{
 "cells": [
  {
   "cell_type": "code",
   "execution_count": 8,
   "id": "2f7ce94d",
   "metadata": {},
   "outputs": [
    {
     "name": "stderr",
     "output_type": "stream",
     "text": [
      "/var/folders/3q/3sbzpm556tn_jsn0vdddr77c0000gp/T/ipykernel_49717/3674007639.py:9: DeprecationWarning: executable_path has been deprecated, please pass in a Service object\n",
      "  driver = webdriver.Chrome(executable_path='/Users/ruby/Downloads/Chrome Driver/chromedriver', options=options)\n"
     ]
    }
   ],
   "source": [
    "import re\n",
    "import requests\n",
    "import time\n",
    "from requests_html import HTML\n",
    "from selenium import webdriver\n",
    "from selenium.webdriver.chrome.options import Options\n",
    "options = Options()\n",
    "options.add_argument(\"--headless\")\n",
    "driver = webdriver.Chrome(executable_path='/Users/ruby/Downloads/Chrome Driver/chromedriver', options=options)\n"
   ]
  },
  {
   "cell_type": "code",
   "execution_count": 5,
   "id": "d5e72989",
   "metadata": {},
   "outputs": [],
   "source": [
    "#options = Options()\n",
    "#options.add_argument(\"--headless\")\n",
    "\n",
    "#driver = webdriver.Chrome(options=options)"
   ]
  },
  {
   "cell_type": "code",
   "execution_count": 10,
   "id": "585d9c08",
   "metadata": {},
   "outputs": [],
   "source": [
    "categories = [\n",
    "    \"https://www.amazon.com/Best-Sellers-Toys-Games/zgbs/toys-and-games/\",\n",
    "    \"https://www.amazon.com/Best-Sellers-Electronics/zgbs/electronics/\",\n",
    "    \"https://www.amazon.com/Best-Sellers/zgbs/fashion/\"\n",
    "]"
   ]
  },
  {
   "cell_type": "code",
   "execution_count": 11,
   "id": "a4f4e2ce",
   "metadata": {},
   "outputs": [
    {
     "data": {
      "text/plain": [
       "['https://www.amazon.com/Best-Sellers-Toys-Games/zgbs/toys-and-games/',\n",
       " 'https://www.amazon.com/Best-Sellers-Electronics/zgbs/electronics/',\n",
       " 'https://www.amazon.com/Best-Sellers/zgbs/fashion/']"
      ]
     },
     "execution_count": 11,
     "metadata": {},
     "output_type": "execute_result"
    }
   ],
   "source": [
    "categories"
   ]
  },
  {
   "cell_type": "code",
   "execution_count": 12,
   "id": "e570a585",
   "metadata": {},
   "outputs": [],
   "source": [
    "first_url = categories[0]"
   ]
  },
  {
   "cell_type": "code",
   "execution_count": 13,
   "id": "578cb003",
   "metadata": {},
   "outputs": [],
   "source": [
    "driver.get(first_url)"
   ]
  },
  {
   "cell_type": "code",
   "execution_count": 14,
   "id": "259875b9",
   "metadata": {},
   "outputs": [
    {
     "name": "stderr",
     "output_type": "stream",
     "text": [
      "/var/folders/3q/3sbzpm556tn_jsn0vdddr77c0000gp/T/ipykernel_49717/816351865.py:1: DeprecationWarning: find_element_by_css_selector is deprecated. Please use find_element(by=By.CSS_SELECTOR, value=css_selector) instead\n",
      "  body_el = driver.find_element_by_css_selector('body')\n"
     ]
    }
   ],
   "source": [
    "body_el = driver.find_element_by_css_selector('body')\n",
    "html_str = body_el.get_attribute('innerHTML')"
   ]
  },
  {
   "cell_type": "code",
   "execution_count": 15,
   "id": "025c5d15",
   "metadata": {},
   "outputs": [],
   "source": [
    "html_obj = HTML(html=html_str)"
   ]
  },
  {
   "cell_type": "code",
   "execution_count": 16,
   "id": "f6ec43bd",
   "metadata": {},
   "outputs": [],
   "source": [
    "page_links = [f\"https://www.amazon.com{x}\" for x in html_obj.links if x.startswith(\"/\")]\n",
    "# new_links = [x for x in new_links if \"product-reviews/\" not in x]"
   ]
  },
  {
   "cell_type": "code",
   "execution_count": 17,
   "id": "856b0f10",
   "metadata": {},
   "outputs": [
    {
     "data": {
      "text/plain": [
       "['https://www.amazon.com/Funko-Pop-TV-Simpsons-Exclusive/dp/B09QC8QK5F/ref=zg_bs_toys-and-games_6/137-5703603-5900629?pd_rd_i=B09QC8QK5F&psc=1',\n",
       " 'https://www.amazon.com/toys/b/?ie=UTF8&node=165793011&ref_=topnav_storetab_t',\n",
       " 'https://www.amazon.com/Best-Sellers-Toys-Games-Sports-Outdoor-Play-Toys/zgbs/toys-and-games/166420011/ref=zg_bs_nav_toys-and-games_1',\n",
       " 'https://www.amazon.com/Almce-Isabella-Mirabel-Costume-Ruffles/dp/B09V7QRBGQ/ref=zg_bs_toys-and-games_19/137-5703603-5900629?pd_rd_i=B09WYL3HTW&psc=1',\n",
       " 'https://www.amazon.com/gp/browse.html?node=16115931011&ref_=nav_cs_registry',\n",
       " 'https://www.amazon.com/Crayola-Colored-Pencil-Supplies-Assorted/dp/B00006RVTS/ref=zg_bs_toys-and-games_24/137-5703603-5900629?pd_rd_i=B09MH514FH&psc=1',\n",
       " 'https://www.amazon.com/gp/bestsellers/toys-and-games/?ie=UTF8&ie=UTF8&ref_=sv_t_4',\n",
       " 'https://www.amazon.com/product-reviews/B07H331J4R/ref=zg_bs_toys-and-games_cr_15/137-5703603-5900629?pd_rd_i=B07H331J4R',\n",
       " 'https://www.amazon.com/gp/video/watchlist?ref_=nav_AccountFlyout_ywl',\n",
       " 'https://www.amazon.com/gp/help/customer/display.html?nodeId=GDFU3JS5AL6SYHRD&ref_=footer_covid',\n",
       " 'https://www.amazon.com/b/?_encoding=UTF8&ie=UTF8&node=17403333011&ref_=sv_t_6',\n",
       " 'https://www.amazon.com/product-reviews/B09W8R622H/ref=zg_bs_toys-and-games_cr_28/137-5703603-5900629?pd_rd_i=B09W8R622H',\n",
       " 'https://www.amazon.com/gp/cart/view.html?ref_=nav_cart',\n",
       " 'https://www.amazon.com/gp/browse.html?node=388305011&ref_=footer_tfx',\n",
       " 'https://www.amazon.com/product-reviews/B09Q4GWMZQ/ref=zg_bs_toys-and-games_cr_7/137-5703603-5900629?pd_rd_i=B09Q4GWMZQ',\n",
       " 'https://www.amazon.com/Best-Sellers-Toys-Games-Baby-Toddler-Toys/zgbs/toys-and-games/196601011/ref=zg_bs_nav_toys-and-games_1',\n",
       " 'https://www.amazon.com/b/?_encoding=UTF8&ie=UTF8&node=17728536011&ref_=sv_t_3',\n",
       " 'https://www.amazon.com/Lydaz-Electronic-Machine-Outdoor-Toddlers/dp/B07H331J4R/ref=zg_bs_toys-and-games_15/137-5703603-5900629?pd_rd_i=B07H331J4R&psc=1',\n",
       " 'https://www.amazon.com/registries/birthday/?_encoding=UTF8&sourceVendorId=from_toys_games&ref_=sv_t_8',\n",
       " 'https://www.amazon.com/Pok%C3%A9mon-Assorted-Cards-50-Pieces/dp/B001CJVTLC/ref=zg_bs_toys-and-games_10/137-5703603-5900629?pd_rd_i=B001CJVTLC&psc=1',\n",
       " 'https://www.amazon.com/gp/movers-and-shakers/toys-and-games/ref=zg_bs_tab_t_bsms',\n",
       " 'https://www.amazon.com/Best-Sellers-Toys-Games-Games-Accessories/zgbs/toys-and-games/166220011/ref=zg_bs_nav_toys-and-games_1',\n",
       " 'https://www.amazon.com/Glow-Sticks-Bulk-Party-Supplies/dp/B07ZV31J31/ref=zg_bs_toys-and-games_9/137-5703603-5900629?pd_rd_i=B08B146216&psc=1',\n",
       " 'https://www.amazon.com/dp/B07984JN3L?plattr=ACOMFO&ie=UTF-8',\n",
       " 'https://www.amazon.com/TeeTurtle-Reversible-Octopus-Mini-Plush/dp/B07H4K9QYQ/ref=zg_bs_toys-and-games_4/137-5703603-5900629?pd_rd_i=B09DJTXGBN&psc=1',\n",
       " 'https://www.amazon.com/registries/holiday/?_encoding=UTF8&sourceVendorId=from_toys_games&ref_=sv_t_9',\n",
       " 'https://www.amazon.com/product-reviews/B08B146216/ref=zg_bs_toys-and-games_cr_9/137-5703603-5900629?pd_rd_i=B08B146216',\n",
       " 'https://www.amazon.com/gp/BIT/ref=footer_bit_v2_us_A0029?bitCampaignCode=A0029',\n",
       " 'https://www.amazon.com/b/?_encoding=UTF8&node=23466307011&ref_=nav_swm_undefined&pf_rd_p=d3441fcd-9c4f-4e51-9245-c7f79fa80f30&pf_rd_s=nav-sitewide-msg-text-export&pf_rd_t=4201&pf_rd_i=navbar-4201&pf_rd_m=ATVPDKIKX0DER&pf_rd_r=088ND7KZ1XTCCHD8W12Q',\n",
       " 'https://www.amazon.com/b/?_encoding=UTF8&_encoding=UTF8&node=2241292011&ref_=sv_t_7',\n",
       " 'https://www.amazon.com/product-reviews/B07Z8N2X8G/ref=zg_bs_toys-and-games_cr_1/137-5703603-5900629?pd_rd_i=B07Z8N2X8G',\n",
       " 'https://www.amazon.com/LEGO-Succulents-Building-Adults-Display/dp/B09Q4GWMZQ/ref=zg_bs_toys-and-games_7/137-5703603-5900629?pd_rd_i=B09Q4GWMZQ&psc=1',\n",
       " 'https://www.amazon.com/Rapid-Filling-Self-Sealing-Bunches-Balloons-Bundles/dp/B09Z6ZLR9P/ref=zg_bs_toys-and-games_5/137-5703603-5900629?pd_rd_i=B09V29B8J1&psc=1',\n",
       " 'https://www.amazon.com/product-reviews/B07SZHBGZH/ref=zg_bs_toys-and-games_cr_29/137-5703603-5900629?pd_rd_i=B07SZHBGZH',\n",
       " 'https://www.amazon.com/Automatic-Toddlers-Operated-Batteries-Birthday/dp/B07VZF7X31/ref=zg_bs_toys-and-games_30/137-5703603-5900629?pd_rd_i=B085C2J3C5&psc=1',\n",
       " 'https://www.amazon.com/product-reviews/B09PRL4CDJ/ref=zg_bs_toys-and-games_cr_27/137-5703603-5900629?pd_rd_i=B09PRL4CDJ',\n",
       " 'https://www.amazon.com/Best-Sellers-Toys-Games-Hobby-Remote-App-Controlled-Vehicles-Parts/zgbs/toys-and-games/6925830011/ref=zg_bs_nav_toys-and-games_1',\n",
       " 'https://www.amazon.com/LeapFrog-Animals-Book-Frustration-Packaging/dp/B085KTB1WY/ref=zg_bs_toys-and-games_3/137-5703603-5900629?pd_rd_i=B0953YFR2M&psc=1',\n",
       " 'https://www.amazon.com/Bunch-Balloons-Zuru-Self-Sealing-Water/dp/B07FL35M4Z/ref=zg_bs_toys-and-games_13/137-5703603-5900629?pd_rd_i=B09T9P47P9&psc=1',\n",
       " 'https://www.amazon.com/SHASHIBO-Shifting-Geometric-Magnetic-Transforming/dp/B07W7FLKRW/ref=zg_bs_toys-and-games_22/137-5703603-5900629?pd_rd_i=B09NTXBJDM&psc=1',\n",
       " 'https://www.amazon.com/product-reviews/B09STL9ZN7/ref=zg_bs_toys-and-games_cr_21/137-5703603-5900629?pd_rd_i=B09STL9ZN7',\n",
       " 'https://www.amazon.com/product-reviews/B09DJTXGBN/ref=zg_bs_toys-and-games_cr_4/137-5703603-5900629?pd_rd_i=B09DJTXGBN',\n",
       " 'https://www.amazon.com/product-reviews/B083VSRKRG/ref=zg_bs_toys-and-games_cr_17/137-5703603-5900629?pd_rd_i=B083VSRKRG',\n",
       " 'https://www.amazon.com/Best-Sellers-Toys-Games-Dolls-Accessories/zgbs/toys-and-games/166118011/ref=zg_bs_nav_toys-and-games_1',\n",
       " 'https://www.amazon.com/gp/help/customer/display.html?nodeId=508510&ref_=nav_cs_customerservice',\n",
       " 'https://www.amazon.com/Little-Tikes-First-Slide-Blue/dp/B008MH5H4M/ref=zg_bs_toys-and-games_26/137-5703603-5900629?pd_rd_i=B008MH5H4M&psc=1',\n",
       " 'https://www.amazon.com/product-reviews/B07V3FM9ZV/ref=zg_bs_toys-and-games_cr_20/137-5703603-5900629?pd_rd_i=B07V3FM9ZV',\n",
       " 'https://www.amazon.com/Best-Sellers-Toys-Games-Toy-Vehicles/zgbs/toys-and-games/23539911011/ref=zg_bs_nav_toys-and-games_1',\n",
       " 'https://www.amazon.com/gp/help/customer/display.html?nodeId=468496&ref_=footer_privacy',\n",
       " 'https://www.amazon.com/gp/goldbox?ref_=nav_cs_gb',\n",
       " 'https://www.amazon.com/gift-cards/b/?ie=UTF8&node=2238192011&ref_=nav_cs_gc',\n",
       " 'https://www.amazon.com/gp/browse.html?node=10232440011&ref_=footer_reload_us',\n",
       " 'https://www.amazon.com/product-reviews/B09ZKJR98V/ref=zg_bs_toys-and-games_cr_18/137-5703603-5900629?pd_rd_i=B09ZKJR98V',\n",
       " 'https://www.amazon.com/Aqua-Monterey-Multi-Purpose-Inflatable-Portable/dp/B073WMYP6M/ref=zg_bs_toys-and-games_2/137-5703603-5900629?pd_rd_i=B09X2GCSDD&psc=1',\n",
       " 'https://www.amazon.com/gp/browse.html?node=2102313011&ref_=footer_devices',\n",
       " 'https://www.amazon.com/product-reviews/B09WQ6GMYJ/ref=zg_bs_toys-and-games_cr_25/137-5703603-5900629?pd_rd_i=B09WQ6GMYJ',\n",
       " 'https://www.amazon.com/gp/most-wished-for/toys-and-games/ref=zg_bs_tab_t_mw',\n",
       " 'https://www.amazon.com/gp/help/customer/display.html?nodeId=468520&ref_=footer_shiprates',\n",
       " 'https://www.amazon.com/Kinetic-Sand-Online-Exclusive-Sensory/dp/B09BW36FW6/ref=zg_bs_toys-and-games_25/137-5703603-5900629?pd_rd_i=B09WQ6GMYJ&psc=1',\n",
       " 'https://www.amazon.com/gp/browse.html?node=14498690011&ref_=amzn_nav_ftr_swa',\n",
       " 'https://www.amazon.com/Best-Sellers-Toys-Games-Tricycles-Scooters-Wagons/zgbs/toys-and-games/256994011/ref=zg_bs_nav_toys-and-games_1',\n",
       " 'https://www.amazon.com/Best-Sellers-Toys-Games-Puzzles/zgbs/toys-and-games/166359011/ref=zg_bs_nav_toys-and-games_1',\n",
       " 'https://www.amazon.com/LEGO-Horizon-Forbidden-West-Collectible/dp/B09Q46YHKB/ref=zg_bs_toys-and-games_12/137-5703603-5900629?pd_rd_i=B09Q46YHKB&psc=1',\n",
       " 'https://www.amazon.com/gp/yourstore?ref_=nav_AccountFlyout_recs',\n",
       " 'https://www.amazon.com/product-reviews/B084ZNK9NV/ref=zg_bs_toys-and-games_cr_8/137-5703603-5900629?pd_rd_i=B084ZNK9NV',\n",
       " 'https://www.amazon.com/gp/help/customer/accessibility',\n",
       " 'https://www.amazon.com/Click-Play-Phthalate-Crush-Plastic/dp/B00PYLU3GG/ref=zg_bs_toys-and-games_28/137-5703603-5900629?pd_rd_i=B09W8R622H&psc=1',\n",
       " 'https://www.amazon.com/product-reviews/B09T9P47P9/ref=zg_bs_toys-and-games_cr_13/137-5703603-5900629?pd_rd_i=B09T9P47P9',\n",
       " 'https://www.amazon.com/gp/browse.html?node=15547130011&ref_=_us_footer_drive',\n",
       " 'https://www.amazon.com/b/?node=18190131011&ld=AZUSSOA-seemore&ref_=footer_seemore',\n",
       " 'https://www.amazon.com/Best-Sellers-Toys-Games-Puppets-Puppet-Theaters/zgbs/toys-and-games/166333011/ref=zg_bs_nav_toys-and-games_1',\n",
       " 'https://www.amazon.com/product-reviews/B09MH514FH/ref=zg_bs_toys-and-games_cr_24/137-5703603-5900629?pd_rd_i=B09MH514FH',\n",
       " 'https://www.amazon.com/Best-Sellers-Toys-Games-Novelty-Toys-Amusements/zgbs/toys-and-games/166027011/ref=zg_bs_nav_toys-and-games_1',\n",
       " 'https://www.amazon.com/gp/subscribe-and-save/manager/viewsubscriptions?ref_=nav_AccountFlyout_sns',\n",
       " 'https://www.amazon.com/Best-Sellers-Toys-Games-Arts-Crafts-Supplies/zgbs/toys-and-games/166057011/ref=zg_bs_nav_toys-and-games_1',\n",
       " 'https://www.amazon.com/gp/history?ref_=nav_AccountFlyout_browsinghistory',\n",
       " 'https://www.amazon.com/customer-preferences/edit?ie=UTF8&preferencesReturnUrl=%2FBest-Sellers-Toys-Games%2Fzgbs%2Ftoys-and-games%2F&ref_=footer_lang',\n",
       " 'https://www.amazon.com/customer-preferences/country?ie=UTF8&preferencesReturnUrl=%2FBest-Sellers-Toys-Games%2Fzgbs%2Ftoys-and-games%2F&ref_=footer_icp_cp',\n",
       " 'https://www.amazon.com/customer-preferences/edit?ie=UTF8&ref_=footer_cop&preferencesReturnUrl=%2FBest-Sellers-Toys-Games%2Fzgbs%2Ftoys-and-games%2FBest-Sellers-Toys-Games%2Fzgbs%2Ftoys-and-games%2F',\n",
       " 'https://www.amazon.com/Best-Sellers/zgbs/ref=zg_bs_unv_toys-and-games_0_1',\n",
       " 'https://www.amazon.com/gp/digital/fiona/manage?ref_=footer_myk',\n",
       " 'https://www.amazon.com/Bentgo-Leak-Proof-5-Compartment-Bento-Style-Lunch/dp/B08B115T54/ref=zg_bs_toys-and-games_29/137-5703603-5900629?pd_rd_i=B07SZHBGZH&psc=1',\n",
       " 'https://www.amazon.com/gp/css/order-history?ref_=nav_orders_first',\n",
       " 'https://www.amazon.com/b/?_encoding=UTF8&ld=AZUSSOA-sell&node=12766669011&ref_=nav_cs_sell',\n",
       " 'https://www.amazon.com/product-reviews/B09NTXBJDM/ref=zg_bs_toys-and-games_cr_22/137-5703603-5900629?pd_rd_i=B09NTXBJDM',\n",
       " 'https://www.amazon.com/hz/charitylist/homepage?ref_=nav_ListFlyout_smi_se_ya_lll_ll',\n",
       " 'https://www.amazon.com/business?ref_=footer_retail_b2b',\n",
       " 'https://www.amazon.com/Best-Sellers-Toys-Games-Toy-Figures-Playsets/zgbs/toys-and-games/165993011/ref=zg_bs_nav_toys-and-games_1',\n",
       " 'https://www.amazon.com/interestbasedads/ref=footer_iba',\n",
       " 'https://www.amazon.com/LAYCOL-Swimming-Inflatable-Newest-Protection/dp/B083VRT815/ref=zg_bs_toys-and-games_17/137-5703603-5900629?pd_rd_i=B083VSRKRG&psc=1',\n",
       " 'https://www.amazon.com/?ref_=footer_logo',\n",
       " 'https://www.amazon.com/Best-Sellers-Toys-Games-Preschool-Toys/zgbs/toys-and-games/251909011/ref=zg_bs_nav_toys-and-games_1',\n",
       " 'https://www.amazon.com/gp/browse.html?node=16218619011&ref_=footer_swp',\n",
       " 'https://www.amazon.com/Best-Sellers-Toys-Games-Kids-Furniture-Dcor/zgbs/toys-and-games/166210011/ref=zg_bs_nav_toys-and-games_1',\n",
       " 'https://www.amazon.com/SplashEZ-Splash-Sprinkler-Toddler-Learning/dp/B0836WRWFY/ref=zg_bs_toys-and-games_8/137-5703603-5900629?pd_rd_i=B084ZNK9NV&psc=1',\n",
       " 'https://www.amazon.com/product-reviews/B085C2J3C5/ref=zg_bs_toys-and-games_cr_30/137-5703603-5900629?pd_rd_i=B085C2J3C5',\n",
       " 'https://www.amazon.com/Family-Sturdy-Storage-Travel-Friendly-Exclusive/dp/B07P6MZPK3/ref=zg_bs_toys-and-games_27/137-5703603-5900629?pd_rd_i=B09PRL4CDJ&psc=1',\n",
       " 'https://www.amazon.com/Electric-Portable-Balloons-Inflator-Decoration/dp/B07Z8N2X8G/ref=zg_bs_toys-and-games_1/137-5703603-5900629?pd_rd_i=B07Z8N2X8G&psc=1',\n",
       " 'https://www.amazon.com/product-reviews/B09V29B8J1/ref=zg_bs_toys-and-games_cr_5/137-5703603-5900629?pd_rd_i=B09V29B8J1',\n",
       " 'https://www.amazon.com/Best-Sellers-Toys-Games-Stuffed-Animals-Plush-Toys/zgbs/toys-and-games/166461011/ref=zg_bs_nav_toys-and-games_1',\n",
       " 'https://www.amazon.com/Best-Sellers-Toys-Games-Learning-Education-Toys/zgbs/toys-and-games/166269011/ref=zg_bs_nav_toys-and-games_1',\n",
       " 'https://www.amazon.com/registries?ref_=nav_ListFlyout_find',\n",
       " 'https://www.amazon.com/gp/kindle/ku/ku_central?ref_=nav_AccountFlyout_ku',\n",
       " 'https://www.amazon.com/Pokemon-TCG-Authentic-Expansion-Holofoils/dp/B001DIJ48C/ref=zg_bs_toys-and-games_18/137-5703603-5900629?pd_rd_i=B09ZKJR98V&psc=1',\n",
       " 'https://www.amazon.com/gp/css/order-history?ref_=nav_AccountFlyout_orders',\n",
       " 'https://www.amazon.com/First-Years-Stack-Up-Cups/dp/B00005C5H4/ref=zg_bs_toys-and-games_23/137-5703603-5900629?pd_rd_i=B07C4NGT17&psc=1',\n",
       " 'https://www.amazon.com/hz/wishlist/ls?triggerElementID=createList&ref_=nav_ListFlyout_navFlyout_createList_lv_redirect',\n",
       " 'https://www.amazon.com/services?ref_=footer_services',\n",
       " 'https://www.amazon.com/Sassy-Stacks-Circles-Stacking-Learning/dp/B07NXDJ52C/ref=zg_bs_toys-and-games_21/137-5703603-5900629?pd_rd_i=B09STL9ZN7&psc=1',\n",
       " 'https://www.amazon.com/gp/css/returns/homepage.html?ref_=footer_hy_f_4',\n",
       " 'https://www.amazon.com/product-reviews/B09WYL3HTW/ref=zg_bs_toys-and-games_cr_19/137-5703603-5900629?pd_rd_i=B09WYL3HTW',\n",
       " 'https://www.amazon.com/gp/help/customer/display.html?nodeId=508510&ref_=footer_gw_m_b_he',\n",
       " 'https://www.amazon.com/Step2-874600-Showers-Playset-Multi-Colored/dp/B01K1K0K6M/ref=zg_bs_toys-and-games_20/137-5703603-5900629?pd_rd_i=B07V3FM9ZV&psc=1',\n",
       " 'https://www.amazon.com/Best-Sellers-Toys-Games-Building-Toys/zgbs/toys-and-games/166092011/ref=zg_bs_nav_toys-and-games_1',\n",
       " 'https://www.amazon.com/gp/video/library?ref_=nav_AccountFlyout_yvl',\n",
       " 'https://www.amazon.com/gp/new-releases/toys-and-games/?ie=UTF8&ie=UTF8&ref_=sv_t_5',\n",
       " 'https://www.amazon.com/gp/new-releases/toys-and-games/ref=zg_bs_tab_t_bsnr',\n",
       " 'https://www.amazon.com/product-reviews/B00JM5GW10/ref=zg_bs_toys-and-games_cr_11/137-5703603-5900629?pd_rd_i=B00JM5GW10',\n",
       " 'https://www.amazon.com/product-reviews/B09TVWQFX6/ref=zg_bs_toys-and-games_cr_14/137-5703603-5900629?pd_rd_i=B09TVWQFX6',\n",
       " 'https://www.amazon.com/Best-Sellers-Toys-Games-Kids-Dress-Up-Pretend-Play/zgbs/toys-and-games/166316011/ref=zg_bs_nav_toys-and-games_1',\n",
       " 'https://www.amazon.com/product-reviews/B001CJVTLC/ref=zg_bs_toys-and-games_cr_10/137-5703603-5900629?pd_rd_i=B001CJVTLC',\n",
       " 'https://www.amazon.com/hz/mycd/myx?pageType=content&ref_=nav_AccountFlyout_myk',\n",
       " 'https://www.amazon.com/gp/browse.html?node=230659011&ref_=footer_amazonglobal',\n",
       " 'https://www.amazon.com/gp/css/homepage.html?ref_=nav_AccountFlyout_ya',\n",
       " 'https://www.amazon.com/Best-Sellers-Toys-Games-Kids-Electronics/zgbs/toys-and-games/166164011/ref=zg_bs_nav_toys-and-games_1',\n",
       " 'https://www.amazon.com/gp/most-gifted/toys-and-games/ref=zg_bs_tab_t_mg',\n",
       " 'https://www.amazon.com/Best-Sellers-Toys-Games-Collectible-Card-Games/zgbs/toys-and-games/166242011/ref=zg_bs_nav_toys-and-games_1',\n",
       " 'https://www.amazon.com/product-reviews/B0953YFR2M/ref=zg_bs_toys-and-games_cr_3/137-5703603-5900629?pd_rd_i=B0953YFR2M',\n",
       " 'https://www.amazon.com/product-reviews/B07C4NGT17/ref=zg_bs_toys-and-games_cr_23/137-5703603-5900629?pd_rd_i=B07C4NGT17',\n",
       " 'https://www.amazon.com/Play-Doh-Modeling-Compound-Non-Toxic-Exclusive/dp/B00JM5GW10/ref=zg_bs_toys-and-games_11/137-5703603-5900629?pd_rd_i=B00JM5GW10&psc=1',\n",
       " 'https://www.amazon.com/ref=nav_logo',\n",
       " 'https://www.amazon.com/product-reviews/B09Q46YHKB/ref=zg_bs_toys-and-games_cr_12/137-5703603-5900629?pd_rd_i=B09Q46YHKB',\n",
       " 'https://www.amazon.com/Best-Sellers-Toys-Games/zgbs/toys-and-games/ref=zg_bs_pg_2?_encoding=UTF8&pg=2',\n",
       " 'https://www.amazon.com/product-reviews/B008MH5H4M/ref=zg_bs_toys-and-games_cr_26/137-5703603-5900629?pd_rd_i=B008MH5H4M',\n",
       " 'https://www.amazon.com/Barbie-Reveal-Costume-Surprises-Including/dp/B09KTFNNZ1/ref=zg_bs_toys-and-games_14/137-5703603-5900629?pd_rd_i=B09TVWQFX6&psc=1',\n",
       " 'https://www.amazon.com/gp/help/customer/display.html?nodeId=508088&ref_=footer_cou',\n",
       " 'https://www.amazon.com/fcx/shop-by-age/store/?_encoding=UTF8&age=0m_24m&st=165793011&ref_=sv_t_2',\n",
       " 'https://www.amazon.com/Best-Sellers-Toys-Games-Kids-Party-Supplies/zgbs/toys-and-games/1266203011/ref=zg_bs_nav_toys-and-games_1',\n",
       " 'https://www.amazon.com/gp/seller-account/mm-summary-page.html?ld=AZFooterSelfPublish&topic=200260520&ref_=footer_publishing',\n",
       " 'https://www.amazon.com/Best-Sellers-Toys-Games/zgbs/toys-and-games/ref=zg_bs_pg_1?_encoding=UTF8&pg=1',\n",
       " 'https://www.amazon.com/gp/history',\n",
       " 'https://www.amazon.com/SDFWE-555-PCS-Water-Balloons/dp/B0B1PY172J/ref=zg_bs_toys-and-games_16/137-5703603-5900629?pd_rd_i=B0B1PY172J&psc=1',\n",
       " 'https://www.amazon.com/gcx/-/gfhz/events/?_encoding=UTF8&categoryId=holiday-toy-list&ref_=sv_t_1',\n",
       " 'https://www.amazon.com/customer-preferences/edit?ie=UTF8&preferencesReturnUrl=%2FBest-Sellers-Toys-Games%2Fzgbs%2Ftoys-and-games%2F&ref_=topnav_lang_ais',\n",
       " 'https://www.amazon.com/Best-Sellers-Toys-Games-Kids-Musical-Instruments/zgbs/toys-and-games/166326011/ref=zg_bs_nav_toys-and-games_1',\n",
       " 'https://www.amazon.com/hz5/yourmembershipsandsubscriptions?ref_=nav_AccountFlyout_digital_subscriptions',\n",
       " 'https://www.amazon.com/product-reviews/B09X2GCSDD/ref=zg_bs_toys-and-games_cr_2/137-5703603-5900629?pd_rd_i=B09X2GCSDD']"
      ]
     },
     "execution_count": 17,
     "metadata": {},
     "output_type": "execute_result"
    }
   ],
   "source": [
    "page_links"
   ]
  },
  {
   "cell_type": "code",
   "execution_count": 18,
   "id": "357f871a",
   "metadata": {},
   "outputs": [],
   "source": [
    "def scrape_product_page(url, title_lookup = \"#productTitle\", price_lookup = \"#priceblock_ourprice\"):\n",
    "    driver.get(url)\n",
    "    time.sleep(0.5)\n",
    "    body_el = driver.find_element_by_css_selector(\"body\")\n",
    "    html_str = body_el.get_attribute(\"innerHTML\")\n",
    "    html_obj = HTML(html=html_str)\n",
    "    product_title = html_obj.find(title_lookup, first=True).text\n",
    "    product_price = html_obj.find(price_lookup, first=True).text\n",
    "    return product_title, product_price"
   ]
  },
  {
   "cell_type": "code",
   "execution_count": null,
   "id": "74dc28a0",
   "metadata": {},
   "outputs": [],
   "source": [
    "# https://www.amazon.com/LEGO-Classic-Medium-Creative-Brick/dp/B00NHQFA1I/\n",
    "# https://www.amazon.com/Crayola-Washable-Watercolors-8-ea/dp/B000HHKAE2/\n",
    "\n",
    "# <base-url>/<slug>/dp/<product_id>/"
   ]
  },
  {
   "cell_type": "code",
   "execution_count": null,
   "id": "16006d0e",
   "metadata": {},
   "outputs": [],
   "source": [
    "# my_regex_pattern = r\"https://www.amazon.com/(?P<slug>[\\w-]+)/dp/(?P<product_id>[\\w-]+)/\"\n",
    "# my_url = 'https://www.amazon.com/Crayola-Washable-Watercolors-8-ea/dp/B000HHKAE2/'\n"
   ]
  },
  {
   "cell_type": "code",
   "execution_count": null,
   "id": "2187624a",
   "metadata": {},
   "outputs": [],
   "source": [
    "#regex = re.compile(my_regex_pattern)\n",
    "# my_match = regex.match(my_url)\n",
    "# print(my_match)\n",
    "# my_match['product_id']"
   ]
  },
  {
   "cell_type": "code",
   "execution_count": null,
   "id": "d55e9b31",
   "metadata": {},
   "outputs": [],
   "source": [
    "# my_match['slug']"
   ]
  },
  {
   "cell_type": "code",
   "execution_count": 19,
   "id": "f2df396e",
   "metadata": {},
   "outputs": [],
   "source": [
    "#looping through the above pattern of website scraped, we see a general pattern, listed below\n",
    "regex_options = [\n",
    "    r\"https://www.amazon.com/gp/product/(?P<product_id>[\\w-]+)/\",\n",
    "    r\"https://www.amazon.com/dp/(?P<product_id>[\\w-]+)/\",\n",
    "    r\"https://www.amazon.com/(?P<slug>[\\w-]+)/dp/(?P<product_id>[\\w-]+)/\",\n",
    "]\n",
    "#to loop through through each regex expressions above on a url\n",
    "def extract_product_id_from_url(url):\n",
    "    product_id = None\n",
    "    for regex_str in regex_options:\n",
    "        regex = re.compile(regex_str)\n",
    "        match = regex.match(url)\n",
    "        if match != None:\n",
    "            try:\n",
    "                product_id = match['product_id']\n",
    "            except:\n",
    "                pass\n",
    "    return product_id"
   ]
  },
  {
   "cell_type": "code",
   "execution_count": 22,
   "id": "1524bde5",
   "metadata": {},
   "outputs": [],
   "source": [
    "#page_links = [f\"https://www.amazon.com{x}\" for x in html_obj.links if x.startswith(\"/\")]\n",
    "# page_links = [x for x in page_links if extract_product_id_from_url(x) != None]\n",
    "#for url in page_links:\n",
    " #   product_id = extract_product_id_from_url(x)\n",
    "\n",
    "    #to perform scrape\n",
    "def clean_page_links(page_links=[]):\n",
    "    final_page_links = []\n",
    "    for url in page_links:\n",
    "        product_id = extract_product_id_from_url(url)\n",
    "        if product_id != None:\n",
    "            final_page_links.append({\"url\": url, \"product_id\": product_id})\n",
    "    return final_page_links\n",
    "\n",
    "cleaned_items = clean_page_links(page_links)"
   ]
  },
  {
   "cell_type": "code",
   "execution_count": 23,
   "id": "880ed44b",
   "metadata": {},
   "outputs": [
    {
     "data": {
      "text/plain": [
       "False"
      ]
     },
     "execution_count": 23,
     "metadata": {},
     "output_type": "execute_result"
    }
   ],
   "source": [
    "len(page_links)  == len(cleaned_items)"
   ]
  },
  {
   "cell_type": "code",
   "execution_count": 24,
   "id": "0726cf51",
   "metadata": {},
   "outputs": [
    {
     "data": {
      "text/plain": [
       "29"
      ]
     },
     "execution_count": 24,
     "metadata": {},
     "output_type": "execute_result"
    }
   ],
   "source": [
    "len(cleaned_items)"
   ]
  },
  {
   "cell_type": "code",
   "execution_count": 25,
   "id": "a1e19bc9",
   "metadata": {},
   "outputs": [
    {
     "data": {
      "text/plain": [
       "[{'url': 'https://www.amazon.com/Funko-Pop-TV-Simpsons-Exclusive/dp/B09QC8QK5F/ref=zg_bs_toys-and-games_6/137-5703603-5900629?pd_rd_i=B09QC8QK5F&psc=1',\n",
       "  'product_id': 'B09QC8QK5F'},\n",
       " {'url': 'https://www.amazon.com/Almce-Isabella-Mirabel-Costume-Ruffles/dp/B09V7QRBGQ/ref=zg_bs_toys-and-games_19/137-5703603-5900629?pd_rd_i=B09WYL3HTW&psc=1',\n",
       "  'product_id': 'B09V7QRBGQ'},\n",
       " {'url': 'https://www.amazon.com/Crayola-Colored-Pencil-Supplies-Assorted/dp/B00006RVTS/ref=zg_bs_toys-and-games_24/137-5703603-5900629?pd_rd_i=B09MH514FH&psc=1',\n",
       "  'product_id': 'B00006RVTS'},\n",
       " {'url': 'https://www.amazon.com/Lydaz-Electronic-Machine-Outdoor-Toddlers/dp/B07H331J4R/ref=zg_bs_toys-and-games_15/137-5703603-5900629?pd_rd_i=B07H331J4R&psc=1',\n",
       "  'product_id': 'B07H331J4R'},\n",
       " {'url': 'https://www.amazon.com/Glow-Sticks-Bulk-Party-Supplies/dp/B07ZV31J31/ref=zg_bs_toys-and-games_9/137-5703603-5900629?pd_rd_i=B08B146216&psc=1',\n",
       "  'product_id': 'B07ZV31J31'},\n",
       " {'url': 'https://www.amazon.com/TeeTurtle-Reversible-Octopus-Mini-Plush/dp/B07H4K9QYQ/ref=zg_bs_toys-and-games_4/137-5703603-5900629?pd_rd_i=B09DJTXGBN&psc=1',\n",
       "  'product_id': 'B07H4K9QYQ'},\n",
       " {'url': 'https://www.amazon.com/LEGO-Succulents-Building-Adults-Display/dp/B09Q4GWMZQ/ref=zg_bs_toys-and-games_7/137-5703603-5900629?pd_rd_i=B09Q4GWMZQ&psc=1',\n",
       "  'product_id': 'B09Q4GWMZQ'},\n",
       " {'url': 'https://www.amazon.com/Rapid-Filling-Self-Sealing-Bunches-Balloons-Bundles/dp/B09Z6ZLR9P/ref=zg_bs_toys-and-games_5/137-5703603-5900629?pd_rd_i=B09V29B8J1&psc=1',\n",
       "  'product_id': 'B09Z6ZLR9P'},\n",
       " {'url': 'https://www.amazon.com/Automatic-Toddlers-Operated-Batteries-Birthday/dp/B07VZF7X31/ref=zg_bs_toys-and-games_30/137-5703603-5900629?pd_rd_i=B085C2J3C5&psc=1',\n",
       "  'product_id': 'B07VZF7X31'},\n",
       " {'url': 'https://www.amazon.com/LeapFrog-Animals-Book-Frustration-Packaging/dp/B085KTB1WY/ref=zg_bs_toys-and-games_3/137-5703603-5900629?pd_rd_i=B0953YFR2M&psc=1',\n",
       "  'product_id': 'B085KTB1WY'},\n",
       " {'url': 'https://www.amazon.com/Bunch-Balloons-Zuru-Self-Sealing-Water/dp/B07FL35M4Z/ref=zg_bs_toys-and-games_13/137-5703603-5900629?pd_rd_i=B09T9P47P9&psc=1',\n",
       "  'product_id': 'B07FL35M4Z'},\n",
       " {'url': 'https://www.amazon.com/SHASHIBO-Shifting-Geometric-Magnetic-Transforming/dp/B07W7FLKRW/ref=zg_bs_toys-and-games_22/137-5703603-5900629?pd_rd_i=B09NTXBJDM&psc=1',\n",
       "  'product_id': 'B07W7FLKRW'},\n",
       " {'url': 'https://www.amazon.com/Little-Tikes-First-Slide-Blue/dp/B008MH5H4M/ref=zg_bs_toys-and-games_26/137-5703603-5900629?pd_rd_i=B008MH5H4M&psc=1',\n",
       "  'product_id': 'B008MH5H4M'},\n",
       " {'url': 'https://www.amazon.com/Aqua-Monterey-Multi-Purpose-Inflatable-Portable/dp/B073WMYP6M/ref=zg_bs_toys-and-games_2/137-5703603-5900629?pd_rd_i=B09X2GCSDD&psc=1',\n",
       "  'product_id': 'B073WMYP6M'},\n",
       " {'url': 'https://www.amazon.com/Kinetic-Sand-Online-Exclusive-Sensory/dp/B09BW36FW6/ref=zg_bs_toys-and-games_25/137-5703603-5900629?pd_rd_i=B09WQ6GMYJ&psc=1',\n",
       "  'product_id': 'B09BW36FW6'},\n",
       " {'url': 'https://www.amazon.com/LEGO-Horizon-Forbidden-West-Collectible/dp/B09Q46YHKB/ref=zg_bs_toys-and-games_12/137-5703603-5900629?pd_rd_i=B09Q46YHKB&psc=1',\n",
       "  'product_id': 'B09Q46YHKB'},\n",
       " {'url': 'https://www.amazon.com/Click-Play-Phthalate-Crush-Plastic/dp/B00PYLU3GG/ref=zg_bs_toys-and-games_28/137-5703603-5900629?pd_rd_i=B09W8R622H&psc=1',\n",
       "  'product_id': 'B00PYLU3GG'},\n",
       " {'url': 'https://www.amazon.com/Bentgo-Leak-Proof-5-Compartment-Bento-Style-Lunch/dp/B08B115T54/ref=zg_bs_toys-and-games_29/137-5703603-5900629?pd_rd_i=B07SZHBGZH&psc=1',\n",
       "  'product_id': 'B08B115T54'},\n",
       " {'url': 'https://www.amazon.com/LAYCOL-Swimming-Inflatable-Newest-Protection/dp/B083VRT815/ref=zg_bs_toys-and-games_17/137-5703603-5900629?pd_rd_i=B083VSRKRG&psc=1',\n",
       "  'product_id': 'B083VRT815'},\n",
       " {'url': 'https://www.amazon.com/SplashEZ-Splash-Sprinkler-Toddler-Learning/dp/B0836WRWFY/ref=zg_bs_toys-and-games_8/137-5703603-5900629?pd_rd_i=B084ZNK9NV&psc=1',\n",
       "  'product_id': 'B0836WRWFY'},\n",
       " {'url': 'https://www.amazon.com/Family-Sturdy-Storage-Travel-Friendly-Exclusive/dp/B07P6MZPK3/ref=zg_bs_toys-and-games_27/137-5703603-5900629?pd_rd_i=B09PRL4CDJ&psc=1',\n",
       "  'product_id': 'B07P6MZPK3'},\n",
       " {'url': 'https://www.amazon.com/Electric-Portable-Balloons-Inflator-Decoration/dp/B07Z8N2X8G/ref=zg_bs_toys-and-games_1/137-5703603-5900629?pd_rd_i=B07Z8N2X8G&psc=1',\n",
       "  'product_id': 'B07Z8N2X8G'},\n",
       " {'url': 'https://www.amazon.com/Pokemon-TCG-Authentic-Expansion-Holofoils/dp/B001DIJ48C/ref=zg_bs_toys-and-games_18/137-5703603-5900629?pd_rd_i=B09ZKJR98V&psc=1',\n",
       "  'product_id': 'B001DIJ48C'},\n",
       " {'url': 'https://www.amazon.com/First-Years-Stack-Up-Cups/dp/B00005C5H4/ref=zg_bs_toys-and-games_23/137-5703603-5900629?pd_rd_i=B07C4NGT17&psc=1',\n",
       "  'product_id': 'B00005C5H4'},\n",
       " {'url': 'https://www.amazon.com/Sassy-Stacks-Circles-Stacking-Learning/dp/B07NXDJ52C/ref=zg_bs_toys-and-games_21/137-5703603-5900629?pd_rd_i=B09STL9ZN7&psc=1',\n",
       "  'product_id': 'B07NXDJ52C'},\n",
       " {'url': 'https://www.amazon.com/Step2-874600-Showers-Playset-Multi-Colored/dp/B01K1K0K6M/ref=zg_bs_toys-and-games_20/137-5703603-5900629?pd_rd_i=B07V3FM9ZV&psc=1',\n",
       "  'product_id': 'B01K1K0K6M'},\n",
       " {'url': 'https://www.amazon.com/Play-Doh-Modeling-Compound-Non-Toxic-Exclusive/dp/B00JM5GW10/ref=zg_bs_toys-and-games_11/137-5703603-5900629?pd_rd_i=B00JM5GW10&psc=1',\n",
       "  'product_id': 'B00JM5GW10'},\n",
       " {'url': 'https://www.amazon.com/Barbie-Reveal-Costume-Surprises-Including/dp/B09KTFNNZ1/ref=zg_bs_toys-and-games_14/137-5703603-5900629?pd_rd_i=B09TVWQFX6&psc=1',\n",
       "  'product_id': 'B09KTFNNZ1'},\n",
       " {'url': 'https://www.amazon.com/SDFWE-555-PCS-Water-Balloons/dp/B0B1PY172J/ref=zg_bs_toys-and-games_16/137-5703603-5900629?pd_rd_i=B0B1PY172J&psc=1',\n",
       "  'product_id': 'B0B1PY172J'}]"
      ]
     },
     "execution_count": 25,
     "metadata": {},
     "output_type": "execute_result"
    }
   ],
   "source": [
    "cleaned_items"
   ]
  },
  {
   "cell_type": "code",
   "execution_count": 26,
   "id": "42f94c7a",
   "metadata": {},
   "outputs": [],
   "source": [
    "def perform_scrape(cleaned_items=[]):\n",
    "    data_extracted = []\n",
    "    for obj in cleaned_items:\n",
    "        link = obj['url']\n",
    "        product_id = obj['product_id']\n",
    "        title, price = (None, None)\n",
    "        try:\n",
    "            title, price = scrape_product_page(link)\n",
    "        except:\n",
    "            pass\n",
    "        if title != None and price != None:\n",
    "            print(link, title, price)\n",
    "        product_data = {\n",
    "            \"url\": link,\n",
    "            \"product_id\": product_id,\n",
    "            \"title\": title,\n",
    "            \"price\": price\n",
    "        }\n",
    "        data_extracted.append(product_data)\n",
    "    return data_extracted"
   ]
  },
  {
   "cell_type": "code",
   "execution_count": 27,
   "id": "ac9922f8",
   "metadata": {},
   "outputs": [
    {
     "name": "stderr",
     "output_type": "stream",
     "text": [
      "/var/folders/3q/3sbzpm556tn_jsn0vdddr77c0000gp/T/ipykernel_49717/3444370362.py:4: DeprecationWarning: find_element_by_css_selector is deprecated. Please use find_element(by=By.CSS_SELECTOR, value=css_selector) instead\n",
      "  body_el = driver.find_element_by_css_selector(\"body\")\n"
     ]
    }
   ],
   "source": [
    "extracted_data = perform_scrape(cleaned_items=cleaned_links)"
   ]
  },
  {
   "cell_type": "code",
   "execution_count": 29,
   "id": "af5e21af",
   "metadata": {},
   "outputs": [
    {
     "name": "stdout",
     "output_type": "stream",
     "text": [
      "[{'url': 'https://www.amazon.com/Funko-Pop-TV-Simpsons-Exclusive/dp/B09QC8QK5F/ref=zg_bs_toys-and-games_6/137-5703603-5900629?pd_rd_i=B09QC8QK5F&psc=1', 'product_id': 'B09QC8QK5F', 'title': None, 'price': None}, {'url': 'https://www.amazon.com/Almce-Isabella-Mirabel-Costume-Ruffles/dp/B09V7QRBGQ/ref=zg_bs_toys-and-games_19/137-5703603-5900629?pd_rd_i=B09WYL3HTW&psc=1', 'product_id': 'B09V7QRBGQ', 'title': None, 'price': None}, {'url': 'https://www.amazon.com/Crayola-Colored-Pencil-Supplies-Assorted/dp/B00006RVTS/ref=zg_bs_toys-and-games_24/137-5703603-5900629?pd_rd_i=B09MH514FH&psc=1', 'product_id': 'B00006RVTS', 'title': None, 'price': None}, {'url': 'https://www.amazon.com/Lydaz-Electronic-Machine-Outdoor-Toddlers/dp/B07H331J4R/ref=zg_bs_toys-and-games_15/137-5703603-5900629?pd_rd_i=B07H331J4R&psc=1', 'product_id': 'B07H331J4R', 'title': None, 'price': None}, {'url': 'https://www.amazon.com/Glow-Sticks-Bulk-Party-Supplies/dp/B07ZV31J31/ref=zg_bs_toys-and-games_9/137-5703603-5900629?pd_rd_i=B08B146216&psc=1', 'product_id': 'B07ZV31J31', 'title': None, 'price': None}, {'url': 'https://www.amazon.com/TeeTurtle-Reversible-Octopus-Mini-Plush/dp/B07H4K9QYQ/ref=zg_bs_toys-and-games_4/137-5703603-5900629?pd_rd_i=B09DJTXGBN&psc=1', 'product_id': 'B07H4K9QYQ', 'title': None, 'price': None}, {'url': 'https://www.amazon.com/LEGO-Succulents-Building-Adults-Display/dp/B09Q4GWMZQ/ref=zg_bs_toys-and-games_7/137-5703603-5900629?pd_rd_i=B09Q4GWMZQ&psc=1', 'product_id': 'B09Q4GWMZQ', 'title': None, 'price': None}, {'url': 'https://www.amazon.com/Rapid-Filling-Self-Sealing-Bunches-Balloons-Bundles/dp/B09Z6ZLR9P/ref=zg_bs_toys-and-games_5/137-5703603-5900629?pd_rd_i=B09V29B8J1&psc=1', 'product_id': 'B09Z6ZLR9P', 'title': None, 'price': None}, {'url': 'https://www.amazon.com/Automatic-Toddlers-Operated-Batteries-Birthday/dp/B07VZF7X31/ref=zg_bs_toys-and-games_30/137-5703603-5900629?pd_rd_i=B085C2J3C5&psc=1', 'product_id': 'B07VZF7X31', 'title': None, 'price': None}, {'url': 'https://www.amazon.com/LeapFrog-Animals-Book-Frustration-Packaging/dp/B085KTB1WY/ref=zg_bs_toys-and-games_3/137-5703603-5900629?pd_rd_i=B0953YFR2M&psc=1', 'product_id': 'B085KTB1WY', 'title': None, 'price': None}, {'url': 'https://www.amazon.com/Bunch-Balloons-Zuru-Self-Sealing-Water/dp/B07FL35M4Z/ref=zg_bs_toys-and-games_13/137-5703603-5900629?pd_rd_i=B09T9P47P9&psc=1', 'product_id': 'B07FL35M4Z', 'title': None, 'price': None}, {'url': 'https://www.amazon.com/SHASHIBO-Shifting-Geometric-Magnetic-Transforming/dp/B07W7FLKRW/ref=zg_bs_toys-and-games_22/137-5703603-5900629?pd_rd_i=B09NTXBJDM&psc=1', 'product_id': 'B07W7FLKRW', 'title': None, 'price': None}, {'url': 'https://www.amazon.com/Little-Tikes-First-Slide-Blue/dp/B008MH5H4M/ref=zg_bs_toys-and-games_26/137-5703603-5900629?pd_rd_i=B008MH5H4M&psc=1', 'product_id': 'B008MH5H4M', 'title': None, 'price': None}, {'url': 'https://www.amazon.com/Aqua-Monterey-Multi-Purpose-Inflatable-Portable/dp/B073WMYP6M/ref=zg_bs_toys-and-games_2/137-5703603-5900629?pd_rd_i=B09X2GCSDD&psc=1', 'product_id': 'B073WMYP6M', 'title': None, 'price': None}, {'url': 'https://www.amazon.com/Kinetic-Sand-Online-Exclusive-Sensory/dp/B09BW36FW6/ref=zg_bs_toys-and-games_25/137-5703603-5900629?pd_rd_i=B09WQ6GMYJ&psc=1', 'product_id': 'B09BW36FW6', 'title': None, 'price': None}, {'url': 'https://www.amazon.com/LEGO-Horizon-Forbidden-West-Collectible/dp/B09Q46YHKB/ref=zg_bs_toys-and-games_12/137-5703603-5900629?pd_rd_i=B09Q46YHKB&psc=1', 'product_id': 'B09Q46YHKB', 'title': None, 'price': None}, {'url': 'https://www.amazon.com/Click-Play-Phthalate-Crush-Plastic/dp/B00PYLU3GG/ref=zg_bs_toys-and-games_28/137-5703603-5900629?pd_rd_i=B09W8R622H&psc=1', 'product_id': 'B00PYLU3GG', 'title': None, 'price': None}, {'url': 'https://www.amazon.com/Bentgo-Leak-Proof-5-Compartment-Bento-Style-Lunch/dp/B08B115T54/ref=zg_bs_toys-and-games_29/137-5703603-5900629?pd_rd_i=B07SZHBGZH&psc=1', 'product_id': 'B08B115T54', 'title': None, 'price': None}, {'url': 'https://www.amazon.com/LAYCOL-Swimming-Inflatable-Newest-Protection/dp/B083VRT815/ref=zg_bs_toys-and-games_17/137-5703603-5900629?pd_rd_i=B083VSRKRG&psc=1', 'product_id': 'B083VRT815', 'title': None, 'price': None}, {'url': 'https://www.amazon.com/SplashEZ-Splash-Sprinkler-Toddler-Learning/dp/B0836WRWFY/ref=zg_bs_toys-and-games_8/137-5703603-5900629?pd_rd_i=B084ZNK9NV&psc=1', 'product_id': 'B0836WRWFY', 'title': None, 'price': None}, {'url': 'https://www.amazon.com/Family-Sturdy-Storage-Travel-Friendly-Exclusive/dp/B07P6MZPK3/ref=zg_bs_toys-and-games_27/137-5703603-5900629?pd_rd_i=B09PRL4CDJ&psc=1', 'product_id': 'B07P6MZPK3', 'title': None, 'price': None}, {'url': 'https://www.amazon.com/Electric-Portable-Balloons-Inflator-Decoration/dp/B07Z8N2X8G/ref=zg_bs_toys-and-games_1/137-5703603-5900629?pd_rd_i=B07Z8N2X8G&psc=1', 'product_id': 'B07Z8N2X8G', 'title': None, 'price': None}, {'url': 'https://www.amazon.com/Pokemon-TCG-Authentic-Expansion-Holofoils/dp/B001DIJ48C/ref=zg_bs_toys-and-games_18/137-5703603-5900629?pd_rd_i=B09ZKJR98V&psc=1', 'product_id': 'B001DIJ48C', 'title': None, 'price': None}, {'url': 'https://www.amazon.com/First-Years-Stack-Up-Cups/dp/B00005C5H4/ref=zg_bs_toys-and-games_23/137-5703603-5900629?pd_rd_i=B07C4NGT17&psc=1', 'product_id': 'B00005C5H4', 'title': None, 'price': None}, {'url': 'https://www.amazon.com/Sassy-Stacks-Circles-Stacking-Learning/dp/B07NXDJ52C/ref=zg_bs_toys-and-games_21/137-5703603-5900629?pd_rd_i=B09STL9ZN7&psc=1', 'product_id': 'B07NXDJ52C', 'title': None, 'price': None}, {'url': 'https://www.amazon.com/Step2-874600-Showers-Playset-Multi-Colored/dp/B01K1K0K6M/ref=zg_bs_toys-and-games_20/137-5703603-5900629?pd_rd_i=B07V3FM9ZV&psc=1', 'product_id': 'B01K1K0K6M', 'title': None, 'price': None}, {'url': 'https://www.amazon.com/Play-Doh-Modeling-Compound-Non-Toxic-Exclusive/dp/B00JM5GW10/ref=zg_bs_toys-and-games_11/137-5703603-5900629?pd_rd_i=B00JM5GW10&psc=1', 'product_id': 'B00JM5GW10', 'title': None, 'price': None}, {'url': 'https://www.amazon.com/Barbie-Reveal-Costume-Surprises-Including/dp/B09KTFNNZ1/ref=zg_bs_toys-and-games_14/137-5703603-5900629?pd_rd_i=B09TVWQFX6&psc=1', 'product_id': 'B09KTFNNZ1', 'title': None, 'price': None}, {'url': 'https://www.amazon.com/SDFWE-555-PCS-Water-Balloons/dp/B0B1PY172J/ref=zg_bs_toys-and-games_16/137-5703603-5900629?pd_rd_i=B0B1PY172J&psc=1', 'product_id': 'B0B1PY172J', 'title': None, 'price': None}]\n"
     ]
    }
   ],
   "source": [
    "print(extracted_data)"
   ]
  },
  {
   "cell_type": "code",
   "execution_count": null,
   "id": "3620ea4c",
   "metadata": {},
   "outputs": [],
   "source": []
  }
 ],
 "metadata": {
  "kernelspec": {
   "display_name": "Python 3 (ipykernel)",
   "language": "python",
   "name": "python3"
  },
  "language_info": {
   "codemirror_mode": {
    "name": "ipython",
    "version": 3
   },
   "file_extension": ".py",
   "mimetype": "text/x-python",
   "name": "python",
   "nbconvert_exporter": "python",
   "pygments_lexer": "ipython3",
   "version": "3.9.7"
  }
 },
 "nbformat": 4,
 "nbformat_minor": 5
}
