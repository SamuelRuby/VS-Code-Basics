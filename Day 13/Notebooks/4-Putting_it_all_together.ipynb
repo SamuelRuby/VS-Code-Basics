{
 "cells": [
  {
   "cell_type": "code",
   "execution_count": 1,
   "id": "2f7ce94d",
   "metadata": {},
   "outputs": [
    {
     "name": "stderr",
     "output_type": "stream",
     "text": [
      "/var/folders/3q/3sbzpm556tn_jsn0vdddr77c0000gp/T/ipykernel_52895/2416605280.py:13: DeprecationWarning: executable_path has been deprecated, please pass in a Service object\n",
      "  driver = webdriver.Chrome(executable_path='/Users/ruby/Downloads/Chrome Driver/chromedriver', options=options)\n"
     ]
    }
   ],
   "source": [
    "from pathlib import Path\n",
    "import re\n",
    "import requests\n",
    "import time\n",
    "import datetime\n",
    "\n",
    "import pandas as pd\n",
    "from requests_html import HTML\n",
    "from selenium import webdriver\n",
    "from selenium.webdriver.chrome.options import Options\n",
    "options = Options()\n",
    "options.add_argument(\"--headless\")\n",
    "driver = webdriver.Chrome(executable_path='/Users/ruby/Downloads/Chrome Driver/chromedriver', options=options)"
   ]
  },
  {
   "cell_type": "code",
   "execution_count": 2,
   "id": "9b557142",
   "metadata": {},
   "outputs": [],
   "source": [
    "BASE_DIR = Path.cwd()\n",
    "DATA_DIR = BASE_DIR / \"data\" # os.path.join(BASE_DIR, 'data')\n",
    "if not DATA_DIR.exists(): # os.path.exists(DATA_DIR)\n",
    "    DATA_DIR.mkdir(exist_ok=True) # os.makedirs(DATA_DIR, exist_ok=True)\n",
    "    \n",
    "product_category_links_output = DATA_DIR / \"category-products.csv\"\n",
    "product_output = DATA_DIR / \"products.csv\""
   ]
  },
  {
   "cell_type": "code",
   "execution_count": 3,
   "id": "d5e72989",
   "metadata": {},
   "outputs": [],
   "source": [
    "#options = Options()\n",
    "#options.add_argument(\"--headless\")\n",
    "\n",
    "#driver = webdriver.Chrome(options=options)"
   ]
  },
  {
   "cell_type": "code",
   "execution_count": 4,
   "id": "42358efc",
   "metadata": {},
   "outputs": [],
   "source": [
    "categories = [\n",
    "    {\"name\": \"toys-and-games\", \"url\": \"https://www.amazon.com/Best-Sellers-Toys-Games/zgbs/toys-and-games/\"},\n",
    "    {\"name\": \"electronics\", \"url\": \"https://www.amazon.com/Best-Sellers-Electronics/zgbs/electronics/\"},\n",
    "    {\"name\": \"fashion\", \"url\": \"https://www.amazon.com/Best-Sellers/zgbs/fashion/\"}\n",
    "]"
   ]
  },
  {
   "cell_type": "code",
   "execution_count": 5,
   "id": "16016013",
   "metadata": {},
   "outputs": [
    {
     "data": {
      "text/plain": [
       "[{'name': 'toys-and-games',\n",
       "  'url': 'https://www.amazon.com/Best-Sellers-Toys-Games/zgbs/toys-and-games/'},\n",
       " {'name': 'electronics',\n",
       "  'url': 'https://www.amazon.com/Best-Sellers-Electronics/zgbs/electronics/'},\n",
       " {'name': 'fashion',\n",
       "  'url': 'https://www.amazon.com/Best-Sellers/zgbs/fashion/'}]"
      ]
     },
     "execution_count": 5,
     "metadata": {},
     "output_type": "execute_result"
    }
   ],
   "source": [
    "categories"
   ]
  },
  {
   "cell_type": "code",
   "execution_count": 6,
   "id": "f88c1e60",
   "metadata": {},
   "outputs": [],
   "source": [
    "#lookng through the above pattern of website scraped, we see a general pattern, listed below\n",
    "regex_options = [\n",
    "    r\"https://www.amazon.com/gp/product/(?P<product_id>[\\w-]+)/\",\n",
    "    r\"https://www.amazon.com/dp/(?P<product_id>[\\w-]+)/\",\n",
    "    r\"https://www.amazon.com/(?P<slug>[\\w-]+)/dp/(?P<product_id>[\\w-]+)/\",\n",
    "]\n",
    "\n",
    "def extract_product_id_from_url(url):\n",
    "    product_id = None\n",
    "    for regex_str in regex_options:\n",
    "        regex = re.compile(regex_str)\n",
    "        match = regex.match(url)\n",
    "        if match != None:\n",
    "            try:\n",
    "                product_id = match['product_id']\n",
    "            except:\n",
    "                pass\n",
    "    return product_id"
   ]
  },
  {
   "cell_type": "code",
   "execution_count": 7,
   "id": "063215a9",
   "metadata": {},
   "outputs": [],
   "source": [
    "#page_links = [f\"https://www.amazon.com{x}\" for x in html_obj.links if x.startswith(\"/\")]\n",
    "# page_links = [x for x in page_links if extract_product_id_from_url(x) != None]\n",
    "#for url in page_links:\n",
    " #   product_id = extract_product_id_from_url(x)\n",
    "\n",
    "    #to perform scrape\n",
    "def clean_page_links(page_links=[], category=None):\n",
    "    final_page_links = []\n",
    "    for url in page_links:\n",
    "        product_id = extract_product_id_from_url(url)\n",
    "        if product_id != None:\n",
    "            final_page_links.append({\"url\": url, \"product_id\": product_id, \"category\": category})\n",
    "    return final_page_links"
   ]
  },
  {
   "cell_type": "code",
   "execution_count": 8,
   "id": "811197a3",
   "metadata": {},
   "outputs": [],
   "source": [
    "def scrace_category_product_links(categories=[]):\n",
    "    all_product_links = []\n",
    "    for category in categories:\n",
    "        time.sleep(1.5)\n",
    "        url = category.get(\"url\")\n",
    "        driver.get(url)\n",
    "        body_el = driver.find_element_by_css_selector(\"body\")\n",
    "        html_str = body_el.get_attribute(\"innerHTML\")\n",
    "        html_obj = HTML(html=html_str)\n",
    "        page_links = [f\"https://www.amazon.com{x}\" for x in html_obj.links if x.startswith(\"/\")]\n",
    "        cleaned_links = clean_page_links(page_links=page_links, category=category)\n",
    "        all_product_links += cleaned_links\n",
    "    return all_product_links"
   ]
  },
  {
   "cell_type": "code",
   "execution_count": 9,
   "id": "a4f4e2ce",
   "metadata": {},
   "outputs": [],
   "source": [
    "#print(all_product_links)"
   ]
  },
  {
   "cell_type": "code",
   "execution_count": 10,
   "id": "06d5aa41",
   "metadata": {},
   "outputs": [],
   "source": [
    "def extract_categories_and_save(categories=[]):\n",
    "    all_product_links = scrace_category_product_links(categories)\n",
    "    category_df = pd.DataFrame(all_product_links)\n",
    "    category_df.to_csv(product_category_links_output, index=False)"
   ]
  },
  {
   "cell_type": "code",
   "execution_count": 11,
   "id": "25229143",
   "metadata": {},
   "outputs": [
    {
     "name": "stderr",
     "output_type": "stream",
     "text": [
      "/var/folders/3q/3sbzpm556tn_jsn0vdddr77c0000gp/T/ipykernel_52895/2215756588.py:7: DeprecationWarning: find_element_by_css_selector is deprecated. Please use find_element(by=By.CSS_SELECTOR, value=css_selector) instead\n",
      "  body_el = driver.find_element_by_css_selector(\"body\")\n"
     ]
    }
   ],
   "source": [
    "extract_categories_and_save(categories=categories)"
   ]
  },
  {
   "cell_type": "code",
   "execution_count": null,
   "id": "9753bfb5",
   "metadata": {},
   "outputs": [],
   "source": []
  },
  {
   "cell_type": "code",
   "execution_count": 12,
   "id": "357f871a",
   "metadata": {},
   "outputs": [],
   "source": [
    "def scrape_product_page(url, title_lookup = \"#productTitle\", price_lookup = \"#priceblock_ourprice\"):\n",
    "    driver.get(url)\n",
    "    time.sleep(1.5)\n",
    "    body_el = driver.find_element_by_css_selector(\"body\")\n",
    "    html_str = body_el.get_attribute(\"innerHTML\")\n",
    "    html_obj = HTML(html=html_str)\n",
    "    product_title = html_obj.find(title_lookup, first=True).text\n",
    "    product_price = html_obj.find(price_lookup, first=True).text\n",
    "    return product_title, product_price"
   ]
  },
  {
   "cell_type": "code",
   "execution_count": 13,
   "id": "74dc28a0",
   "metadata": {},
   "outputs": [],
   "source": [
    "def perform_scrape(cleaned_items=[]):\n",
    "    data_extracted = []\n",
    "    for obj in cleaned_items:\n",
    "        link = obj['url']\n",
    "        product_id = obj['product_id']\n",
    "        title, price = (None, None)\n",
    "        try:\n",
    "            title, price = scrape_product_page(link)\n",
    "        except:\n",
    "            pass\n",
    "        if title != None and price != None:\n",
    "            print(link, title, price)\n",
    "        product_data = {\n",
    "            \"url\": link,\n",
    "            \"product_id\": product_id,\n",
    "            \"title\": title,\n",
    "            \"price\": price\n",
    "        }\n",
    "        data_extracted.append(product_data)\n",
    "    return data_extracted"
   ]
  },
  {
   "cell_type": "code",
   "execution_count": 14,
   "id": "16006d0e",
   "metadata": {},
   "outputs": [],
   "source": [
    "#extracted_data = perform_scrape(cleaned_items=cleaned_items)"
   ]
  },
  {
   "cell_type": "code",
   "execution_count": 15,
   "id": "c011d67f",
   "metadata": {},
   "outputs": [],
   "source": [
    "#print(extracted_data)"
   ]
  },
  {
   "cell_type": "code",
   "execution_count": 25,
   "id": "47ffecb0",
   "metadata": {},
   "outputs": [],
   "source": [
    "def row_scrape_event(row, *args, **kwargs):\n",
    "    link = row['url']\n",
    "    scraped = 0\n",
    "    try:\n",
    "        scraped = row['scraped']\n",
    "    except:\n",
    "        pass\n",
    "    # print(link)\n",
    "    if scraped == 1 or scraped == \"1\":\n",
    "        print(\"skipped\")\n",
    "        return row\n",
    "    product_id = row['product_id']\n",
    "    title, price = (None, None)\n",
    "    try:\n",
    "        title, price = scrape_product_page(link)\n",
    "    except:\n",
    "        pass\n",
    "    row['title'] = title\n",
    "    row['price'] = price\n",
    "    row['scraped'] = 1\n",
    "    row['timestamp'] = datetime.datetime.now().timestamp()\n",
    "    print(link, title, price)\n",
    "    return row"
   ]
  },
  {
   "cell_type": "code",
   "execution_count": 30,
   "id": "a968843e",
   "metadata": {},
   "outputs": [
    {
     "name": "stdout",
     "output_type": "stream",
     "text": [
      "product_id\n"
     ]
    }
   ],
   "source": [
    "print(product_id)"
   ]
  },
  {
   "cell_type": "code",
   "execution_count": 17,
   "id": "d6a19708",
   "metadata": {},
   "outputs": [
    {
     "data": {
      "text/html": [
       "<div>\n",
       "<style scoped>\n",
       "    .dataframe tbody tr th:only-of-type {\n",
       "        vertical-align: middle;\n",
       "    }\n",
       "\n",
       "    .dataframe tbody tr th {\n",
       "        vertical-align: top;\n",
       "    }\n",
       "\n",
       "    .dataframe thead th {\n",
       "        text-align: right;\n",
       "    }\n",
       "</style>\n",
       "<table border=\"1\" class=\"dataframe\">\n",
       "  <thead>\n",
       "    <tr style=\"text-align: right;\">\n",
       "      <th></th>\n",
       "      <th>url</th>\n",
       "      <th>product_id</th>\n",
       "      <th>category</th>\n",
       "    </tr>\n",
       "  </thead>\n",
       "  <tbody>\n",
       "    <tr>\n",
       "      <th>0</th>\n",
       "      <td>https://www.amazon.com/Glow-Sticks-Bulk-Party-...</td>\n",
       "      <td>B07ZV31J31</td>\n",
       "      <td>{'name': 'toys-and-games', 'url': 'https://www...</td>\n",
       "    </tr>\n",
       "    <tr>\n",
       "      <th>1</th>\n",
       "      <td>https://www.amazon.com/Bunch-Balloons-Zuru-Sel...</td>\n",
       "      <td>B07FL35M4Z</td>\n",
       "      <td>{'name': 'toys-and-games', 'url': 'https://www...</td>\n",
       "    </tr>\n",
       "    <tr>\n",
       "      <th>2</th>\n",
       "      <td>https://www.amazon.com/Aqua-Monterey-Multi-Pur...</td>\n",
       "      <td>B073WMYP6M</td>\n",
       "      <td>{'name': 'toys-and-games', 'url': 'https://www...</td>\n",
       "    </tr>\n",
       "    <tr>\n",
       "      <th>3</th>\n",
       "      <td>https://www.amazon.com/Barbie-Reveal-Costume-S...</td>\n",
       "      <td>B09KTFNNZ1</td>\n",
       "      <td>{'name': 'toys-and-games', 'url': 'https://www...</td>\n",
       "    </tr>\n",
       "    <tr>\n",
       "      <th>4</th>\n",
       "      <td>https://www.amazon.com/Kinetic-Sand-Online-Exc...</td>\n",
       "      <td>B09BW36FW6</td>\n",
       "      <td>{'name': 'toys-and-games', 'url': 'https://www...</td>\n",
       "    </tr>\n",
       "  </tbody>\n",
       "</table>\n",
       "</div>"
      ],
      "text/plain": [
       "                                                 url  product_id  \\\n",
       "0  https://www.amazon.com/Glow-Sticks-Bulk-Party-...  B07ZV31J31   \n",
       "1  https://www.amazon.com/Bunch-Balloons-Zuru-Sel...  B07FL35M4Z   \n",
       "2  https://www.amazon.com/Aqua-Monterey-Multi-Pur...  B073WMYP6M   \n",
       "3  https://www.amazon.com/Barbie-Reveal-Costume-S...  B09KTFNNZ1   \n",
       "4  https://www.amazon.com/Kinetic-Sand-Online-Exc...  B09BW36FW6   \n",
       "\n",
       "                                            category  \n",
       "0  {'name': 'toys-and-games', 'url': 'https://www...  \n",
       "1  {'name': 'toys-and-games', 'url': 'https://www...  \n",
       "2  {'name': 'toys-and-games', 'url': 'https://www...  \n",
       "3  {'name': 'toys-and-games', 'url': 'https://www...  \n",
       "4  {'name': 'toys-and-games', 'url': 'https://www...  "
      ]
     },
     "execution_count": 17,
     "metadata": {},
     "output_type": "execute_result"
    }
   ],
   "source": [
    "df = pd.read_csv(product_category_links_output)\n",
    "df.head()"
   ]
  },
  {
   "cell_type": "code",
   "execution_count": 18,
   "id": "9388b7a3",
   "metadata": {},
   "outputs": [
    {
     "data": {
      "text/plain": [
       "(88, 3)"
      ]
     },
     "execution_count": 18,
     "metadata": {},
     "output_type": "execute_result"
    }
   ],
   "source": [
    "df.shape"
   ]
  },
  {
   "cell_type": "code",
   "execution_count": 19,
   "id": "2a09509f",
   "metadata": {},
   "outputs": [],
   "source": [
    "df_sub = df.copy() # df.head(n=10)"
   ]
  },
  {
   "cell_type": "code",
   "execution_count": 20,
   "id": "2afc357f",
   "metadata": {},
   "outputs": [
    {
     "name": "stderr",
     "output_type": "stream",
     "text": [
      "/var/folders/3q/3sbzpm556tn_jsn0vdddr77c0000gp/T/ipykernel_52895/684386146.py:4: DeprecationWarning: find_element_by_css_selector is deprecated. Please use find_element(by=By.CSS_SELECTOR, value=css_selector) instead\n",
      "  body_el = driver.find_element_by_css_selector(\"body\")\n"
     ]
    },
    {
     "name": "stdout",
     "output_type": "stream",
     "text": [
      "https://www.amazon.com/Glow-Sticks-Bulk-Party-Supplies/dp/B07ZV31J31/ref=zg_bs_toys-and-games_9/134-8452567-0500404?pd_rd_i=B08B146216&psc=1 None None\n"
     ]
    },
    {
     "name": "stderr",
     "output_type": "stream",
     "text": [
      "/var/folders/3q/3sbzpm556tn_jsn0vdddr77c0000gp/T/ipykernel_52895/684386146.py:4: DeprecationWarning: find_element_by_css_selector is deprecated. Please use find_element(by=By.CSS_SELECTOR, value=css_selector) instead\n",
      "  body_el = driver.find_element_by_css_selector(\"body\")\n"
     ]
    },
    {
     "name": "stdout",
     "output_type": "stream",
     "text": [
      "https://www.amazon.com/Bunch-Balloons-Zuru-Self-Sealing-Water/dp/B07FL35M4Z/ref=zg_bs_toys-and-games_13/134-8452567-0500404?pd_rd_i=B09T9P47P9&psc=1 None None\n"
     ]
    },
    {
     "name": "stderr",
     "output_type": "stream",
     "text": [
      "/var/folders/3q/3sbzpm556tn_jsn0vdddr77c0000gp/T/ipykernel_52895/684386146.py:4: DeprecationWarning: find_element_by_css_selector is deprecated. Please use find_element(by=By.CSS_SELECTOR, value=css_selector) instead\n",
      "  body_el = driver.find_element_by_css_selector(\"body\")\n"
     ]
    },
    {
     "name": "stdout",
     "output_type": "stream",
     "text": [
      "https://www.amazon.com/Aqua-Monterey-Multi-Purpose-Inflatable-Portable/dp/B073WMYP6M/ref=zg_bs_toys-and-games_2/134-8452567-0500404?pd_rd_i=B09X2GCSDD&psc=1 None None\n"
     ]
    },
    {
     "name": "stderr",
     "output_type": "stream",
     "text": [
      "/var/folders/3q/3sbzpm556tn_jsn0vdddr77c0000gp/T/ipykernel_52895/684386146.py:4: DeprecationWarning: find_element_by_css_selector is deprecated. Please use find_element(by=By.CSS_SELECTOR, value=css_selector) instead\n",
      "  body_el = driver.find_element_by_css_selector(\"body\")\n"
     ]
    },
    {
     "name": "stdout",
     "output_type": "stream",
     "text": [
      "https://www.amazon.com/Barbie-Reveal-Costume-Surprises-Including/dp/B09KTFNNZ1/ref=zg_bs_toys-and-games_14/134-8452567-0500404?pd_rd_i=B09TVWQFX6&psc=1 None None\n"
     ]
    },
    {
     "name": "stderr",
     "output_type": "stream",
     "text": [
      "/var/folders/3q/3sbzpm556tn_jsn0vdddr77c0000gp/T/ipykernel_52895/684386146.py:4: DeprecationWarning: find_element_by_css_selector is deprecated. Please use find_element(by=By.CSS_SELECTOR, value=css_selector) instead\n",
      "  body_el = driver.find_element_by_css_selector(\"body\")\n"
     ]
    },
    {
     "name": "stdout",
     "output_type": "stream",
     "text": [
      "https://www.amazon.com/Kinetic-Sand-Online-Exclusive-Sensory/dp/B09BW36FW6/ref=zg_bs_toys-and-games_25/134-8452567-0500404?pd_rd_i=B09WQ6GMYJ&psc=1 None None\n"
     ]
    },
    {
     "name": "stderr",
     "output_type": "stream",
     "text": [
      "/var/folders/3q/3sbzpm556tn_jsn0vdddr77c0000gp/T/ipykernel_52895/684386146.py:4: DeprecationWarning: find_element_by_css_selector is deprecated. Please use find_element(by=By.CSS_SELECTOR, value=css_selector) instead\n",
      "  body_el = driver.find_element_by_css_selector(\"body\")\n"
     ]
    },
    {
     "name": "stdout",
     "output_type": "stream",
     "text": [
      "https://www.amazon.com/Electric-Portable-Balloons-Inflator-Decoration/dp/B07Z8N2X8G/ref=zg_bs_toys-and-games_1/134-8452567-0500404?pd_rd_i=B07Z8N2X8G&psc=1 None None\n"
     ]
    },
    {
     "name": "stderr",
     "output_type": "stream",
     "text": [
      "/var/folders/3q/3sbzpm556tn_jsn0vdddr77c0000gp/T/ipykernel_52895/684386146.py:4: DeprecationWarning: find_element_by_css_selector is deprecated. Please use find_element(by=By.CSS_SELECTOR, value=css_selector) instead\n",
      "  body_el = driver.find_element_by_css_selector(\"body\")\n"
     ]
    },
    {
     "name": "stdout",
     "output_type": "stream",
     "text": [
      "https://www.amazon.com/Funko-Pop-TV-Simpsons-Exclusive/dp/B09QC8QK5F/ref=zg_bs_toys-and-games_6/134-8452567-0500404?pd_rd_i=B09QC8QK5F&psc=1 None None\n"
     ]
    },
    {
     "name": "stderr",
     "output_type": "stream",
     "text": [
      "/var/folders/3q/3sbzpm556tn_jsn0vdddr77c0000gp/T/ipykernel_52895/684386146.py:4: DeprecationWarning: find_element_by_css_selector is deprecated. Please use find_element(by=By.CSS_SELECTOR, value=css_selector) instead\n",
      "  body_el = driver.find_element_by_css_selector(\"body\")\n"
     ]
    },
    {
     "name": "stdout",
     "output_type": "stream",
     "text": [
      "https://www.amazon.com/LEGO-Succulents-Building-Adults-Display/dp/B09Q4GWMZQ/ref=zg_bs_toys-and-games_7/134-8452567-0500404?pd_rd_i=B09Q4GWMZQ&psc=1 None None\n"
     ]
    },
    {
     "name": "stderr",
     "output_type": "stream",
     "text": [
      "/var/folders/3q/3sbzpm556tn_jsn0vdddr77c0000gp/T/ipykernel_52895/684386146.py:4: DeprecationWarning: find_element_by_css_selector is deprecated. Please use find_element(by=By.CSS_SELECTOR, value=css_selector) instead\n",
      "  body_el = driver.find_element_by_css_selector(\"body\")\n"
     ]
    },
    {
     "name": "stdout",
     "output_type": "stream",
     "text": [
      "https://www.amazon.com/SplashEZ-Splash-Sprinkler-Toddler-Learning/dp/B0836WRWFY/ref=zg_bs_toys-and-games_8/134-8452567-0500404?pd_rd_i=B084ZNK9NV&psc=1 None None\n"
     ]
    },
    {
     "name": "stderr",
     "output_type": "stream",
     "text": [
      "/var/folders/3q/3sbzpm556tn_jsn0vdddr77c0000gp/T/ipykernel_52895/684386146.py:4: DeprecationWarning: find_element_by_css_selector is deprecated. Please use find_element(by=By.CSS_SELECTOR, value=css_selector) instead\n",
      "  body_el = driver.find_element_by_css_selector(\"body\")\n"
     ]
    },
    {
     "name": "stdout",
     "output_type": "stream",
     "text": [
      "https://www.amazon.com/SDFWE-555-PCS-Water-Balloons/dp/B0B1PY172J/ref=zg_bs_toys-and-games_16/134-8452567-0500404?pd_rd_i=B0B1PY172J&psc=1 None None\n"
     ]
    },
    {
     "name": "stderr",
     "output_type": "stream",
     "text": [
      "/var/folders/3q/3sbzpm556tn_jsn0vdddr77c0000gp/T/ipykernel_52895/684386146.py:4: DeprecationWarning: find_element_by_css_selector is deprecated. Please use find_element(by=By.CSS_SELECTOR, value=css_selector) instead\n",
      "  body_el = driver.find_element_by_css_selector(\"body\")\n"
     ]
    },
    {
     "name": "stdout",
     "output_type": "stream",
     "text": [
      "https://www.amazon.com/Play-Doh-Modeling-Compound-Non-Toxic-Exclusive/dp/B00JM5GW10/ref=zg_bs_toys-and-games_11/134-8452567-0500404?pd_rd_i=B00JM5GW10&psc=1 None None\n"
     ]
    },
    {
     "name": "stderr",
     "output_type": "stream",
     "text": [
      "/var/folders/3q/3sbzpm556tn_jsn0vdddr77c0000gp/T/ipykernel_52895/684386146.py:4: DeprecationWarning: find_element_by_css_selector is deprecated. Please use find_element(by=By.CSS_SELECTOR, value=css_selector) instead\n",
      "  body_el = driver.find_element_by_css_selector(\"body\")\n"
     ]
    },
    {
     "name": "stdout",
     "output_type": "stream",
     "text": [
      "https://www.amazon.com/First-Years-Stack-Up-Cups/dp/B00005C5H4/ref=zg_bs_toys-and-games_23/134-8452567-0500404?pd_rd_i=B07C4NGT17&psc=1 None None\n"
     ]
    },
    {
     "name": "stderr",
     "output_type": "stream",
     "text": [
      "/var/folders/3q/3sbzpm556tn_jsn0vdddr77c0000gp/T/ipykernel_52895/684386146.py:4: DeprecationWarning: find_element_by_css_selector is deprecated. Please use find_element(by=By.CSS_SELECTOR, value=css_selector) instead\n",
      "  body_el = driver.find_element_by_css_selector(\"body\")\n"
     ]
    },
    {
     "name": "stdout",
     "output_type": "stream",
     "text": [
      "https://www.amazon.com/Rapid-Filling-Self-Sealing-Bunches-Balloons-Bundles/dp/B09Z6ZLR9P/ref=zg_bs_toys-and-games_5/134-8452567-0500404?pd_rd_i=B09V29B8J1&psc=1 None None\n"
     ]
    },
    {
     "name": "stderr",
     "output_type": "stream",
     "text": [
      "/var/folders/3q/3sbzpm556tn_jsn0vdddr77c0000gp/T/ipykernel_52895/684386146.py:4: DeprecationWarning: find_element_by_css_selector is deprecated. Please use find_element(by=By.CSS_SELECTOR, value=css_selector) instead\n",
      "  body_el = driver.find_element_by_css_selector(\"body\")\n"
     ]
    },
    {
     "name": "stdout",
     "output_type": "stream",
     "text": [
      "https://www.amazon.com/LAYCOL-Swimming-Inflatable-Newest-Protection/dp/B083VRT815/ref=zg_bs_toys-and-games_17/134-8452567-0500404?pd_rd_i=B083VSRKRG&psc=1 None None\n"
     ]
    },
    {
     "name": "stderr",
     "output_type": "stream",
     "text": [
      "/var/folders/3q/3sbzpm556tn_jsn0vdddr77c0000gp/T/ipykernel_52895/684386146.py:4: DeprecationWarning: find_element_by_css_selector is deprecated. Please use find_element(by=By.CSS_SELECTOR, value=css_selector) instead\n",
      "  body_el = driver.find_element_by_css_selector(\"body\")\n"
     ]
    },
    {
     "name": "stdout",
     "output_type": "stream",
     "text": [
      "https://www.amazon.com/TeeTurtle-Reversible-Octopus-Mini-Plush/dp/B07H4K9QYQ/ref=zg_bs_toys-and-games_4/134-8452567-0500404?pd_rd_i=B09DJTXGBN&psc=1 None None\n"
     ]
    },
    {
     "name": "stderr",
     "output_type": "stream",
     "text": [
      "/var/folders/3q/3sbzpm556tn_jsn0vdddr77c0000gp/T/ipykernel_52895/684386146.py:4: DeprecationWarning: find_element_by_css_selector is deprecated. Please use find_element(by=By.CSS_SELECTOR, value=css_selector) instead\n",
      "  body_el = driver.find_element_by_css_selector(\"body\")\n"
     ]
    },
    {
     "name": "stdout",
     "output_type": "stream",
     "text": [
      "https://www.amazon.com/Automatic-Toddlers-Operated-Batteries-Birthday/dp/B07VZF7X31/ref=zg_bs_toys-and-games_30/134-8452567-0500404?pd_rd_i=B085C2J3C5&psc=1 None None\n"
     ]
    },
    {
     "name": "stderr",
     "output_type": "stream",
     "text": [
      "/var/folders/3q/3sbzpm556tn_jsn0vdddr77c0000gp/T/ipykernel_52895/684386146.py:4: DeprecationWarning: find_element_by_css_selector is deprecated. Please use find_element(by=By.CSS_SELECTOR, value=css_selector) instead\n",
      "  body_el = driver.find_element_by_css_selector(\"body\")\n"
     ]
    },
    {
     "name": "stdout",
     "output_type": "stream",
     "text": [
      "https://www.amazon.com/LEGO-Horizon-Forbidden-West-Collectible/dp/B09Q46YHKB/ref=zg_bs_toys-and-games_12/134-8452567-0500404?pd_rd_i=B09Q46YHKB&psc=1 None None\n"
     ]
    },
    {
     "name": "stderr",
     "output_type": "stream",
     "text": [
      "/var/folders/3q/3sbzpm556tn_jsn0vdddr77c0000gp/T/ipykernel_52895/684386146.py:4: DeprecationWarning: find_element_by_css_selector is deprecated. Please use find_element(by=By.CSS_SELECTOR, value=css_selector) instead\n",
      "  body_el = driver.find_element_by_css_selector(\"body\")\n"
     ]
    },
    {
     "name": "stdout",
     "output_type": "stream",
     "text": [
      "https://www.amazon.com/Click-Play-Phthalate-Crush-Plastic/dp/B00PYLU3GG/ref=zg_bs_toys-and-games_28/134-8452567-0500404?pd_rd_i=B09W8R622H&psc=1 None None\n"
     ]
    },
    {
     "name": "stderr",
     "output_type": "stream",
     "text": [
      "/var/folders/3q/3sbzpm556tn_jsn0vdddr77c0000gp/T/ipykernel_52895/684386146.py:4: DeprecationWarning: find_element_by_css_selector is deprecated. Please use find_element(by=By.CSS_SELECTOR, value=css_selector) instead\n",
      "  body_el = driver.find_element_by_css_selector(\"body\")\n"
     ]
    },
    {
     "name": "stdout",
     "output_type": "stream",
     "text": [
      "https://www.amazon.com/Family-Sturdy-Storage-Travel-Friendly-Exclusive/dp/B07P6MZPK3/ref=zg_bs_toys-and-games_27/134-8452567-0500404?pd_rd_i=B09PRL4CDJ&psc=1 None None\n"
     ]
    },
    {
     "name": "stderr",
     "output_type": "stream",
     "text": [
      "/var/folders/3q/3sbzpm556tn_jsn0vdddr77c0000gp/T/ipykernel_52895/684386146.py:4: DeprecationWarning: find_element_by_css_selector is deprecated. Please use find_element(by=By.CSS_SELECTOR, value=css_selector) instead\n",
      "  body_el = driver.find_element_by_css_selector(\"body\")\n"
     ]
    },
    {
     "name": "stdout",
     "output_type": "stream",
     "text": [
      "https://www.amazon.com/Crayola-Colored-Pencil-Supplies-Assorted/dp/B00006RVTS/ref=zg_bs_toys-and-games_24/134-8452567-0500404?pd_rd_i=B09MH514FH&psc=1 None None\n"
     ]
    },
    {
     "name": "stderr",
     "output_type": "stream",
     "text": [
      "/var/folders/3q/3sbzpm556tn_jsn0vdddr77c0000gp/T/ipykernel_52895/684386146.py:4: DeprecationWarning: find_element_by_css_selector is deprecated. Please use find_element(by=By.CSS_SELECTOR, value=css_selector) instead\n",
      "  body_el = driver.find_element_by_css_selector(\"body\")\n"
     ]
    },
    {
     "name": "stdout",
     "output_type": "stream",
     "text": [
      "https://www.amazon.com/LeapFrog-Animals-Book-Frustration-Packaging/dp/B085KTB1WY/ref=zg_bs_toys-and-games_3/134-8452567-0500404?pd_rd_i=B0953YFR2M&psc=1 None None\n"
     ]
    },
    {
     "name": "stderr",
     "output_type": "stream",
     "text": [
      "/var/folders/3q/3sbzpm556tn_jsn0vdddr77c0000gp/T/ipykernel_52895/684386146.py:4: DeprecationWarning: find_element_by_css_selector is deprecated. Please use find_element(by=By.CSS_SELECTOR, value=css_selector) instead\n",
      "  body_el = driver.find_element_by_css_selector(\"body\")\n"
     ]
    },
    {
     "name": "stdout",
     "output_type": "stream",
     "text": [
      "https://www.amazon.com/Almce-Isabella-Mirabel-Costume-Ruffles/dp/B09V7QRBGQ/ref=zg_bs_toys-and-games_19/134-8452567-0500404?pd_rd_i=B09WYL3HTW&psc=1 None None\n"
     ]
    },
    {
     "name": "stderr",
     "output_type": "stream",
     "text": [
      "/var/folders/3q/3sbzpm556tn_jsn0vdddr77c0000gp/T/ipykernel_52895/684386146.py:4: DeprecationWarning: find_element_by_css_selector is deprecated. Please use find_element(by=By.CSS_SELECTOR, value=css_selector) instead\n",
      "  body_el = driver.find_element_by_css_selector(\"body\")\n"
     ]
    },
    {
     "name": "stdout",
     "output_type": "stream",
     "text": [
      "https://www.amazon.com/Pokemon-TCG-Authentic-Expansion-Holofoils/dp/B001DIJ48C/ref=zg_bs_toys-and-games_18/134-8452567-0500404?pd_rd_i=B09ZKJR98V&psc=1 None None\n"
     ]
    },
    {
     "name": "stderr",
     "output_type": "stream",
     "text": [
      "/var/folders/3q/3sbzpm556tn_jsn0vdddr77c0000gp/T/ipykernel_52895/684386146.py:4: DeprecationWarning: find_element_by_css_selector is deprecated. Please use find_element(by=By.CSS_SELECTOR, value=css_selector) instead\n",
      "  body_el = driver.find_element_by_css_selector(\"body\")\n"
     ]
    },
    {
     "name": "stdout",
     "output_type": "stream",
     "text": [
      "https://www.amazon.com/Bentgo-Leak-Proof-5-Compartment-Bento-Style-Lunch/dp/B08B115T54/ref=zg_bs_toys-and-games_29/134-8452567-0500404?pd_rd_i=B07SZHBGZH&psc=1 None None\n"
     ]
    },
    {
     "name": "stderr",
     "output_type": "stream",
     "text": [
      "/var/folders/3q/3sbzpm556tn_jsn0vdddr77c0000gp/T/ipykernel_52895/684386146.py:4: DeprecationWarning: find_element_by_css_selector is deprecated. Please use find_element(by=By.CSS_SELECTOR, value=css_selector) instead\n",
      "  body_el = driver.find_element_by_css_selector(\"body\")\n"
     ]
    },
    {
     "name": "stdout",
     "output_type": "stream",
     "text": [
      "https://www.amazon.com/Little-Tikes-First-Slide-Blue/dp/B008MH5H4M/ref=zg_bs_toys-and-games_26/134-8452567-0500404?pd_rd_i=B008MH5H4M&psc=1 None None\n"
     ]
    },
    {
     "name": "stderr",
     "output_type": "stream",
     "text": [
      "/var/folders/3q/3sbzpm556tn_jsn0vdddr77c0000gp/T/ipykernel_52895/684386146.py:4: DeprecationWarning: find_element_by_css_selector is deprecated. Please use find_element(by=By.CSS_SELECTOR, value=css_selector) instead\n",
      "  body_el = driver.find_element_by_css_selector(\"body\")\n"
     ]
    },
    {
     "name": "stdout",
     "output_type": "stream",
     "text": [
      "https://www.amazon.com/Step2-874600-Showers-Playset-Multi-Colored/dp/B01K1K0K6M/ref=zg_bs_toys-and-games_20/134-8452567-0500404?pd_rd_i=B07V3FM9ZV&psc=1 None None\n"
     ]
    },
    {
     "name": "stderr",
     "output_type": "stream",
     "text": [
      "/var/folders/3q/3sbzpm556tn_jsn0vdddr77c0000gp/T/ipykernel_52895/684386146.py:4: DeprecationWarning: find_element_by_css_selector is deprecated. Please use find_element(by=By.CSS_SELECTOR, value=css_selector) instead\n",
      "  body_el = driver.find_element_by_css_selector(\"body\")\n"
     ]
    },
    {
     "name": "stdout",
     "output_type": "stream",
     "text": [
      "https://www.amazon.com/Sassy-Stacks-Circles-Stacking-Learning/dp/B07NXDJ52C/ref=zg_bs_toys-and-games_21/134-8452567-0500404?pd_rd_i=B09STL9ZN7&psc=1 None None\n"
     ]
    },
    {
     "name": "stderr",
     "output_type": "stream",
     "text": [
      "/var/folders/3q/3sbzpm556tn_jsn0vdddr77c0000gp/T/ipykernel_52895/684386146.py:4: DeprecationWarning: find_element_by_css_selector is deprecated. Please use find_element(by=By.CSS_SELECTOR, value=css_selector) instead\n",
      "  body_el = driver.find_element_by_css_selector(\"body\")\n"
     ]
    },
    {
     "name": "stdout",
     "output_type": "stream",
     "text": [
      "https://www.amazon.com/Lydaz-Electronic-Machine-Outdoor-Toddlers/dp/B07H331J4R/ref=zg_bs_toys-and-games_15/134-8452567-0500404?pd_rd_i=B07H331J4R&psc=1 None None\n"
     ]
    },
    {
     "name": "stderr",
     "output_type": "stream",
     "text": [
      "/var/folders/3q/3sbzpm556tn_jsn0vdddr77c0000gp/T/ipykernel_52895/684386146.py:4: DeprecationWarning: find_element_by_css_selector is deprecated. Please use find_element(by=By.CSS_SELECTOR, value=css_selector) instead\n",
      "  body_el = driver.find_element_by_css_selector(\"body\")\n"
     ]
    },
    {
     "name": "stdout",
     "output_type": "stream",
     "text": [
      "https://www.amazon.com/SHASHIBO-Shifting-Geometric-Magnetic-Transforming/dp/B07W7FLKRW/ref=zg_bs_toys-and-games_22/134-8452567-0500404?pd_rd_i=B09NTXBJDM&psc=1 None None\n"
     ]
    },
    {
     "name": "stderr",
     "output_type": "stream",
     "text": [
      "/var/folders/3q/3sbzpm556tn_jsn0vdddr77c0000gp/T/ipykernel_52895/684386146.py:4: DeprecationWarning: find_element_by_css_selector is deprecated. Please use find_element(by=By.CSS_SELECTOR, value=css_selector) instead\n",
      "  body_el = driver.find_element_by_css_selector(\"body\")\n"
     ]
    },
    {
     "name": "stdout",
     "output_type": "stream",
     "text": [
      "https://www.amazon.com/2021-Apple-10-2-inch-iPad-Wi-Fi/dp/B09G9FPHY6/ref=zg_bs_electronics_22/134-8452567-0500404?pd_rd_i=B09G9FPHY6&psc=1 None None\n"
     ]
    },
    {
     "name": "stderr",
     "output_type": "stream",
     "text": [
      "/var/folders/3q/3sbzpm556tn_jsn0vdddr77c0000gp/T/ipykernel_52895/684386146.py:4: DeprecationWarning: find_element_by_css_selector is deprecated. Please use find_element(by=By.CSS_SELECTOR, value=css_selector) instead\n",
      "  body_el = driver.find_element_by_css_selector(\"body\")\n"
     ]
    },
    {
     "name": "stdout",
     "output_type": "stream",
     "text": [
      "https://www.amazon.com/fire-tv-stick-with-3rd-gen-alexa-voice-remote/dp/B08C1W5N87/ref=zg_bs_electronics_1/134-8452567-0500404?pd_rd_i=B08C1W5N87&psc=1 None None\n"
     ]
    },
    {
     "name": "stderr",
     "output_type": "stream",
     "text": [
      "/var/folders/3q/3sbzpm556tn_jsn0vdddr77c0000gp/T/ipykernel_52895/684386146.py:4: DeprecationWarning: find_element_by_css_selector is deprecated. Please use find_element(by=By.CSS_SELECTOR, value=css_selector) instead\n",
      "  body_el = driver.find_element_by_css_selector(\"body\")\n"
     ]
    },
    {
     "name": "stdout",
     "output_type": "stream",
     "text": [
      "https://www.amazon.com/Upgraded-Bluetooth-Cancelling-Headphones-Hands-Free/dp/B08KY684PB/ref=zg_bs_electronics_26/134-8452567-0500404?pd_rd_i=B08KY684PB&psc=1 None None\n"
     ]
    },
    {
     "name": "stderr",
     "output_type": "stream",
     "text": [
      "/var/folders/3q/3sbzpm556tn_jsn0vdddr77c0000gp/T/ipykernel_52895/684386146.py:4: DeprecationWarning: find_element_by_css_selector is deprecated. Please use find_element(by=By.CSS_SELECTOR, value=css_selector) instead\n",
      "  body_el = driver.find_element_by_css_selector(\"body\")\n"
     ]
    },
    {
     "name": "stdout",
     "output_type": "stream",
     "text": [
      "https://www.amazon.com/Apple-MX542AM-A-AirTag-Pack/dp/B0932QJ2JZ/ref=zg_bs_electronics_4/134-8452567-0500404?pd_rd_i=B0932QJ2JZ&psc=1 None None\n"
     ]
    },
    {
     "name": "stderr",
     "output_type": "stream",
     "text": [
      "/var/folders/3q/3sbzpm556tn_jsn0vdddr77c0000gp/T/ipykernel_52895/684386146.py:4: DeprecationWarning: find_element_by_css_selector is deprecated. Please use find_element(by=By.CSS_SELECTOR, value=css_selector) instead\n",
      "  body_el = driver.find_element_by_css_selector(\"body\")\n"
     ]
    },
    {
     "name": "stdout",
     "output_type": "stream",
     "text": [
      "https://www.amazon.com/fire-tv-stick-lite/dp/B07YNLBS7R/ref=zg_bs_electronics_15/134-8452567-0500404?pd_rd_i=B07YNLBS7R&psc=1 None None\n"
     ]
    },
    {
     "name": "stderr",
     "output_type": "stream",
     "text": [
      "/var/folders/3q/3sbzpm556tn_jsn0vdddr77c0000gp/T/ipykernel_52895/684386146.py:4: DeprecationWarning: find_element_by_css_selector is deprecated. Please use find_element(by=By.CSS_SELECTOR, value=css_selector) instead\n",
      "  body_el = driver.find_element_by_css_selector(\"body\")\n"
     ]
    },
    {
     "name": "stdout",
     "output_type": "stream",
     "text": [
      "https://www.amazon.com/All-new-Kindle-Paperwhite-adjustable-Ad-Supported/dp/B08KTZ8249/ref=zg_bs_electronics_17/134-8452567-0500404?pd_rd_i=B08KTZ8249&psc=1 None None\n"
     ]
    },
    {
     "name": "stderr",
     "output_type": "stream",
     "text": [
      "/var/folders/3q/3sbzpm556tn_jsn0vdddr77c0000gp/T/ipykernel_52895/684386146.py:4: DeprecationWarning: find_element_by_css_selector is deprecated. Please use find_element(by=By.CSS_SELECTOR, value=css_selector) instead\n",
      "  body_el = driver.find_element_by_css_selector(\"body\")\n"
     ]
    },
    {
     "name": "stdout",
     "output_type": "stream",
     "text": [
      "https://www.amazon.com/all-new-fire-tv-stick-4k-with-alexa-voice-remote/dp/B08XVYZ1Y5/ref=zg_bs_electronics_2/134-8452567-0500404?pd_rd_i=B08XVYZ1Y5&psc=1 None None\n"
     ]
    },
    {
     "name": "stderr",
     "output_type": "stream",
     "text": [
      "/var/folders/3q/3sbzpm556tn_jsn0vdddr77c0000gp/T/ipykernel_52895/684386146.py:4: DeprecationWarning: find_element_by_css_selector is deprecated. Please use find_element(by=By.CSS_SELECTOR, value=css_selector) instead\n",
      "  body_el = driver.find_element_by_css_selector(\"body\")\n"
     ]
    },
    {
     "name": "stdout",
     "output_type": "stream",
     "text": [
      "https://www.amazon.com/fire-tv-stick-lite-latest-alexa-voice-remote-lite/dp/B091G4YP57/ref=zg_bs_electronics_14/134-8452567-0500404?pd_rd_i=B091G4YP57&psc=1 None None\n"
     ]
    },
    {
     "name": "stderr",
     "output_type": "stream",
     "text": [
      "/var/folders/3q/3sbzpm556tn_jsn0vdddr77c0000gp/T/ipykernel_52895/684386146.py:4: DeprecationWarning: find_element_by_css_selector is deprecated. Please use find_element(by=By.CSS_SELECTOR, value=css_selector) instead\n",
      "  body_el = driver.find_element_by_css_selector(\"body\")\n"
     ]
    },
    {
     "name": "stdout",
     "output_type": "stream",
     "text": [
      "https://www.amazon.com/Echo-Dot/dp/B07XJ8C8F5/ref=zg_bs_electronics_6/134-8452567-0500404?pd_rd_i=B07XJ8C8F5&psc=1 None None\n"
     ]
    },
    {
     "name": "stderr",
     "output_type": "stream",
     "text": [
      "/var/folders/3q/3sbzpm556tn_jsn0vdddr77c0000gp/T/ipykernel_52895/684386146.py:4: DeprecationWarning: find_element_by_css_selector is deprecated. Please use find_element(by=By.CSS_SELECTOR, value=css_selector) instead\n",
      "  body_el = driver.find_element_by_css_selector(\"body\")\n"
     ]
    },
    {
     "name": "stdout",
     "output_type": "stream",
     "text": [
      "https://www.amazon.com/Echo-Dot/dp/B084J4MZK8/ref=zg_bs_electronics_25/134-8452567-0500404?pd_rd_i=B084J4MZK8&psc=1 None None\n"
     ]
    },
    {
     "name": "stderr",
     "output_type": "stream",
     "text": [
      "/var/folders/3q/3sbzpm556tn_jsn0vdddr77c0000gp/T/ipykernel_52895/684386146.py:4: DeprecationWarning: find_element_by_css_selector is deprecated. Please use find_element(by=By.CSS_SELECTOR, value=css_selector) instead\n",
      "  body_el = driver.find_element_by_css_selector(\"body\")\n"
     ]
    },
    {
     "name": "stdout",
     "output_type": "stream",
     "text": [
      "https://www.amazon.com/Surge-Protector-Power-Strip-Extension/dp/B09PDLBFKY/ref=zg_bs_electronics_18/134-8452567-0500404?pd_rd_i=B09PDLBFKY&psc=1 None None\n"
     ]
    },
    {
     "name": "stderr",
     "output_type": "stream",
     "text": [
      "/var/folders/3q/3sbzpm556tn_jsn0vdddr77c0000gp/T/ipykernel_52895/684386146.py:4: DeprecationWarning: find_element_by_css_selector is deprecated. Please use find_element(by=By.CSS_SELECTOR, value=css_selector) instead\n",
      "  body_el = driver.find_element_by_css_selector(\"body\")\n"
     ]
    },
    {
     "name": "stdout",
     "output_type": "stream",
     "text": [
      "https://www.amazon.com/OHill-Organizer-Management-Organizing-Adhesive/dp/B071FXZBMV/ref=zg_bs_electronics_24/134-8452567-0500404?pd_rd_i=B071FXZBMV&psc=1 None None\n"
     ]
    },
    {
     "name": "stderr",
     "output_type": "stream",
     "text": [
      "/var/folders/3q/3sbzpm556tn_jsn0vdddr77c0000gp/T/ipykernel_52895/684386146.py:4: DeprecationWarning: find_element_by_css_selector is deprecated. Please use find_element(by=By.CSS_SELECTOR, value=css_selector) instead\n",
      "  body_el = driver.find_element_by_css_selector(\"body\")\n"
     ]
    },
    {
     "name": "stdout",
     "output_type": "stream",
     "text": [
      "https://www.amazon.com/Mac-Book-Pro-Charger-Compatible/dp/B097PTBB5V/ref=zg_bs_electronics_30/134-8452567-0500404?pd_rd_i=B097PTBB5V&psc=1 None None\n"
     ]
    },
    {
     "name": "stderr",
     "output_type": "stream",
     "text": [
      "/var/folders/3q/3sbzpm556tn_jsn0vdddr77c0000gp/T/ipykernel_52895/684386146.py:4: DeprecationWarning: find_element_by_css_selector is deprecated. Please use find_element(by=By.CSS_SELECTOR, value=css_selector) instead\n",
      "  body_el = driver.find_element_by_css_selector(\"body\")\n"
     ]
    },
    {
     "name": "stdout",
     "output_type": "stream",
     "text": [
      "https://www.amazon.com/Weather-Radio-Emergency-Flashlights-Emergencies/dp/B09HCX2VPY/ref=zg_bs_electronics_20/134-8452567-0500404?pd_rd_i=B09HCX2VPY&psc=1 None None\n"
     ]
    },
    {
     "name": "stderr",
     "output_type": "stream",
     "text": [
      "/var/folders/3q/3sbzpm556tn_jsn0vdddr77c0000gp/T/ipykernel_52895/684386146.py:4: DeprecationWarning: find_element_by_css_selector is deprecated. Please use find_element(by=By.CSS_SELECTOR, value=css_selector) instead\n",
      "  body_el = driver.find_element_by_css_selector(\"body\")\n"
     ]
    },
    {
     "name": "stdout",
     "output_type": "stream",
     "text": [
      "https://www.amazon.com/Roku-Express-Streaming-Wireless-Controls/dp/B0916TKFF2/ref=zg_bs_electronics_12/134-8452567-0500404?pd_rd_i=B0916TKFF2&psc=1 None None\n"
     ]
    },
    {
     "name": "stderr",
     "output_type": "stream",
     "text": [
      "/var/folders/3q/3sbzpm556tn_jsn0vdddr77c0000gp/T/ipykernel_52895/684386146.py:4: DeprecationWarning: find_element_by_css_selector is deprecated. Please use find_element(by=By.CSS_SELECTOR, value=css_selector) instead\n",
      "  body_el = driver.find_element_by_css_selector(\"body\")\n"
     ]
    },
    {
     "name": "stdout",
     "output_type": "stream",
     "text": [
      "https://www.amazon.com/Hmrope-Premium-Plastic-Strength-Self-Locking/dp/B07TG9VMWY/ref=zg_bs_electronics_23/134-8452567-0500404?pd_rd_i=B07TG9VMWY&psc=1 None None\n"
     ]
    },
    {
     "name": "stderr",
     "output_type": "stream",
     "text": [
      "/var/folders/3q/3sbzpm556tn_jsn0vdddr77c0000gp/T/ipykernel_52895/684386146.py:4: DeprecationWarning: find_element_by_css_selector is deprecated. Please use find_element(by=By.CSS_SELECTOR, value=css_selector) instead\n",
      "  body_el = driver.find_element_by_css_selector(\"body\")\n"
     ]
    },
    {
     "name": "stdout",
     "output_type": "stream",
     "text": [
      "https://www.amazon.com/Alestor-Protector-Outlets-Extension-Essentials/dp/B08P5LRY37/ref=zg_bs_electronics_11/134-8452567-0500404?pd_rd_i=B08P5LRY37&psc=1 None None\n"
     ]
    },
    {
     "name": "stderr",
     "output_type": "stream",
     "text": [
      "/var/folders/3q/3sbzpm556tn_jsn0vdddr77c0000gp/T/ipykernel_52895/684386146.py:4: DeprecationWarning: find_element_by_css_selector is deprecated. Please use find_element(by=By.CSS_SELECTOR, value=css_selector) instead\n",
      "  body_el = driver.find_element_by_css_selector(\"body\")\n"
     ]
    },
    {
     "name": "stdout",
     "output_type": "stream",
     "text": [
      "https://www.amazon.com/Introducing-Blink-Doorbell-Two-way-enabled/dp/B08SGC46M9/ref=zg_bs_electronics_13/134-8452567-0500404?pd_rd_i=B09DFGMQWJ&psc=1 None None\n"
     ]
    },
    {
     "name": "stderr",
     "output_type": "stream",
     "text": [
      "/var/folders/3q/3sbzpm556tn_jsn0vdddr77c0000gp/T/ipykernel_52895/684386146.py:4: DeprecationWarning: find_element_by_css_selector is deprecated. Please use find_element(by=By.CSS_SELECTOR, value=css_selector) instead\n",
      "  body_el = driver.find_element_by_css_selector(\"body\")\n"
     ]
    },
    {
     "name": "stdout",
     "output_type": "stream",
     "text": [
      "https://www.amazon.com/Digital-Display-Bedroom-Adjustable-Charger/dp/B087X22QRV/ref=zg_bs_electronics_28/134-8452567-0500404?pd_rd_i=B0899TVSW9&psc=1 None None\n"
     ]
    },
    {
     "name": "stderr",
     "output_type": "stream",
     "text": [
      "/var/folders/3q/3sbzpm556tn_jsn0vdddr77c0000gp/T/ipykernel_52895/684386146.py:4: DeprecationWarning: find_element_by_css_selector is deprecated. Please use find_element(by=By.CSS_SELECTOR, value=css_selector) instead\n",
      "  body_el = driver.find_element_by_css_selector(\"body\")\n"
     ]
    },
    {
     "name": "stdout",
     "output_type": "stream",
     "text": [
      "https://www.amazon.com/Roku-Streaming-Device-Vision-Controls/dp/B09BKCDXZC/ref=zg_bs_electronics_7/134-8452567-0500404?pd_rd_i=B09BKCDXZC&psc=1 None None\n"
     ]
    },
    {
     "name": "stderr",
     "output_type": "stream",
     "text": [
      "/var/folders/3q/3sbzpm556tn_jsn0vdddr77c0000gp/T/ipykernel_52895/684386146.py:4: DeprecationWarning: find_element_by_css_selector is deprecated. Please use find_element(by=By.CSS_SELECTOR, value=css_selector) instead\n",
      "  body_el = driver.find_element_by_css_selector(\"body\")\n"
     ]
    },
    {
     "name": "stdout",
     "output_type": "stream",
     "text": [
      "https://www.amazon.com/Kasa-Smart-Home-Security-Camera/dp/B08GHX9G5L/ref=zg_bs_electronics_29/134-8452567-0500404?pd_rd_i=B09P5X2L7X&psc=1 None None\n"
     ]
    },
    {
     "name": "stderr",
     "output_type": "stream",
     "text": [
      "/var/folders/3q/3sbzpm556tn_jsn0vdddr77c0000gp/T/ipykernel_52895/684386146.py:4: DeprecationWarning: find_element_by_css_selector is deprecated. Please use find_element(by=By.CSS_SELECTOR, value=css_selector) instead\n",
      "  body_el = driver.find_element_by_css_selector(\"body\")\n"
     ]
    },
    {
     "name": "stdout",
     "output_type": "stream",
     "text": [
      "https://www.amazon.com/Roku-Express-Streaming-Media-Player/dp/B07WVFCVJN/ref=zg_bs_electronics_10/134-8452567-0500404?pd_rd_i=B07WVFCVJN&psc=1 None None\n"
     ]
    },
    {
     "name": "stderr",
     "output_type": "stream",
     "text": [
      "/var/folders/3q/3sbzpm556tn_jsn0vdddr77c0000gp/T/ipykernel_52895/684386146.py:4: DeprecationWarning: find_element_by_css_selector is deprecated. Please use find_element(by=By.CSS_SELECTOR, value=css_selector) instead\n",
      "  body_el = driver.find_element_by_css_selector(\"body\")\n"
     ]
    },
    {
     "name": "stdout",
     "output_type": "stream",
     "text": [
      "https://www.amazon.com/Sceptre-E248W-19203R-Monitor-Speakers-Metallic/dp/B0773ZY26F/ref=zg_bs_electronics_27/134-8452567-0500404?pd_rd_i=B0773ZY26F&psc=1 None None\n"
     ]
    },
    {
     "name": "stderr",
     "output_type": "stream",
     "text": [
      "/var/folders/3q/3sbzpm556tn_jsn0vdddr77c0000gp/T/ipykernel_52895/684386146.py:4: DeprecationWarning: find_element_by_css_selector is deprecated. Please use find_element(by=By.CSS_SELECTOR, value=css_selector) instead\n",
      "  body_el = driver.find_element_by_css_selector(\"body\")\n"
     ]
    },
    {
     "name": "stdout",
     "output_type": "stream",
     "text": [
      "https://www.amazon.com/fire-tv-stick-4k-max-with-alexa-voice-remote/dp/B08MQZXN1X/ref=zg_bs_electronics_5/134-8452567-0500404?pd_rd_i=B08MQZXN1X&psc=1 None None\n"
     ]
    },
    {
     "name": "stderr",
     "output_type": "stream",
     "text": [
      "/var/folders/3q/3sbzpm556tn_jsn0vdddr77c0000gp/T/ipykernel_52895/684386146.py:4: DeprecationWarning: find_element_by_css_selector is deprecated. Please use find_element(by=By.CSS_SELECTOR, value=css_selector) instead\n",
      "  body_el = driver.find_element_by_css_selector(\"body\")\n"
     ]
    },
    {
     "name": "stdout",
     "output_type": "stream",
     "text": [
      "https://www.amazon.com/Ferilinso-Designed-Protector-Tempered-Definition/dp/B09BNBMT8Y/ref=zg_bs_electronics_19/134-8452567-0500404?pd_rd_i=B09BNBMT8Y&psc=1 None None\n"
     ]
    },
    {
     "name": "stderr",
     "output_type": "stream",
     "text": [
      "/var/folders/3q/3sbzpm556tn_jsn0vdddr77c0000gp/T/ipykernel_52895/684386146.py:4: DeprecationWarning: find_element_by_css_selector is deprecated. Please use find_element(by=By.CSS_SELECTOR, value=css_selector) instead\n",
      "  body_el = driver.find_element_by_css_selector(\"body\")\n"
     ]
    },
    {
     "name": "stdout",
     "output_type": "stream",
     "text": [
      "https://www.amazon.com/Apple-MX532AM-A-AirTag/dp/B0933BVK6T/ref=zg_bs_electronics_3/134-8452567-0500404?pd_rd_i=B0933BVK6T&psc=1 None None\n"
     ]
    },
    {
     "name": "stderr",
     "output_type": "stream",
     "text": [
      "/var/folders/3q/3sbzpm556tn_jsn0vdddr77c0000gp/T/ipykernel_52895/684386146.py:4: DeprecationWarning: find_element_by_css_selector is deprecated. Please use find_element(by=By.CSS_SELECTOR, value=css_selector) instead\n",
      "  body_el = driver.find_element_by_css_selector(\"body\")\n"
     ]
    },
    {
     "name": "stdout",
     "output_type": "stream",
     "text": [
      "https://www.amazon.com/Blocking-Glasses-Computer-Reading-Eyestrain/dp/B07W781XWF/ref=zg_bs_electronics_16/134-8452567-0500404?pd_rd_i=B09N7LVXLH&psc=1 None None\n"
     ]
    },
    {
     "name": "stderr",
     "output_type": "stream",
     "text": [
      "/var/folders/3q/3sbzpm556tn_jsn0vdddr77c0000gp/T/ipykernel_52895/684386146.py:4: DeprecationWarning: find_element_by_css_selector is deprecated. Please use find_element(by=By.CSS_SELECTOR, value=css_selector) instead\n",
      "  body_el = driver.find_element_by_css_selector(\"body\")\n"
     ]
    },
    {
     "name": "stdout",
     "output_type": "stream",
     "text": [
      "https://www.amazon.com/Fujifilm-INSTAX-Instant-Twin-Pack/dp/B00EB4ADQW/ref=zg_bs_electronics_8/134-8452567-0500404?pd_rd_i=B00EB4ADQW&psc=1 None None\n"
     ]
    },
    {
     "name": "stderr",
     "output_type": "stream",
     "text": [
      "/var/folders/3q/3sbzpm556tn_jsn0vdddr77c0000gp/T/ipykernel_52895/684386146.py:4: DeprecationWarning: find_element_by_css_selector is deprecated. Please use find_element(by=By.CSS_SELECTOR, value=css_selector) instead\n",
      "  body_el = driver.find_element_by_css_selector(\"body\")\n"
     ]
    },
    {
     "name": "stdout",
     "output_type": "stream",
     "text": [
      "https://www.amazon.com/Echo-Dot/dp/B07FZ8S74R/ref=zg_bs_electronics_9/134-8452567-0500404?pd_rd_i=B07FZ8S74R&psc=1 None None\n"
     ]
    },
    {
     "name": "stderr",
     "output_type": "stream",
     "text": [
      "/var/folders/3q/3sbzpm556tn_jsn0vdddr77c0000gp/T/ipykernel_52895/684386146.py:4: DeprecationWarning: find_element_by_css_selector is deprecated. Please use find_element(by=By.CSS_SELECTOR, value=css_selector) instead\n",
      "  body_el = driver.find_element_by_css_selector(\"body\")\n"
     ]
    },
    {
     "name": "stdout",
     "output_type": "stream",
     "text": [
      "https://www.amazon.com/Fearless-Tape-Double-Sided-Fashion/dp/B01K2CMFVM/ref=zg_bs_fashion_15/134-8452567-0500404?pd_rd_i=B01K2CMFVM&psc=1 None None\n"
     ]
    },
    {
     "name": "stderr",
     "output_type": "stream",
     "text": [
      "/var/folders/3q/3sbzpm556tn_jsn0vdddr77c0000gp/T/ipykernel_52895/684386146.py:4: DeprecationWarning: find_element_by_css_selector is deprecated. Please use find_element(by=By.CSS_SELECTOR, value=css_selector) instead\n",
      "  body_el = driver.find_element_by_css_selector(\"body\")\n"
     ]
    },
    {
     "name": "stdout",
     "output_type": "stream",
     "text": [
      "https://www.amazon.com/Womens-Floral-Sleeve-Chiffon-Cardigan/dp/B07DWYJMGQ/ref=zg_bs_fashion_21/134-8452567-0500404?pd_rd_i=B07DWXMJFP&psc=1 None None\n"
     ]
    },
    {
     "name": "stderr",
     "output_type": "stream",
     "text": [
      "/var/folders/3q/3sbzpm556tn_jsn0vdddr77c0000gp/T/ipykernel_52895/684386146.py:4: DeprecationWarning: find_element_by_css_selector is deprecated. Please use find_element(by=By.CSS_SELECTOR, value=css_selector) instead\n",
      "  body_el = driver.find_element_by_css_selector(\"body\")\n"
     ]
    },
    {
     "name": "stdout",
     "output_type": "stream",
     "text": [
      "https://www.amazon.com/Hanes-ComfortFlex-Waistband-Multiple-Available-Pack-Black/dp/B09G4VWJHT/ref=zg_bs_fashion_19/134-8452567-0500404?pd_rd_i=B09Z5GPVCT&psc=1 None None\n"
     ]
    },
    {
     "name": "stderr",
     "output_type": "stream",
     "text": [
      "/var/folders/3q/3sbzpm556tn_jsn0vdddr77c0000gp/T/ipykernel_52895/684386146.py:4: DeprecationWarning: find_element_by_css_selector is deprecated. Please use find_element(by=By.CSS_SELECTOR, value=css_selector) instead\n",
      "  body_el = driver.find_element_by_css_selector(\"body\")\n"
     ]
    },
    {
     "name": "stdout",
     "output_type": "stream",
     "text": [
      "https://www.amazon.com/VIFUUR-Water-Sports-Unisex-Shoes/dp/B0749FWLTP/ref=zg_bs_fashion_8/134-8452567-0500404?pd_rd_i=B07JPYSNDP&psc=1 None None\n"
     ]
    },
    {
     "name": "stderr",
     "output_type": "stream",
     "text": [
      "/var/folders/3q/3sbzpm556tn_jsn0vdddr77c0000gp/T/ipykernel_52895/684386146.py:4: DeprecationWarning: find_element_by_css_selector is deprecated. Please use find_element(by=By.CSS_SELECTOR, value=css_selector) instead\n",
      "  body_el = driver.find_element_by_css_selector(\"body\")\n"
     ]
    },
    {
     "name": "stdout",
     "output_type": "stream",
     "text": [
      "https://www.amazon.com/Fruit-Loom-Coolzone-Assorted-Pack-Black/dp/B097C2RNQB/ref=zg_bs_fashion_14/134-8452567-0500404?pd_rd_i=B09ZYS5JVP&psc=1 None None\n"
     ]
    },
    {
     "name": "stderr",
     "output_type": "stream",
     "text": [
      "/var/folders/3q/3sbzpm556tn_jsn0vdddr77c0000gp/T/ipykernel_52895/684386146.py:4: DeprecationWarning: find_element_by_css_selector is deprecated. Please use find_element(by=By.CSS_SELECTOR, value=css_selector) instead\n",
      "  body_el = driver.find_element_by_css_selector(\"body\")\n"
     ]
    },
    {
     "name": "stdout",
     "output_type": "stream",
     "text": [
      "https://www.amazon.com/Levis-Mens-Relaxed-fit-Stonewash-29X30/dp/B0018OHGDG/ref=zg_bs_fashion_2/134-8452567-0500404?pd_rd_i=B09VT8525B&psc=1 None None\n"
     ]
    },
    {
     "name": "stderr",
     "output_type": "stream",
     "text": [
      "/var/folders/3q/3sbzpm556tn_jsn0vdddr77c0000gp/T/ipykernel_52895/684386146.py:4: DeprecationWarning: find_element_by_css_selector is deprecated. Please use find_element(by=By.CSS_SELECTOR, value=css_selector) instead\n",
      "  body_el = driver.find_element_by_css_selector(\"body\")\n"
     ]
    },
    {
     "name": "stdout",
     "output_type": "stream",
     "text": [
      "https://www.amazon.com/Hey-Dude-Wally-Stretch-Steel/dp/B07D3GPGS2/ref=zg_bs_fashion_18/134-8452567-0500404?pd_rd_i=B01GTP6MYM&psc=1 None None\n"
     ]
    },
    {
     "name": "stderr",
     "output_type": "stream",
     "text": [
      "/var/folders/3q/3sbzpm556tn_jsn0vdddr77c0000gp/T/ipykernel_52895/684386146.py:4: DeprecationWarning: find_element_by_css_selector is deprecated. Please use find_element(by=By.CSS_SELECTOR, value=css_selector) instead\n",
      "  body_el = driver.find_element_by_css_selector(\"body\")\n"
     ]
    },
    {
     "name": "stdout",
     "output_type": "stream",
     "text": [
      "https://www.amazon.com/Womens-Sleeveless-Halter-Bodysuits-Leotard/dp/B083FX3XQ5/ref=zg_bs_fashion_10/134-8452567-0500404?pd_rd_i=B083FX4D1C&psc=1 None None\n"
     ]
    },
    {
     "name": "stderr",
     "output_type": "stream",
     "text": [
      "/var/folders/3q/3sbzpm556tn_jsn0vdddr77c0000gp/T/ipykernel_52895/684386146.py:4: DeprecationWarning: find_element_by_css_selector is deprecated. Please use find_element(by=By.CSS_SELECTOR, value=css_selector) instead\n",
      "  body_el = driver.find_element_by_css_selector(\"body\")\n"
     ]
    },
    {
     "name": "stdout",
     "output_type": "stream",
     "text": [
      "https://www.amazon.com/BRONAX-Slippers-Cushioned-Non-Slip-Bathroom/dp/B092QWXTW8/ref=zg_bs_fashion_25/134-8452567-0500404?pd_rd_i=B092QTM76Y&psc=1 None None\n"
     ]
    },
    {
     "name": "stderr",
     "output_type": "stream",
     "text": [
      "/var/folders/3q/3sbzpm556tn_jsn0vdddr77c0000gp/T/ipykernel_52895/684386146.py:4: DeprecationWarning: find_element_by_css_selector is deprecated. Please use find_element(by=By.CSS_SELECTOR, value=css_selector) instead\n",
      "  body_el = driver.find_element_by_css_selector(\"body\")\n"
     ]
    },
    {
     "name": "stdout",
     "output_type": "stream",
     "text": [
      "https://www.amazon.com/Amazon-Essentials-Standard-Slim-Fit-X-Small/dp/B07YLVBVQV/ref=zg_bs_fashion_28/134-8452567-0500404?pd_rd_i=B09Y5ZY8LQ&psc=1 None None\n"
     ]
    },
    {
     "name": "stderr",
     "output_type": "stream",
     "text": [
      "/var/folders/3q/3sbzpm556tn_jsn0vdddr77c0000gp/T/ipykernel_52895/684386146.py:4: DeprecationWarning: find_element_by_css_selector is deprecated. Please use find_element(by=By.CSS_SELECTOR, value=css_selector) instead\n",
      "  body_el = driver.find_element_by_css_selector(\"body\")\n"
     ]
    },
    {
     "name": "stdout",
     "output_type": "stream",
     "text": [
      "https://www.amazon.com/Crocs-Unisex-Classic-Clog-Black/dp/B08CV9WKRH/ref=zg_bs_fashion_4/134-8452567-0500404?pd_rd_i=B09V6M1NJR&psc=1 None None\n"
     ]
    },
    {
     "name": "stderr",
     "output_type": "stream",
     "text": [
      "/var/folders/3q/3sbzpm556tn_jsn0vdddr77c0000gp/T/ipykernel_52895/684386146.py:4: DeprecationWarning: find_element_by_css_selector is deprecated. Please use find_element(by=By.CSS_SELECTOR, value=css_selector) instead\n",
      "  body_el = driver.find_element_by_css_selector(\"body\")\n"
     ]
    },
    {
     "name": "stdout",
     "output_type": "stream",
     "text": [
      "https://www.amazon.com/Longline-Wirefree-Support-Running-Workout/dp/B08B186P6J/ref=zg_bs_fashion_13/134-8452567-0500404?pd_rd_i=B088M5YWPZ&psc=1 None None\n"
     ]
    },
    {
     "name": "stderr",
     "output_type": "stream",
     "text": [
      "/var/folders/3q/3sbzpm556tn_jsn0vdddr77c0000gp/T/ipykernel_52895/684386146.py:4: DeprecationWarning: find_element_by_css_selector is deprecated. Please use find_element(by=By.CSS_SELECTOR, value=css_selector) instead\n",
      "  body_el = driver.find_element_by_css_selector(\"body\")\n"
     ]
    },
    {
     "name": "stdout",
     "output_type": "stream",
     "text": [
      "https://www.amazon.com/Wrangler-Authentics-Classic-Relaxed-Anthracite/dp/B08RBHL3HW/ref=zg_bs_fashion_16/134-8452567-0500404?pd_rd_i=B09QT6H6NQ&psc=1 None None\n"
     ]
    },
    {
     "name": "stderr",
     "output_type": "stream",
     "text": [
      "/var/folders/3q/3sbzpm556tn_jsn0vdddr77c0000gp/T/ipykernel_52895/684386146.py:4: DeprecationWarning: find_element_by_css_selector is deprecated. Please use find_element(by=By.CSS_SELECTOR, value=css_selector) instead\n",
      "  body_el = driver.find_element_by_css_selector(\"body\")\n"
     ]
    },
    {
     "name": "stdout",
     "output_type": "stream",
     "text": [
      "https://www.amazon.com/NIPPIES-Nipple-Covers-Women-Reusable/dp/B00CX547FE/ref=zg_bs_fashion_17/134-8452567-0500404?pd_rd_i=B094Q7DC3K&psc=1 None None\n"
     ]
    },
    {
     "name": "stderr",
     "output_type": "stream",
     "text": [
      "/var/folders/3q/3sbzpm556tn_jsn0vdddr77c0000gp/T/ipykernel_52895/684386146.py:4: DeprecationWarning: find_element_by_css_selector is deprecated. Please use find_element(by=By.CSS_SELECTOR, value=css_selector) instead\n",
      "  body_el = driver.find_element_by_css_selector(\"body\")\n"
     ]
    },
    {
     "name": "stdout",
     "output_type": "stream",
     "text": [
      "https://www.amazon.com/Shirts-Women-Summer-Sleeve-Black/dp/B08S34FZKM/ref=zg_bs_fashion_6/134-8452567-0500404?pd_rd_i=B08S3J4WHL&psc=1 None None\n"
     ]
    },
    {
     "name": "stderr",
     "output_type": "stream",
     "text": [
      "/var/folders/3q/3sbzpm556tn_jsn0vdddr77c0000gp/T/ipykernel_52895/684386146.py:4: DeprecationWarning: find_element_by_css_selector is deprecated. Please use find_element(by=By.CSS_SELECTOR, value=css_selector) instead\n",
      "  body_el = driver.find_element_by_css_selector(\"body\")\n"
     ]
    },
    {
     "name": "stdout",
     "output_type": "stream",
     "text": [
      "https://www.amazon.com/Women-Loose-Summer-Basic-Solid/dp/B08TT5D5Q6/ref=zg_bs_fashion_26/134-8452567-0500404?pd_rd_i=B08TSSJVRR&psc=1 None None\n"
     ]
    },
    {
     "name": "stderr",
     "output_type": "stream",
     "text": [
      "/var/folders/3q/3sbzpm556tn_jsn0vdddr77c0000gp/T/ipykernel_52895/684386146.py:4: DeprecationWarning: find_element_by_css_selector is deprecated. Please use find_element(by=By.CSS_SELECTOR, value=css_selector) instead\n",
      "  body_el = driver.find_element_by_css_selector(\"body\")\n"
     ]
    },
    {
     "name": "stdout",
     "output_type": "stream",
     "text": [
      "https://www.amazon.com/Wrangler-Authentics-Premium-Cargo-Short/dp/B00XKYM3WQ/ref=zg_bs_fashion_9/134-8452567-0500404?pd_rd_i=B09LZRTDXW&psc=1 None None\n"
     ]
    },
    {
     "name": "stderr",
     "output_type": "stream",
     "text": [
      "/var/folders/3q/3sbzpm556tn_jsn0vdddr77c0000gp/T/ipykernel_52895/684386146.py:4: DeprecationWarning: find_element_by_css_selector is deprecated. Please use find_element(by=By.CSS_SELECTOR, value=css_selector) instead\n",
      "  body_el = driver.find_element_by_css_selector(\"body\")\n"
     ]
    },
    {
     "name": "stdout",
     "output_type": "stream",
     "text": [
      "https://www.amazon.com/Amazon-Essentials-Womens-Stretch-X-Small/dp/B06XNLJTGG/ref=zg_bs_fashion_22/134-8452567-0500404?pd_rd_i=B09B4QD42W&psc=1 None None\n"
     ]
    },
    {
     "name": "stderr",
     "output_type": "stream",
     "text": [
      "/var/folders/3q/3sbzpm556tn_jsn0vdddr77c0000gp/T/ipykernel_52895/684386146.py:4: DeprecationWarning: find_element_by_css_selector is deprecated. Please use find_element(by=By.CSS_SELECTOR, value=css_selector) instead\n",
      "  body_el = driver.find_element_by_css_selector(\"body\")\n"
     ]
    },
    {
     "name": "stdout",
     "output_type": "stream",
     "text": [
      "https://www.amazon.com/FUNKYMONKEY-Womens-Comfort-Adjustable-Sandals/dp/B07XDXGLB7/ref=zg_bs_fashion_30/134-8452567-0500404?pd_rd_i=B09LVFN5PX&psc=1 None None\n"
     ]
    },
    {
     "name": "stderr",
     "output_type": "stream",
     "text": [
      "/var/folders/3q/3sbzpm556tn_jsn0vdddr77c0000gp/T/ipykernel_52895/684386146.py:4: DeprecationWarning: find_element_by_css_selector is deprecated. Please use find_element(by=By.CSS_SELECTOR, value=css_selector) instead\n",
      "  body_el = driver.find_element_by_css_selector(\"body\")\n"
     ]
    },
    {
     "name": "stdout",
     "output_type": "stream",
     "text": [
      "https://www.amazon.com/luogongzi-Running-Athletic-Workout-Exercise/dp/B096QJST8W/ref=zg_bs_fashion_27/134-8452567-0500404?pd_rd_i=B096QJF1VY&psc=1 None None\n"
     ]
    },
    {
     "name": "stderr",
     "output_type": "stream",
     "text": [
      "/var/folders/3q/3sbzpm556tn_jsn0vdddr77c0000gp/T/ipykernel_52895/684386146.py:4: DeprecationWarning: find_element_by_css_selector is deprecated. Please use find_element(by=By.CSS_SELECTOR, value=css_selector) instead\n",
      "  body_el = driver.find_element_by_css_selector(\"body\")\n"
     ]
    },
    {
     "name": "stdout",
     "output_type": "stream",
     "text": [
      "https://www.amazon.com/Crocs-Littles-Clog-Ballerina-Infant/dp/B00RGP9FHG/ref=zg_bs_fashion_7/134-8452567-0500404?pd_rd_i=B06Y4Z81CR&psc=1 None None\n"
     ]
    },
    {
     "name": "stderr",
     "output_type": "stream",
     "text": [
      "/var/folders/3q/3sbzpm556tn_jsn0vdddr77c0000gp/T/ipykernel_52895/684386146.py:4: DeprecationWarning: find_element_by_css_selector is deprecated. Please use find_element(by=By.CSS_SELECTOR, value=css_selector) instead\n",
      "  body_el = driver.find_element_by_css_selector(\"body\")\n"
     ]
    },
    {
     "name": "stdout",
     "output_type": "stream",
     "text": [
      "https://www.amazon.com/Gildan-Cotton-T-Shirt-G2000-10-Pack/dp/B096W7BTDQ/ref=zg_bs_fashion_3/134-8452567-0500404?pd_rd_i=B09DPSCNSY&psc=1 None None\n"
     ]
    },
    {
     "name": "stderr",
     "output_type": "stream",
     "text": [
      "/var/folders/3q/3sbzpm556tn_jsn0vdddr77c0000gp/T/ipykernel_52895/684386146.py:4: DeprecationWarning: find_element_by_css_selector is deprecated. Please use find_element(by=By.CSS_SELECTOR, value=css_selector) instead\n",
      "  body_el = driver.find_element_by_css_selector(\"body\")\n"
     ]
    },
    {
     "name": "stdout",
     "output_type": "stream",
     "text": [
      "https://www.amazon.com/R-Vivimos-Womens-Bohemian-Dresses-X-Small/dp/B09YCJL38W/ref=zg_bs_fashion_5/134-8452567-0500404?pd_rd_i=B06XSGRHR6&psc=1 None None\n"
     ]
    },
    {
     "name": "stderr",
     "output_type": "stream",
     "text": [
      "/var/folders/3q/3sbzpm556tn_jsn0vdddr77c0000gp/T/ipykernel_52895/684386146.py:4: DeprecationWarning: find_element_by_css_selector is deprecated. Please use find_element(by=By.CSS_SELECTOR, value=css_selector) instead\n",
      "  body_el = driver.find_element_by_css_selector(\"body\")\n"
     ]
    },
    {
     "name": "stdout",
     "output_type": "stream",
     "text": [
      "https://www.amazon.com/Dickies-Multi-Pack-Dri-Tech-Moisture-Control/dp/B01N6YAVNM/ref=zg_bs_fashion_12/134-8452567-0500404?pd_rd_i=B07QTVKNNQ&psc=1 None None\n"
     ]
    },
    {
     "name": "stderr",
     "output_type": "stream",
     "text": [
      "/var/folders/3q/3sbzpm556tn_jsn0vdddr77c0000gp/T/ipykernel_52895/684386146.py:4: DeprecationWarning: find_element_by_css_selector is deprecated. Please use find_element(by=By.CSS_SELECTOR, value=css_selector) instead\n",
      "  body_el = driver.find_element_by_css_selector(\"body\")\n"
     ]
    },
    {
     "name": "stdout",
     "output_type": "stream",
     "text": [
      "https://www.amazon.com/VOENXE-Seamless-Thongs-Women-Underwear/dp/B07R29C46G/ref=zg_bs_fashion_23/134-8452567-0500404?pd_rd_i=B07SQDHHSW&psc=1 None None\n"
     ]
    },
    {
     "name": "stderr",
     "output_type": "stream",
     "text": [
      "/var/folders/3q/3sbzpm556tn_jsn0vdddr77c0000gp/T/ipykernel_52895/684386146.py:4: DeprecationWarning: find_element_by_css_selector is deprecated. Please use find_element(by=By.CSS_SELECTOR, value=css_selector) instead\n",
      "  body_el = driver.find_element_by_css_selector(\"body\")\n"
     ]
    },
    {
     "name": "stdout",
     "output_type": "stream",
     "text": [
      "https://www.amazon.com/Gildan-Mens-T-Shirt-Assortment-Small/dp/B077ZKF9ZN/ref=zg_bs_fashion_1/134-8452567-0500404?pd_rd_i=B091FNSFN1&psc=1 None None\n"
     ]
    },
    {
     "name": "stderr",
     "output_type": "stream",
     "text": [
      "/var/folders/3q/3sbzpm556tn_jsn0vdddr77c0000gp/T/ipykernel_52895/684386146.py:4: DeprecationWarning: find_element_by_css_selector is deprecated. Please use find_element(by=By.CSS_SELECTOR, value=css_selector) instead\n",
      "  body_el = driver.find_element_by_css_selector(\"body\")\n"
     ]
    },
    {
     "name": "stdout",
     "output_type": "stream",
     "text": [
      "https://www.amazon.com/YATHON-Spaghetti-Sundress-Dresses-YT090-Army/dp/B0895HRPCW/ref=zg_bs_fashion_20/134-8452567-0500404?pd_rd_i=B0895GRVYV&psc=1 None None\n"
     ]
    },
    {
     "name": "stderr",
     "output_type": "stream",
     "text": [
      "/var/folders/3q/3sbzpm556tn_jsn0vdddr77c0000gp/T/ipykernel_52895/684386146.py:4: DeprecationWarning: find_element_by_css_selector is deprecated. Please use find_element(by=By.CSS_SELECTOR, value=css_selector) instead\n",
      "  body_el = driver.find_element_by_css_selector(\"body\")\n"
     ]
    },
    {
     "name": "stdout",
     "output_type": "stream",
     "text": [
      "https://www.amazon.com/Cushionaire-Womens-Feather-recovery-Comfort/dp/B09DMZ7JTV/ref=zg_bs_fashion_11/134-8452567-0500404?pd_rd_i=B094SS9VK9&psc=1 None None\n"
     ]
    },
    {
     "name": "stderr",
     "output_type": "stream",
     "text": [
      "/var/folders/3q/3sbzpm556tn_jsn0vdddr77c0000gp/T/ipykernel_52895/684386146.py:4: DeprecationWarning: find_element_by_css_selector is deprecated. Please use find_element(by=By.CSS_SELECTOR, value=css_selector) instead\n",
      "  body_el = driver.find_element_by_css_selector(\"body\")\n"
     ]
    },
    {
     "name": "stdout",
     "output_type": "stream",
     "text": [
      "https://www.amazon.com/Levis-Womens-Plus-Size-Original-Mood-Dark/dp/B096MYZQ9H/ref=zg_bs_fashion_24/134-8452567-0500404?pd_rd_i=B09RQTMLXP&psc=1 None None\n"
     ]
    },
    {
     "name": "stderr",
     "output_type": "stream",
     "text": [
      "/var/folders/3q/3sbzpm556tn_jsn0vdddr77c0000gp/T/ipykernel_52895/684386146.py:4: DeprecationWarning: find_element_by_css_selector is deprecated. Please use find_element(by=By.CSS_SELECTOR, value=css_selector) instead\n",
      "  body_el = driver.find_element_by_css_selector(\"body\")\n"
     ]
    },
    {
     "name": "stdout",
     "output_type": "stream",
     "text": [
      "https://www.amazon.com/Womens-Wedding-V-Neck-Lantern-Dresses/dp/B09L15H5VG/ref=zg_bs_fashion_29/134-8452567-0500404?pd_rd_i=B09DS5ZMZ2&psc=1 None None\n"
     ]
    }
   ],
   "source": [
    "df_sub = df_sub.apply(row_scrape_event, axis=1)"
   ]
  },
  {
   "cell_type": "code",
   "execution_count": 32,
   "id": "e48448d3",
   "metadata": {},
   "outputs": [],
   "source": [
    "df.to_csv(product_output, index=False)"
   ]
  },
  {
   "cell_type": "code",
   "execution_count": 33,
   "id": "cd6785d9",
   "metadata": {},
   "outputs": [],
   "source": [
    "products_df = pd.read_csv(product_output)"
   ]
  },
  {
   "cell_type": "code",
   "execution_count": 34,
   "id": "7f1bc531",
   "metadata": {},
   "outputs": [],
   "source": [
    "final_df = pd.concat([products_df, df_sub])\n",
    "final_df.to_csv(product_output, index=False)"
   ]
  },
  {
   "cell_type": "code",
   "execution_count": 35,
   "id": "8831a1a7",
   "metadata": {},
   "outputs": [
    {
     "data": {
      "text/html": [
       "<div>\n",
       "<style scoped>\n",
       "    .dataframe tbody tr th:only-of-type {\n",
       "        vertical-align: middle;\n",
       "    }\n",
       "\n",
       "    .dataframe tbody tr th {\n",
       "        vertical-align: top;\n",
       "    }\n",
       "\n",
       "    .dataframe thead th {\n",
       "        text-align: right;\n",
       "    }\n",
       "</style>\n",
       "<table border=\"1\" class=\"dataframe\">\n",
       "  <thead>\n",
       "    <tr style=\"text-align: right;\">\n",
       "      <th></th>\n",
       "      <th>url</th>\n",
       "      <th>product_id</th>\n",
       "      <th>category</th>\n",
       "      <th>title</th>\n",
       "      <th>price</th>\n",
       "      <th>scraped</th>\n",
       "      <th>timestamp</th>\n",
       "    </tr>\n",
       "  </thead>\n",
       "  <tbody>\n",
       "    <tr>\n",
       "      <th>0</th>\n",
       "      <td>https://www.amazon.com/Glow-Sticks-Bulk-Party-...</td>\n",
       "      <td>B07ZV31J31</td>\n",
       "      <td>{'name': 'toys-and-games', 'url': 'https://www...</td>\n",
       "      <td>NaN</td>\n",
       "      <td>NaN</td>\n",
       "      <td>NaN</td>\n",
       "      <td>NaN</td>\n",
       "    </tr>\n",
       "    <tr>\n",
       "      <th>1</th>\n",
       "      <td>https://www.amazon.com/Bunch-Balloons-Zuru-Sel...</td>\n",
       "      <td>B07FL35M4Z</td>\n",
       "      <td>{'name': 'toys-and-games', 'url': 'https://www...</td>\n",
       "      <td>NaN</td>\n",
       "      <td>NaN</td>\n",
       "      <td>NaN</td>\n",
       "      <td>NaN</td>\n",
       "    </tr>\n",
       "    <tr>\n",
       "      <th>2</th>\n",
       "      <td>https://www.amazon.com/Aqua-Monterey-Multi-Pur...</td>\n",
       "      <td>B073WMYP6M</td>\n",
       "      <td>{'name': 'toys-and-games', 'url': 'https://www...</td>\n",
       "      <td>NaN</td>\n",
       "      <td>NaN</td>\n",
       "      <td>NaN</td>\n",
       "      <td>NaN</td>\n",
       "    </tr>\n",
       "    <tr>\n",
       "      <th>3</th>\n",
       "      <td>https://www.amazon.com/Barbie-Reveal-Costume-S...</td>\n",
       "      <td>B09KTFNNZ1</td>\n",
       "      <td>{'name': 'toys-and-games', 'url': 'https://www...</td>\n",
       "      <td>NaN</td>\n",
       "      <td>NaN</td>\n",
       "      <td>NaN</td>\n",
       "      <td>NaN</td>\n",
       "    </tr>\n",
       "    <tr>\n",
       "      <th>4</th>\n",
       "      <td>https://www.amazon.com/Kinetic-Sand-Online-Exc...</td>\n",
       "      <td>B09BW36FW6</td>\n",
       "      <td>{'name': 'toys-and-games', 'url': 'https://www...</td>\n",
       "      <td>NaN</td>\n",
       "      <td>NaN</td>\n",
       "      <td>NaN</td>\n",
       "      <td>NaN</td>\n",
       "    </tr>\n",
       "  </tbody>\n",
       "</table>\n",
       "</div>"
      ],
      "text/plain": [
       "                                                 url  product_id  \\\n",
       "0  https://www.amazon.com/Glow-Sticks-Bulk-Party-...  B07ZV31J31   \n",
       "1  https://www.amazon.com/Bunch-Balloons-Zuru-Sel...  B07FL35M4Z   \n",
       "2  https://www.amazon.com/Aqua-Monterey-Multi-Pur...  B073WMYP6M   \n",
       "3  https://www.amazon.com/Barbie-Reveal-Costume-S...  B09KTFNNZ1   \n",
       "4  https://www.amazon.com/Kinetic-Sand-Online-Exc...  B09BW36FW6   \n",
       "\n",
       "                                            category title price  scraped  \\\n",
       "0  {'name': 'toys-and-games', 'url': 'https://www...   NaN   NaN      NaN   \n",
       "1  {'name': 'toys-and-games', 'url': 'https://www...   NaN   NaN      NaN   \n",
       "2  {'name': 'toys-and-games', 'url': 'https://www...   NaN   NaN      NaN   \n",
       "3  {'name': 'toys-and-games', 'url': 'https://www...   NaN   NaN      NaN   \n",
       "4  {'name': 'toys-and-games', 'url': 'https://www...   NaN   NaN      NaN   \n",
       "\n",
       "   timestamp  \n",
       "0        NaN  \n",
       "1        NaN  \n",
       "2        NaN  \n",
       "3        NaN  \n",
       "4        NaN  "
      ]
     },
     "execution_count": 35,
     "metadata": {},
     "output_type": "execute_result"
    }
   ],
   "source": [
    "final_df.head()"
   ]
  },
  {
   "cell_type": "code",
   "execution_count": null,
   "id": "9c533576",
   "metadata": {},
   "outputs": [],
   "source": []
  }
 ],
 "metadata": {
  "kernelspec": {
   "display_name": "Python 3 (ipykernel)",
   "language": "python",
   "name": "python3"
  },
  "language_info": {
   "codemirror_mode": {
    "name": "ipython",
    "version": 3
   },
   "file_extension": ".py",
   "mimetype": "text/x-python",
   "name": "python",
   "nbconvert_exporter": "python",
   "pygments_lexer": "ipython3",
   "version": "3.9.7"
  }
 },
 "nbformat": 4,
 "nbformat_minor": 5
}

